{
 "cells": [
  {
   "cell_type": "markdown",
   "metadata": {},
   "source": [
    "**Import all necessary libraries"
   ]
  },
  {
   "cell_type": "code",
   "execution_count": 2,
   "metadata": {},
   "outputs": [
    {
     "name": "stdout",
     "output_type": "stream",
     "text": [
      "Requirement already satisfied: missingno in c:\\users\\hp\\anaconda3\\lib\\site-packages (0.4.2)\n",
      "Requirement already satisfied: matplotlib in c:\\users\\hp\\anaconda3\\lib\\site-packages (from missingno) (3.3.2)\n",
      "Requirement already satisfied: seaborn in c:\\users\\hp\\anaconda3\\lib\\site-packages (from missingno) (0.11.0)\n",
      "Requirement already satisfied: numpy in c:\\users\\hp\\anaconda3\\lib\\site-packages (from missingno) (1.19.2)\n",
      "Requirement already satisfied: scipy in c:\\users\\hp\\anaconda3\\lib\\site-packages (from missingno) (1.5.2)\n",
      "Requirement already satisfied: python-dateutil>=2.1 in c:\\users\\hp\\anaconda3\\lib\\site-packages (from matplotlib->missingno) (2.8.1)\n",
      "Requirement already satisfied: cycler>=0.10 in c:\\users\\hp\\anaconda3\\lib\\site-packages (from matplotlib->missingno) (0.10.0)\n",
      "Requirement already satisfied: pyparsing!=2.0.4,!=2.1.2,!=2.1.6,>=2.0.3 in c:\\users\\hp\\anaconda3\\lib\\site-packages (from matplotlib->missingno) (2.4.7)\n",
      "Requirement already satisfied: pillow>=6.2.0 in c:\\users\\hp\\anaconda3\\lib\\site-packages (from matplotlib->missingno) (8.0.1)\n",
      "Requirement already satisfied: certifi>=2020.06.20 in c:\\users\\hp\\anaconda3\\lib\\site-packages (from matplotlib->missingno) (2020.6.20)\n",
      "Requirement already satisfied: kiwisolver>=1.0.1 in c:\\users\\hp\\anaconda3\\lib\\site-packages (from matplotlib->missingno) (1.3.0)\n",
      "Requirement already satisfied: pandas>=0.23 in c:\\users\\hp\\anaconda3\\lib\\site-packages (from seaborn->missingno) (1.1.3)\n",
      "Requirement already satisfied: six>=1.5 in c:\\users\\hp\\anaconda3\\lib\\site-packages (from python-dateutil>=2.1->matplotlib->missingno) (1.15.0)\n",
      "Requirement already satisfied: pytz>=2017.2 in c:\\users\\hp\\anaconda3\\lib\\site-packages (from pandas>=0.23->seaborn->missingno) (2020.1)\n"
     ]
    }
   ],
   "source": [
    "import numpy as np\n",
    "import pandas as pd\n",
    "import matplotlib.pyplot as plt\n",
    "import seaborn as sns \n",
    "plt.style.use('fast')\n",
    "!pip install missingno\n",
    "import missingno as msngno \n",
    "%matplotlib inline\n",
    "import ast\n",
    "from sklearn.metrics import mean_squared_error\n",
    "from math import sqrt\n",
    "import warnings\n",
    "warnings.filterwarnings('ignore')"
   ]
  },
  {
   "cell_type": "markdown",
   "metadata": {},
   "source": [
    "**Loading the dataset, Train and Test\n",
    "I have also added additional features from an external source (both test and train)\n",
    "\n",
    "**Note: When the data is in the local machine, it is easier to load. The data was however loaded through GitHub link and it might take a while :)\n"
   ]
  },
  {
   "cell_type": "code",
   "execution_count": 3,
   "metadata": {},
   "outputs": [],
   "source": [
    "url_train = 'https://raw.githubusercontent.com/harshvr15/TMDB_BoxOffice_Prediction/main/train.csv'\n",
    "url_test = 'https://raw.githubusercontent.com/harshvr15/TMDB_BoxOffice_Prediction/main/test.csv'\n",
    "    \n",
    "url_train_add_features = 'https://raw.githubusercontent.com/harshvr15/TMDB_BoxOffice_Prediction/main/TrainAdditionalFeatures.csv'    \n",
    "url_test_add_features = 'https://raw.githubusercontent.com/harshvr15/TMDB_BoxOffice_Prediction/main/TestAdditionalFeatures.csv'\n",
    "\n",
    "train = pd.read_csv(url_train, index_col = 0)\n",
    "test = pd.read_csv(url_test, index_col = 0)\n",
    "\n",
    "train_extra = pd.read_csv(url_train_add_features)\n",
    "test_extra = pd.read_csv(url_test_add_features, index_col = 0)\n",
    "\n",
    "train = pd.merge(train, train_extra, how='left', on=['imdb_id'])\n",
    "test = pd.merge(test, test_extra, how='left', on=['imdb_id'])\n",
    "\n",
    "\n",
    "\n",
    "#train = pd.read_csv('train.csv')\n",
    "#test = pd.read_csv('test.csv')\n",
    "\n",
    "#train_extra = pd.read_csv('TrainAdditionalFeatures.csv')\n",
    "#test_extra = pd.read_csv('TestAdditionalFeatures.csv')\n",
    "\n",
    "#train = pd.merge(train, train_extra, how='left', on=['imdb_id'])\n",
    "#test = pd.merge(test, test_extra, how='left', on=['imdb_id'])"
   ]
  },
  {
   "cell_type": "code",
   "execution_count": 4,
   "metadata": {},
   "outputs": [
    {
     "data": {
      "text/plain": [
       "((3000, 26), (4398, 25))"
      ]
     },
     "execution_count": 4,
     "metadata": {},
     "output_type": "execute_result"
    }
   ],
   "source": [
    "train.shape, test.shape"
   ]
  },
  {
   "cell_type": "code",
   "execution_count": 5,
   "metadata": {},
   "outputs": [
    {
     "data": {
      "text/plain": [
       "((2887, 4), (4232, 4))"
      ]
     },
     "execution_count": 5,
     "metadata": {},
     "output_type": "execute_result"
    }
   ],
   "source": [
    "train_extra.shape, test_extra.shape"
   ]
  },
  {
   "cell_type": "markdown",
   "metadata": {},
   "source": [
    "**Checking the duplicates"
   ]
  },
  {
   "cell_type": "code",
   "execution_count": 6,
   "metadata": {},
   "outputs": [
    {
     "data": {
      "text/plain": [
       "(0, 0)"
      ]
     },
     "execution_count": 6,
     "metadata": {},
     "output_type": "execute_result"
    }
   ],
   "source": [
    "sum(train.duplicated()), sum(test.duplicated())"
   ]
  },
  {
   "cell_type": "markdown",
   "metadata": {},
   "source": [
    "**Fixing the values that were missing/wrong for the complete dataset\n",
    "These were pre-released in the discussion section"
   ]
  },
  {
   "cell_type": "code",
   "execution_count": 6,
   "metadata": {},
   "outputs": [],
   "source": [
    "train.loc[train['id'] == 16,'revenue'] = 192864          # Skinning\n",
    "train.loc[train['id'] == 90,'budget'] = 30000000         # Sommersby          \n",
    "train.loc[train['id'] == 118,'budget'] = 60000000        # Wild Hogs\n",
    "train.loc[train['id'] == 149,'budget'] = 18000000        # Beethoven\n",
    "train.loc[train['id'] == 313,'revenue'] = 12000000       # The Cookout \n",
    "train.loc[train['id'] == 451,'revenue'] = 12000000       # Chasing Liberty\n",
    "train.loc[train['id'] == 464,'budget'] = 20000000        # Parenthood\n",
    "train.loc[train['id'] == 470,'budget'] = 13000000        # The Karate Kid, Part II\n",
    "train.loc[train['id'] == 513,'budget'] = 930000          # From Prada to Nada\n",
    "train.loc[train['id'] == 797,'budget'] = 8000000         # Welcome to Dongmakgol\n",
    "train.loc[train['id'] == 819,'budget'] = 90000000        # Alvin and the Chipmunks: The Road Chip\n",
    "train.loc[train['id'] == 850,'budget'] = 90000000        # Modern Times\n",
    "train.loc[train['id'] == 1007,'budget'] = 2              # Zyzzyx Road \n",
    "train.loc[train['id'] == 1112,'budget'] = 7500000        # An Officer and a Gentleman\n",
    "train.loc[train['id'] == 1131,'budget'] = 4300000        # Smokey and the Bandit   \n",
    "train.loc[train['id'] == 1359,'budget'] = 10000000       # Stir Crazy \n",
    "train.loc[train['id'] == 1542,'budget'] = 1              # All at Once\n",
    "train.loc[train['id'] == 1570,'budget'] = 15800000       # Crocodile Dundee II\n",
    "train.loc[train['id'] == 1571,'budget'] = 4000000        # Lady and the Tramp\n",
    "train.loc[train['id'] == 1714,'budget'] = 46000000       # The Recruit\n",
    "train.loc[train['id'] == 1721,'budget'] = 17500000       # Cocoon\n",
    "train.loc[train['id'] == 1865,'revenue'] = 25000000      # Scooby-Doo 2: Monsters Unleashed\n",
    "train.loc[train['id'] == 1885,'budget'] = 12             # In the Cut\n",
    "train.loc[train['id'] == 2091,'budget'] = 10             # Deadfall\n",
    "train.loc[train['id'] == 2268,'budget'] = 17500000       # Madea Goes to Jail budget\n",
    "train.loc[train['id'] == 2491,'budget'] = 6              # Never Talk to Strangers\n",
    "train.loc[train['id'] == 2602,'budget'] = 31000000       # Mr. Holland's Opus\n",
    "train.loc[train['id'] == 2612,'budget'] = 15000000       # Field of Dreams\n",
    "train.loc[train['id'] == 2696,'budget'] = 10000000       # Nurse 3-D\n",
    "train.loc[train['id'] == 2801,'budget'] = 10000000       # Fracture\n",
    "train.loc[train['id'] == 335,'budget'] = 2 \n",
    "train.loc[train['id'] == 348,'budget'] = 12\n",
    "train.loc[train['id'] == 470,'budget'] = 13000000 \n",
    "train.loc[train['id'] == 513,'budget'] = 1100000\n",
    "train.loc[train['id'] == 640,'budget'] = 6 \n",
    "train.loc[train['id'] == 696,'budget'] = 1\n",
    "train.loc[train['id'] == 797,'budget'] = 8000000 \n",
    "train.loc[train['id'] == 850,'budget'] = 1500000\n",
    "train.loc[train['id'] == 1199,'budget'] = 5 \n",
    "train.loc[train['id'] == 1282,'budget'] = 9               # Death at a Funeral\n",
    "train.loc[train['id'] == 1347,'budget'] = 1\n",
    "train.loc[train['id'] == 1755,'budget'] = 2\n",
    "train.loc[train['id'] == 1801,'budget'] = 5\n",
    "train.loc[train['id'] == 1918,'budget'] = 592 \n",
    "train.loc[train['id'] == 2033,'budget'] = 4\n",
    "train.loc[train['id'] == 2118,'budget'] = 344 \n",
    "train.loc[train['id'] == 2252,'budget'] = 130\n",
    "train.loc[train['id'] == 2256,'budget'] = 1 \n",
    "train.loc[train['id'] == 2696,'budget'] = 10000000\n",
    "\n",
    "\n",
    "test.loc[test['id'] == 6733,'budget'] = 5000000\n",
    "test.loc[test['id'] == 3889,'budget'] = 15000000\n",
    "test.loc[test['id'] == 6683,'budget'] = 50000000\n",
    "test.loc[test['id'] == 5704,'budget'] = 4300000\n",
    "test.loc[test['id'] == 6109,'budget'] = 281756\n",
    "test.loc[test['id'] == 7242,'budget'] = 10000000\n",
    "test.loc[test['id'] == 7021,'budget'] = 17540562       #  Two Is a Family\n",
    "test.loc[test['id'] == 5591,'budget'] = 4000000        # The Orphanage\n",
    "test.loc[test['id'] == 4282,'budget'] = 20000000       # Big Top Pee-wee\n",
    "test.loc[test['id'] == 3033,'budget'] = 250 \n",
    "test.loc[test['id'] == 3051,'budget'] = 50\n",
    "test.loc[test['id'] == 3084,'budget'] = 337\n",
    "test.loc[test['id'] == 3224,'budget'] = 4  \n",
    "test.loc[test['id'] == 3594,'budget'] = 25  \n",
    "test.loc[test['id'] == 3619,'budget'] = 500  \n",
    "test.loc[test['id'] == 3831,'budget'] = 3  \n",
    "test.loc[test['id'] == 3935,'budget'] = 500  \n",
    "test.loc[test['id'] == 4049,'budget'] = 995946 \n",
    "test.loc[test['id'] == 4424,'budget'] = 3  \n",
    "test.loc[test['id'] == 4460,'budget'] = 8  \n",
    "test.loc[test['id'] == 4555,'budget'] = 1200000 \n",
    "test.loc[test['id'] == 4624,'budget'] = 30 \n",
    "test.loc[test['id'] == 4645,'budget'] = 500 \n",
    "test.loc[test['id'] == 4709,'budget'] = 450 \n",
    "test.loc[test['id'] == 4839,'budget'] = 7\n",
    "test.loc[test['id'] == 3125,'budget'] = 25 \n",
    "test.loc[test['id'] == 3142,'budget'] = 1\n",
    "test.loc[test['id'] == 3201,'budget'] = 450\n",
    "test.loc[test['id'] == 3222,'budget'] = 6\n",
    "test.loc[test['id'] == 3545,'budget'] = 38\n",
    "test.loc[test['id'] == 3670,'budget'] = 18\n",
    "test.loc[test['id'] == 3792,'budget'] = 19\n",
    "test.loc[test['id'] == 3881,'budget'] = 7\n",
    "test.loc[test['id'] == 3969,'budget'] = 400\n",
    "test.loc[test['id'] == 4196,'budget'] = 6\n",
    "test.loc[test['id'] == 4221,'budget'] = 11\n",
    "test.loc[test['id'] == 4222,'budget'] = 500\n",
    "test.loc[test['id'] == 4285,'budget'] = 11\n",
    "test.loc[test['id'] == 4319,'budget'] = 1\n",
    "test.loc[test['id'] == 4639,'budget'] = 10\n",
    "test.loc[test['id'] == 4719,'budget'] = 45\n",
    "test.loc[test['id'] == 4822,'budget'] = 22\n",
    "test.loc[test['id'] == 4829,'budget'] = 20\n",
    "test.loc[test['id'] == 4969,'budget'] = 20\n",
    "test.loc[test['id'] == 5021,'budget'] = 40 \n",
    "test.loc[test['id'] == 5035,'budget'] = 1 \n",
    "test.loc[test['id'] == 5063,'budget'] = 14 \n",
    "test.loc[test['id'] == 5119,'budget'] = 2 \n",
    "test.loc[test['id'] == 5214,'budget'] = 30 \n",
    "test.loc[test['id'] == 5221,'budget'] = 50 \n",
    "test.loc[test['id'] == 4903,'budget'] = 15\n",
    "test.loc[test['id'] == 4983,'budget'] = 3\n",
    "test.loc[test['id'] == 5102,'budget'] = 28\n",
    "test.loc[test['id'] == 5217,'budget'] = 75\n",
    "test.loc[test['id'] == 5224,'budget'] = 3 \n",
    "test.loc[test['id'] == 5469,'budget'] = 20 \n",
    "test.loc[test['id'] == 5840,'budget'] = 1 \n",
    "test.loc[test['id'] == 5960,'budget'] = 30\n",
    "test.loc[test['id'] == 6506,'budget'] = 11 \n",
    "test.loc[test['id'] == 6553,'budget'] = 280\n",
    "test.loc[test['id'] == 6561,'budget'] = 7\n",
    "test.loc[test['id'] == 6582,'budget'] = 218\n",
    "test.loc[test['id'] == 6638,'budget'] = 5\n",
    "test.loc[test['id'] == 6749,'budget'] = 8 \n",
    "test.loc[test['id'] == 6759,'budget'] = 50 \n",
    "test.loc[test['id'] == 6856,'budget'] = 10\n",
    "test.loc[test['id'] == 6858,'budget'] =  100\n",
    "test.loc[test['id'] == 6876,'budget'] =  250\n",
    "test.loc[test['id'] == 6972,'budget'] = 1\n",
    "test.loc[test['id'] == 7079,'budget'] = 8000000\n",
    "test.loc[test['id'] == 7150,'budget'] = 118\n",
    "test.loc[test['id'] == 6506,'budget'] = 118\n",
    "test.loc[test['id'] == 7225,'budget'] = 6\n",
    "test.loc[test['id'] == 7231,'budget'] = 85\n",
    "test.loc[test['id'] == 5222,'budget'] = 5\n",
    "test.loc[test['id'] == 5322,'budget'] = 90\n",
    "test.loc[test['id'] == 5350,'budget'] = 70\n",
    "test.loc[test['id'] == 5378,'budget'] = 10\n",
    "test.loc[test['id'] == 5545,'budget'] = 80\n",
    "test.loc[test['id'] == 5810,'budget'] = 8\n",
    "test.loc[test['id'] == 5926,'budget'] = 300\n",
    "test.loc[test['id'] == 5927,'budget'] = 4\n",
    "test.loc[test['id'] == 5986,'budget'] = 1\n",
    "test.loc[test['id'] == 6053,'budget'] = 20\n",
    "test.loc[test['id'] == 6104,'budget'] = 1\n",
    "test.loc[test['id'] == 6130,'budget'] = 30\n",
    "test.loc[test['id'] == 6301,'budget'] = 150\n",
    "test.loc[test['id'] == 6276,'budget'] = 100\n",
    "test.loc[test['id'] == 6473,'budget'] = 100\n",
    "test.loc[test['id'] == 6842,'budget'] = 30"
   ]
  },
  {
   "cell_type": "markdown",
   "metadata": {},
   "source": [
    "**Checking for null values for both train and test dataset**"
   ]
  },
  {
   "cell_type": "code",
   "execution_count": 5,
   "metadata": {},
   "outputs": [
    {
     "data": {
      "text/plain": [
       "id                          0\n",
       "belongs_to_collection    2396\n",
       "budget                      0\n",
       "genres                      7\n",
       "homepage                 2054\n",
       "imdb_id                     0\n",
       "original_language           0\n",
       "original_title              0\n",
       "overview                    8\n",
       "popularity                  0\n",
       "poster_path                 1\n",
       "production_companies      156\n",
       "production_countries       55\n",
       "release_date                0\n",
       "runtime                     2\n",
       "spoken_languages           20\n",
       "status                      0\n",
       "tagline                   597\n",
       "title                       0\n",
       "Keywords                  276\n",
       "cast                       13\n",
       "crew                       16\n",
       "revenue                     0\n",
       "popularity2               118\n",
       "rating                    118\n",
       "totalVotes                118\n",
       "dtype: int64"
      ]
     },
     "execution_count": 5,
     "metadata": {},
     "output_type": "execute_result"
    }
   ],
   "source": [
    "train.isna().sum()"
   ]
  },
  {
   "cell_type": "code",
   "execution_count": 6,
   "metadata": {},
   "outputs": [
    {
     "data": {
      "text/plain": [
       "id                          0\n",
       "belongs_to_collection    3521\n",
       "budget                      0\n",
       "genres                     16\n",
       "homepage                 2978\n",
       "imdb_id                     0\n",
       "original_language           0\n",
       "original_title              0\n",
       "overview                   14\n",
       "popularity                  0\n",
       "poster_path                 1\n",
       "production_companies      258\n",
       "production_countries      102\n",
       "release_date                1\n",
       "runtime                     4\n",
       "spoken_languages           42\n",
       "status                      2\n",
       "tagline                   863\n",
       "title                       3\n",
       "Keywords                  393\n",
       "cast                       13\n",
       "crew                       22\n",
       "popularity2               179\n",
       "rating                    179\n",
       "totalVotes                179\n",
       "dtype: int64"
      ]
     },
     "execution_count": 6,
     "metadata": {},
     "output_type": "execute_result"
    }
   ],
   "source": [
    "test.isna().sum()"
   ]
  },
  {
   "cell_type": "markdown",
   "metadata": {},
   "source": [
    "**Plotting the missing values to get a clear picture of how many variables have missing values"
   ]
  },
  {
   "cell_type": "code",
   "execution_count": 7,
   "metadata": {},
   "outputs": [
    {
     "data": {
      "image/png": "[encoded data removed]",
      "text/plain": [
       "<Figure size 432x288 with 1 Axes>"
      ]
     },
     "metadata": {
      "needs_background": "light"
     },
     "output_type": "display_data"
    },
    {
     "data": {
      "image/png": "[encoded data removed]",
      "text/plain": [
       "<Figure size 432x288 with 1 Axes>"
      ]
     },
     "metadata": {
      "needs_background": "light"
     },
     "output_type": "display_data"
    }
   ],
   "source": [
    "missing_values=train.isna().sum().sort_values(ascending=False)\n",
    "sns.barplot(missing_values[:10],missing_values[:10].index,palette=\"rocket\")\n",
    "plt.show()\n",
    "\n",
    "missing_values1=test.isna().sum().sort_values(ascending=False)\n",
    "sns.barplot(missing_values1[:10],missing_values1[:10].index,palette=\"rocket\")\n",
    "plt.show()"
   ]
  },
  {
   "cell_type": "markdown",
   "metadata": {},
   "source": [
    "**Mapping the plot for the number of non missing values "
   ]
  },
  {
   "cell_type": "code",
   "execution_count": 8,
   "metadata": {},
   "outputs": [
    {
     "data": {
      "text/plain": [
       "<AxesSubplot:>"
      ]
     },
     "execution_count": 8,
     "metadata": {},
     "output_type": "execute_result"
    },
    {
     "data": {
      "image/png": "[encoded data removed]",
      "text/plain": [
       "<Figure size 1728x720 with 3 Axes>"
      ]
     },
     "metadata": {
      "needs_background": "light"
     },
     "output_type": "display_data"
    }
   ],
   "source": [
    "msngno.bar(train)"
   ]
  },
  {
   "cell_type": "markdown",
   "metadata": {},
   "source": [
    "**Visualising correlation between missing values in different columns\n",
    "(might be missing values in the same row)"
   ]
  },
  {
   "cell_type": "code",
   "execution_count": 9,
   "metadata": {},
   "outputs": [
    {
     "data": {
      "text/plain": [
       "<AxesSubplot:>"
      ]
     },
     "execution_count": 9,
     "metadata": {},
     "output_type": "execute_result"
    },
    {
     "data": {
      "image/png": "[encoded data removed]",
      "text/plain": [
       "<Figure size 1440x864 with 2 Axes>"
      ]
     },
     "metadata": {
      "needs_background": "light"
     },
     "output_type": "display_data"
    }
   ],
   "source": [
    "msngno.heatmap(train)"
   ]
  },
  {
   "cell_type": "code",
   "execution_count": 10,
   "metadata": {},
   "outputs": [
    {
     "data": {
      "text/html": [
       "<div>\n",
       "<style scoped>\n",
       "    .dataframe tbody tr th:only-of-type {\n",
       "        vertical-align: middle;\n",
       "    }\n",
       "\n",
       "    .dataframe tbody tr th {\n",
       "        vertical-align: top;\n",
       "    }\n",
       "\n",
       "    .dataframe thead th {\n",
       "        text-align: right;\n",
       "    }\n",
       "</style>\n",
       "<table border=\"1\" class=\"dataframe\">\n",
       "  <thead>\n",
       "    <tr style=\"text-align: right;\">\n",
       "      <th></th>\n",
       "      <th>id</th>\n",
       "      <th>budget</th>\n",
       "      <th>popularity</th>\n",
       "      <th>runtime</th>\n",
       "      <th>revenue</th>\n",
       "      <th>popularity2</th>\n",
       "      <th>rating</th>\n",
       "      <th>totalVotes</th>\n",
       "    </tr>\n",
       "  </thead>\n",
       "  <tbody>\n",
       "    <tr>\n",
       "      <th>count</th>\n",
       "      <td>3000.000000</td>\n",
       "      <td>3.000000e+03</td>\n",
       "      <td>3000.000000</td>\n",
       "      <td>2998.000000</td>\n",
       "      <td>3.000000e+03</td>\n",
       "      <td>2882.000000</td>\n",
       "      <td>2882.000000</td>\n",
       "      <td>2882.000000</td>\n",
       "    </tr>\n",
       "    <tr>\n",
       "      <th>mean</th>\n",
       "      <td>1500.500000</td>\n",
       "      <td>2.266135e+07</td>\n",
       "      <td>8.463274</td>\n",
       "      <td>107.856571</td>\n",
       "      <td>6.668176e+07</td>\n",
       "      <td>8.029303</td>\n",
       "      <td>6.366308</td>\n",
       "      <td>933.938584</td>\n",
       "    </tr>\n",
       "    <tr>\n",
       "      <th>std</th>\n",
       "      <td>866.169729</td>\n",
       "      <td>3.702662e+07</td>\n",
       "      <td>12.104000</td>\n",
       "      <td>22.086434</td>\n",
       "      <td>1.375149e+08</td>\n",
       "      <td>4.959153</td>\n",
       "      <td>0.887465</td>\n",
       "      <td>1795.101380</td>\n",
       "    </tr>\n",
       "    <tr>\n",
       "      <th>min</th>\n",
       "      <td>1.000000</td>\n",
       "      <td>0.000000e+00</td>\n",
       "      <td>0.000001</td>\n",
       "      <td>0.000000</td>\n",
       "      <td>1.000000e+00</td>\n",
       "      <td>0.600000</td>\n",
       "      <td>1.000000</td>\n",
       "      <td>1.000000</td>\n",
       "    </tr>\n",
       "    <tr>\n",
       "      <th>25%</th>\n",
       "      <td>750.750000</td>\n",
       "      <td>0.000000e+00</td>\n",
       "      <td>4.018053</td>\n",
       "      <td>94.000000</td>\n",
       "      <td>2.401550e+06</td>\n",
       "      <td>5.046250</td>\n",
       "      <td>5.800000</td>\n",
       "      <td>82.000000</td>\n",
       "    </tr>\n",
       "    <tr>\n",
       "      <th>50%</th>\n",
       "      <td>1500.500000</td>\n",
       "      <td>8.000000e+06</td>\n",
       "      <td>7.374861</td>\n",
       "      <td>104.000000</td>\n",
       "      <td>1.680707e+07</td>\n",
       "      <td>7.503500</td>\n",
       "      <td>6.400000</td>\n",
       "      <td>292.500000</td>\n",
       "    </tr>\n",
       "    <tr>\n",
       "      <th>75%</th>\n",
       "      <td>2250.250000</td>\n",
       "      <td>3.000000e+07</td>\n",
       "      <td>10.890983</td>\n",
       "      <td>118.000000</td>\n",
       "      <td>6.877599e+07</td>\n",
       "      <td>9.987000</td>\n",
       "      <td>7.000000</td>\n",
       "      <td>900.500000</td>\n",
       "    </tr>\n",
       "    <tr>\n",
       "      <th>max</th>\n",
       "      <td>3000.000000</td>\n",
       "      <td>3.800000e+08</td>\n",
       "      <td>294.337037</td>\n",
       "      <td>338.000000</td>\n",
       "      <td>1.519558e+09</td>\n",
       "      <td>45.153000</td>\n",
       "      <td>9.000000</td>\n",
       "      <td>18931.000000</td>\n",
       "    </tr>\n",
       "  </tbody>\n",
       "</table>\n",
       "</div>"
      ],
      "text/plain": [
       "                id        budget   popularity      runtime       revenue  \\\n",
       "count  3000.000000  3.000000e+03  3000.000000  2998.000000  3.000000e+03   \n",
       "mean   1500.500000  2.266135e+07     8.463274   107.856571  6.668176e+07   \n",
       "std     866.169729  3.702662e+07    12.104000    22.086434  1.375149e+08   \n",
       "min       1.000000  0.000000e+00     0.000001     0.000000  1.000000e+00   \n",
       "25%     750.750000  0.000000e+00     4.018053    94.000000  2.401550e+06   \n",
       "50%    1500.500000  8.000000e+06     7.374861   104.000000  1.680707e+07   \n",
       "75%    2250.250000  3.000000e+07    10.890983   118.000000  6.877599e+07   \n",
       "max    3000.000000  3.800000e+08   294.337037   338.000000  1.519558e+09   \n",
       "\n",
       "       popularity2       rating    totalVotes  \n",
       "count  2882.000000  2882.000000   2882.000000  \n",
       "mean      8.029303     6.366308    933.938584  \n",
       "std       4.959153     0.887465   1795.101380  \n",
       "min       0.600000     1.000000      1.000000  \n",
       "25%       5.046250     5.800000     82.000000  \n",
       "50%       7.503500     6.400000    292.500000  \n",
       "75%       9.987000     7.000000    900.500000  \n",
       "max      45.153000     9.000000  18931.000000  "
      ]
     },
     "execution_count": 10,
     "metadata": {},
     "output_type": "execute_result"
    }
   ],
   "source": [
    "train.describe()"
   ]
  },
  {
   "cell_type": "markdown",
   "metadata": {},
   "source": [
    "**Various columns in the are in JSON format, converting it to dictionary"
   ]
  },
  {
   "cell_type": "code",
   "execution_count": 7,
   "metadata": {},
   "outputs": [],
   "source": [
    "dict_columns = ['belongs_to_collection', 'genres', 'production_companies',\n",
    "                'production_countries', 'spoken_languages', 'Keywords', 'cast', 'crew']\n",
    "\n",
    "def text_to_dict(df):\n",
    "    for column in dict_columns:\n",
    "        df[column] = df[column].apply(lambda x: {} if pd.isna(x) else ast.literal_eval(x) )\n",
    "    return df\n",
    "        \n",
    "train = text_to_dict(train)\n",
    "test = text_to_dict(test)"
   ]
  },
  {
   "cell_type": "markdown",
   "metadata": {},
   "source": [
    "**List out the different values in the columns\n",
    "These columns were all in JSON format and to have a clear picture I needed to look through the details of what information each column has that will be used for our modelling phase"
   ]
  },
  {
   "cell_type": "code",
   "execution_count": 12,
   "metadata": {},
   "outputs": [
    {
     "name": "stdout",
     "output_type": "stream",
     "text": [
      "0 [{'id': 313576, 'name': 'Hot Tub Time Machine Collection', 'poster_path': '/iEhb00TGPucF0b4joM1ieyY026U.jpg', 'backdrop_path': '/noeTVcgpBiD48fDjFVic1Vz7ope.jpg'}]\n",
      "1 [{'id': 107674, 'name': 'The Princess Diaries Collection', 'poster_path': '/wt5AMbxPTS4Kfjx7Fgm149qPfZl.jpg', 'backdrop_path': '/zSEtYD77pKRJlUPx34BJgUG9v1c.jpg'}]\n",
      "0 [{'id': 12, 'name': 'Adventure'}, {'id': 16, 'name': 'Animation'}, {'id': 10751, 'name': 'Family'}, {'id': 14, 'name': 'Fantasy'}]\n",
      "1 [{'id': 27, 'name': 'Horror'}, {'id': 878, 'name': 'Science Fiction'}]\n",
      "0 [{'id': 35, 'name': 'Comedy'}]\n",
      "1 [{'id': 35, 'name': 'Comedy'}, {'id': 18, 'name': 'Drama'}, {'id': 10751, 'name': 'Family'}, {'id': 10749, 'name': 'Romance'}]\n",
      "0 [{'iso_639_1': 'en', 'name': 'English'}]\n",
      "1 [{'iso_639_1': 'en', 'name': 'English'}]\n",
      "0 [{'id': 4379, 'name': 'time travel'}, {'id': 9663, 'name': 'sequel'}, {'id': 11830, 'name': 'hot tub'}, {'id': 179431, 'name': 'duringcreditsstinger'}]\n",
      "1 [{'id': 2505, 'name': 'coronation'}, {'id': 4263, 'name': 'duty'}, {'id': 6038, 'name': 'marriage'}, {'id': 13072, 'name': 'falling in love'}]\n",
      "0 [{'iso_3166_1': 'US', 'name': 'United States of America'}]\n",
      "1 [{'iso_3166_1': 'US', 'name': 'United States of America'}]\n",
      "0 [{'name': 'Paramount Pictures', 'id': 4}, {'name': 'United Artists', 'id': 60}, {'name': 'Metro-Goldwyn-Mayer (MGM)', 'id': 8411}]\n",
      "1 [{'name': 'Walt Disney Pictures', 'id': 2}]\n",
      "0 [{'cast_id': 4, 'character': 'Lou', 'credit_id': '52fe4ee7c3a36847f82afae7', 'gender': 2, 'id': 52997, 'name': 'Rob Corddry', 'order': 0, 'profile_path': '/k2zJL0V1nEZuFT08xUdOd3ucfXz.jpg'}, {'cast_id': 5, 'character': 'Nick', 'credit_id': '52fe4ee7c3a36847f82afaeb', 'gender': 2, 'id': 64342, 'name': 'Craig Robinson', 'order': 1, 'profile_path': '/tVaRMkJXOEVhYxtnnFuhqW0Rjzz.jpg'}, {'cast_id': 6, 'character': 'Jacob', 'credit_id': '52fe4ee7c3a36847f82afaef', 'gender': 2, 'id': 54729, 'name': 'Clark Duke', 'order': 2, 'profile_path': '/oNzK0umwm5Wn0wyEbOy6TVJCSBn.jpg'}, {'cast_id': 7, 'character': 'Adam Jr.', 'credit_id': '52fe4ee7c3a36847f82afaf3', 'gender': 2, 'id': 36801, 'name': 'Adam Scott', 'order': 3, 'profile_path': '/5gb65xz8bzd42yjMAl4zwo4cvKw.jpg'}, {'cast_id': 8, 'character': 'Hot Tub Repairman', 'credit_id': '52fe4ee7c3a36847f82afaf7', 'gender': 2, 'id': 54812, 'name': 'Chevy Chase', 'order': 4, 'profile_path': '/svjpyYtPwtjvRxX9IZnOmOkhDOt.jpg'}, {'cast_id': 9, 'character': 'Jill', 'credit_id': '52fe4ee7c3a36847f82afafb', 'gender': 1, 'id': 94098, 'name': 'Gillian Jacobs', 'order': 5, 'profile_path': '/rBnhe5vhNPnhRUdtYahBWx90fJM.jpg'}, {'cast_id': 10, 'character': 'Sophie', 'credit_id': '52fe4ee7c3a36847f82afaff', 'gender': 1, 'id': 1159009, 'name': 'Bianca Haase', 'order': 6, 'profile_path': '/4x3nbtD8q8phAJPmoGWXPvz0iM.jpg'}, {'cast_id': 11, 'character': 'Kelly', 'credit_id': '5524ec51c3a3687df3000dbb', 'gender': 1, 'id': 86624, 'name': 'Collette Wolfe', 'order': 7, 'profile_path': '/aSD4h5379b2eEw3bLou9ByLimmq.jpg'}, {'cast_id': 13, 'character': 'Brad', 'credit_id': '5524ec8ec3a3687ded000d72', 'gender': 2, 'id': 466505, 'name': 'Kumail Nanjiani', 'order': 9, 'profile_path': '/x4nAztHY72SVciRfxEsbhIVTsIu.jpg'}, {'cast_id': 14, 'character': 'Courtney', 'credit_id': '5524ec9bc3a3687df8000d13', 'gender': 1, 'id': 70776, 'name': 'Kellee Stewart', 'order': 10, 'profile_path': '/w3xmsEPmJc1Cf0dQ4aIn8YmlHbk.jpg'}, {'cast_id': 15, 'character': 'Terry', 'credit_id': '5524eca892514171cb008237', 'gender': 2, 'id': 347335, 'name': 'Josh Heald', 'order': 11, 'profile_path': '/pwXJIenrDMrG7t3zNfLvr8w1RGU.jpg'}, {'cast_id': 16, 'character': 'Susan', 'credit_id': '5524ecb7925141720c001116', 'gender': 0, 'id': 1451392, 'name': 'Gretchen Koerner', 'order': 12, 'profile_path': '/muULPexCTJGyJba4yKzxronpD50.jpg'}, {'cast_id': 17, 'character': 'Herself', 'credit_id': '5524ecc3c3a3687ded000d74', 'gender': 1, 'id': 98879, 'name': 'Lisa Loeb', 'order': 13, 'profile_path': '/bGqg58ca0bZR38z9HliUMmeNGE.jpg'}, {'cast_id': 18, 'character': 'Herself', 'credit_id': '5524ecd3c3a3687e11000ed3', 'gender': 1, 'id': 1394648, 'name': 'Jessica Williams', 'order': 14, 'profile_path': '/A4syKjkcYB92wLEhH0c0hC3BCpz.jpg'}, {'cast_id': 19, 'character': 'Himself', 'credit_id': '5524ece6925141718d001009', 'gender': 0, 'id': 1451393, 'name': 'Bruce Buffer', 'order': 15, 'profile_path': None}, {'cast_id': 20, 'character': 'Shot Girl', 'credit_id': '5524ecf5c3a3687e08000dc2', 'gender': 0, 'id': 1451394, 'name': 'Mariana Paola Vicente', 'order': 16, 'profile_path': '/ckPllza8624UHWGHCbLShkLxCD1.jpg'}, {'cast_id': 33, 'character': 'Choozy Doozy Host', 'credit_id': '555844da9251412afe0013a9', 'gender': 2, 'id': 2224, 'name': 'Christian Slater', 'order': 17, 'profile_path': '/3ElLWjnvchMS6Q4cIQOK8QNAoMG.jpg'}, {'cast_id': 35, 'character': 'Gary Winkle', 'credit_id': '55872027c3a3683853005074', 'gender': 0, 'id': 185805, 'name': 'Jason Jones', 'order': 18, 'profile_path': '/aIoCw6vo8AGMdsQRAI5g2t0yJT3.jpg'}, {'cast_id': 36, 'character': 'Bridesmaid', 'credit_id': '55efe971c3a368090c00cd1b', 'gender': 0, 'id': 1507448, 'name': 'Olivia Jordan', 'order': 19, 'profile_path': '/szMukAEiIDeasel0lvyaeyKuych.jpg'}, {'cast_id': 37, 'character': 'Christine', 'credit_id': '55efe980c3a36871bf008176', 'gender': 1, 'id': 1334091, 'name': 'Christine Bently', 'order': 20, 'profile_path': '/oUZltnGa55OXE52hfyPTfCshuNy.jpg'}, {'cast_id': 38, 'character': 'Excited Girl', 'credit_id': '55efe98e9251413e3201d316', 'gender': 0, 'id': 557803, 'name': 'Stacey Asaro', 'order': 21, 'profile_path': '/qTPdlr1dXf3kNdyHuDsgtGC0HCC.jpg'}, {'cast_id': 64, 'character': 'Adam (uncredited)', 'credit_id': '58f2135ac3a3682e95008b91', 'gender': 2, 'id': 3036, 'name': 'John Cusack', 'order': 22, 'profile_path': '/uKydQYuZ9TnCzvbQLtj6j98vWAT.jpg'}, {'cast_id': 65, 'character': 'J-Bird', 'credit_id': '59ac0240c3a3682cc802c399', 'gender': 2, 'id': 59256, 'name': 'Adam Herschman', 'order': 23, 'profile_path': '/wZMwiuX1DslF6hDS50z9OTN6z1X.jpg'}, {'cast_id': 66, 'character': 'Bridesmaid', 'credit_id': '59ac02cd925141079d02b1b4', 'gender': 1, 'id': 129714, 'name': 'Kisha Sierra', 'order': 24, 'profile_path': None}]\n",
      "1 [{'cast_id': 1, 'character': 'Mia Thermopolis', 'credit_id': '52fe43fe9251416c7502561f', 'gender': 1, 'id': 1813, 'name': 'Anne Hathaway', 'order': 0, 'profile_path': '/jUMOKwSUBnTcMeN1HfhutiY49Ad.jpg'}, {'cast_id': 2, 'character': 'Queen Clarisse Renaldi', 'credit_id': '52fe43fe9251416c75025623', 'gender': 1, 'id': 5823, 'name': 'Julie Andrews', 'order': 1, 'profile_path': '/6t61jkmfSA6nbYRCKR9s97CgUN6.jpg'}, {'cast_id': 3, 'character': 'Joe', 'credit_id': '52fe43fe9251416c75025627', 'gender': 2, 'id': 1210, 'name': 'H√©ctor Elizondo', 'order': 2, 'profile_path': '/48UNfVFZVr0jyMIlLPhzm8IIM7f.jpg'}, {'cast_id': 4, 'character': 'Viscount Mabrey', 'credit_id': '52fe43fe9251416c7502562b', 'gender': 2, 'id': 655, 'name': 'John Rhys-Davies', 'order': 3, 'profile_path': '/zZ67PuoFfik9QlZyfaEsFBC1yVJ.jpg'}, {'cast_id': 5, 'character': 'Lilly Moscovitz', 'credit_id': '52fe43fe9251416c7502562f', 'gender': 1, 'id': 33656, 'name': 'Heather Matarazzo', 'order': 4, 'profile_path': '/xcwR8aPuSkUCDPIyKU049M1CXph.jpg'}, {'cast_id': 6, 'character': 'Nicholas Devereaux', 'credit_id': '52fe43fe9251416c75025633', 'gender': 2, 'id': 62064, 'name': 'Chris Pine', 'order': 5, 'profile_path': '/vSe6sIsdtcoqBhuWRXynahFg8Vf.jpg'}, {'cast_id': 7, 'character': 'Andrew Jacoby', 'credit_id': '52fe43fe9251416c75025637', 'gender': 2, 'id': 68287, 'name': 'Callum Blue', 'order': 6, 'profile_path': '/3qf8rLoWmXOcCA8Rs9RPIEQ9yLB.jpg'}, {'cast_id': 17, 'character': 'Paolo', 'credit_id': '52fe43fe9251416c75025671', 'gender': 2, 'id': 1211, 'name': 'Larry Miller', 'order': 7, 'profile_path': '/xA8zCxNrwtamLaLWNBkLyX5tGtU.jpg'}, {'cast_id': 18, 'character': 'Asana', 'credit_id': '52fe43fe9251416c75025675', 'gender': 1, 'id': 66896, 'name': 'Raven-Symon√©', 'order': 8, 'profile_path': '/nzklI9bgqsUKVWlnQcT5lSrCyaM.jpg'}, {'cast_id': 19, 'character': 'Charlotte Kutaway', 'credit_id': '52fe43fe9251416c75025679', 'gender': 1, 'id': 303542, 'name': 'Kathleen Marshall', 'order': 9, 'profile_path': '/4ANxOHPa81aqLyP8BQxkwmZrWgK.jpg'}, {'cast_id': 21, 'character': \"Mia's Mom Helen\", 'credit_id': '5687f876c3a3685f8900e2a1', 'gender': 1, 'id': 6692, 'name': 'Caroline Goodall', 'order': 10, 'profile_path': '/f3L5WmEtGjjONTe8qvBZOy2dWTJ.jpg'}, {'cast_id': 20, 'character': 'Princess Lorraine', 'credit_id': '5687f825c3a36860e9023861', 'gender': 1, 'id': 966053, 'name': 'Lorraine Nicholson', 'order': 11, 'profile_path': '/eCsoySifBALa6UecWWQ6XShkkeV.jpg'}, {'cast_id': 22, 'character': 'Lady Salsa', 'credit_id': '56b67fc4c3a3680700009953', 'gender': 1, 'id': 95469, 'name': 'Shannon Wilcox', 'order': 12, 'profile_path': '/dQTvcWdLyB5RIWNQxk4DWn6ko59.jpg'}, {'cast_id': 23, 'character': 'Baron Siegfried von Troken', 'credit_id': '56c0ad8cc3a36817f400cc2d', 'gender': 2, 'id': 33832, 'name': 'Greg Lewis', 'order': 13, 'profile_path': '/ys6erqERBQhfTsvCiarmwH8daUm.jpg'}, {'cast_id': 24, 'character': 'Carolina', 'credit_id': '575e0b469251415dd2004e97', 'gender': 1, 'id': 17140, 'name': 'Abigail Breslin', 'order': 14, 'profile_path': '/5zM4beIvrFKICiJXhQCqY3ORngR.jpg'}, {'cast_id': 25, 'character': 'Lord Crawley', 'credit_id': '575e0bc1c3a3683731002094', 'gender': 2, 'id': 155403, 'name': 'Paul Vogt', 'order': 15, 'profile_path': None}, {'cast_id': 26, 'character': 'Monsieur Dupont', 'credit_id': '57c8cc429251410d5000019d', 'gender': 2, 'id': 1665036, 'name': 'Joseph Leo Bwarie', 'order': 16, 'profile_path': '/9H8u70pOBdk0xZsRcKIleBEAyLK.jpg'}, {'cast_id': 27, 'character': 'Lady Caroline', 'credit_id': '57dd9a1092514178550018e1', 'gender': 1, 'id': 83053, 'name': 'Hope Alexander-Willis', 'order': 17, 'profile_path': '/uMA3E1OUniek80LNbqf8ejK2edW.jpg'}, {'cast_id': 28, 'character': 'Lord Peroit', 'credit_id': '57eecf689251416cd60095c1', 'gender': 2, 'id': 1451161, 'name': 'Rowan Joseph', 'order': 18, 'profile_path': '/6zUforjrDfcPoP8YMsdIaoygHmz.jpg'}, {'cast_id': 29, 'character': 'Genovian Cafe Owner', 'credit_id': '57eed0ff9251415ddb00752b', 'gender': 2, 'id': 156005, 'name': 'Jeffrey Scott Jensen', 'order': 19, 'profile_path': '/mW0EwKomK5u3WSmkL60V2HWLhCu.jpg'}]\n",
      "0 [{'credit_id': '59ac067c92514107af02c8c8', 'department': 'Directing', 'gender': 0, 'id': 1449071, 'job': 'First Assistant Director', 'name': 'Kelly Cantley', 'profile_path': None}, {'credit_id': '52fe4ee7c3a36847f82afad7', 'department': 'Directing', 'gender': 2, 'id': 3227, 'job': 'Director', 'name': 'Steve Pink', 'profile_path': '/myHOgo8mQSCiCAZNGMRdHVr03jr.jpg'}, {'credit_id': '5524ed25c3a3687ded000d88', 'department': 'Writing', 'gender': 2, 'id': 347335, 'job': 'Writer', 'name': 'Josh Heald', 'profile_path': '/pwXJIenrDMrG7t3zNfLvr8w1RGU.jpg'}, {'credit_id': '5524ed2d925141720c001128', 'department': 'Writing', 'gender': 2, 'id': 347335, 'job': 'Characters', 'name': 'Josh Heald', 'profile_path': '/pwXJIenrDMrG7t3zNfLvr8w1RGU.jpg'}, {'credit_id': '5524ed3d92514166c1004a5d', 'department': 'Production', 'gender': 2, 'id': 57822, 'job': 'Producer', 'name': 'Andrew Panay', 'profile_path': None}, {'credit_id': '5524ed4bc3a3687df3000dd2', 'department': 'Production', 'gender': 0, 'id': 1451395, 'job': 'Associate Producer', 'name': 'Adam Blum', 'profile_path': None}, {'credit_id': '5524ed5a925141720c00112c', 'department': 'Production', 'gender': 2, 'id': 52997, 'job': 'Executive Producer', 'name': 'Rob Corddry', 'profile_path': '/k2zJL0V1nEZuFT08xUdOd3ucfXz.jpg'}, {'credit_id': '5524ed85c3a3687e0e000f56', 'department': 'Production', 'gender': 0, 'id': 62807, 'job': 'Executive Producer', 'name': 'Ben Ormand', 'profile_path': None}, {'credit_id': '5524ed9fc3a3687e0e000f59', 'department': 'Sound', 'gender': 2, 'id': 23486, 'job': 'Original Music Composer', 'name': 'Christophe Beck', 'profile_path': '/2fnJUmCk6IEpVIptpYaUk31epHx.jpg'}, {'credit_id': '5524eda6c3a3687e03000d28', 'department': 'Camera', 'gender': 2, 'id': 6117, 'job': 'Director of Photography', 'name': 'Declan Quinn', 'profile_path': None}, {'credit_id': '5524edb4925141720c00113d', 'department': 'Editing', 'gender': 0, 'id': 1451396, 'job': 'Editor', 'name': 'Jamie Gross', 'profile_path': None}, {'credit_id': '5524edc1925141727600102e', 'department': 'Production', 'gender': 0, 'id': 22219, 'job': 'Casting', 'name': 'Susie Farris', 'profile_path': None}, {'credit_id': '5524edd192514171cb008257', 'department': 'Art', 'gender': 0, 'id': 1002643, 'job': 'Production Design', 'name': 'Ryan Berg', 'profile_path': None}, {'credit_id': '555ad9be9251411e5b00d485', 'department': 'Production', 'gender': 2, 'id': 57431, 'job': 'Executive Producer', 'name': 'Matt Moore', 'profile_path': None}, {'credit_id': '5677e93bc3a36816890087dc', 'department': 'Directing', 'gender': 0, 'id': 1551818, 'job': 'Script Supervisor', 'name': 'Nicole Garcea', 'profile_path': None}, {'credit_id': '5677e96a92514179e10093d0', 'department': 'Production', 'gender': 0, 'id': 1551819, 'job': 'Production Coordinator', 'name': 'Jason Salzman', 'profile_path': None}, {'credit_id': '5677e98492514179d2008cd9', 'department': 'Costume & Make-Up', 'gender': 0, 'id': 1422996, 'job': 'Costume Design', 'name': 'Carol Cutshall', 'profile_path': None}, {'credit_id': '5677e9d5c3a368168e009414', 'department': 'Art', 'gender': 2, 'id': 500199, 'job': 'Set Decoration', 'name': 'Tim Cohn', 'profile_path': None}, {'credit_id': '5677f89d9251417845001a61', 'department': 'Costume & Make-Up', 'gender': 0, 'id': 1527917, 'job': 'Hair Department Head', 'name': 'Voni Hinkle', 'profile_path': None}, {'credit_id': '5677f8b392514179dd0089fb', 'department': 'Costume & Make-Up', 'gender': 0, 'id': 1431554, 'job': 'Makeup Department Head', 'name': 'Remi Savva', 'profile_path': None}, {'credit_id': '5677f8d1c3a3681689008a4b', 'department': 'Art', 'gender': 0, 'id': 66495, 'job': 'Art Direction', 'name': 'Jason Baldwin Stewart', 'profile_path': None}, {'credit_id': '5677f8eec3a3681685008dd5', 'department': 'Production', 'gender': 0, 'id': 1412466, 'job': 'Production Supervisor', 'name': 'Korey Budd', 'profile_path': None}, {'credit_id': '5677f90a9251417845001a7d', 'department': 'Sound', 'gender': 0, 'id': 1401562, 'job': 'Sound Re-Recording Mixer', 'name': 'Gary C. Bourgeois', 'profile_path': None}, {'credit_id': '5677f91e9251417845001a84', 'department': 'Sound', 'gender': 0, 'id': 1396794, 'job': 'Sound Re-Recording Mixer', 'name': 'Gabriel J. Serrano', 'profile_path': None}, {'credit_id': '5677f938c3a3681680008dd4', 'department': 'Editing', 'gender': 0, 'id': 13168, 'job': 'Dialogue Editor', 'name': 'Victoria Rose Sampson', 'profile_path': None}, {'credit_id': '5677f94e92514179dd008a1f', 'department': 'Sound', 'gender': 0, 'id': 1551839, 'job': 'Production Sound Mixer', 'name': 'Michael B. Koff', 'profile_path': None}, {'credit_id': '5677f968c3a368168e009698', 'department': 'Sound', 'gender': 0, 'id': 113052, 'job': 'Sound Effects Editor', 'name': 'Randall Guth', 'profile_path': None}, {'credit_id': '5677f98dc3a3681685008e02', 'department': 'Crew', 'gender': 2, 'id': 1442535, 'job': 'Stunt Coordinator', 'name': 'Chuck Picerni Jr.', 'profile_path': '/yE5QtXUzcrnCzMRctZL8F5g842B.jpg'}, {'credit_id': '5677f9a692514179dd008a49', 'department': 'Camera', 'gender': 0, 'id': 1437305, 'job': 'Camera Operator', 'name': 'Michael Applebaum', 'profile_path': None}, {'credit_id': '5677f9bd9251417845001aae', 'department': 'Camera', 'gender': 0, 'id': 1401765, 'job': 'Still Photographer', 'name': 'Steve Dietl', 'profile_path': None}, {'credit_id': '5677f9e592514179e7008bf7', 'department': 'Lighting', 'gender': 0, 'id': 1402721, 'job': 'Rigging Gaffer', 'name': 'Tarik Naim Alherimi', 'profile_path': None}, {'credit_id': '5677f9f4c3a368167c0090ed', 'department': 'Lighting', 'gender': 0, 'id': 1402719, 'job': 'Gaffer', 'name': 'Paul Olinde', 'profile_path': None}, {'credit_id': '5677fa21c3a368168e0096ca', 'department': 'Sound', 'gender': 0, 'id': 1551840, 'job': 'Music Supervisor', 'name': 'Steve Griffen', 'profile_path': None}, {'credit_id': '5677fa31c3a3681680008e04', 'department': 'Sound', 'gender': 0, 'id': 1551841, 'job': 'Music Editor', 'name': 'Matt Fausak', 'profile_path': None}, {'credit_id': '5677fa4392514179dd008a76', 'department': 'Sound', 'gender': 0, 'id': 1551840, 'job': 'Music Editor', 'name': 'Steve Griffen', 'profile_path': None}, {'credit_id': '5677fa609251417845001acf', 'department': 'Costume & Make-Up', 'gender': 0, 'id': 1403416, 'job': 'Costume Supervisor', 'name': 'Shonta T. McCray', 'profile_path': None}, {'credit_id': '5677fa8492514179d2008fb3', 'department': 'Camera', 'gender': 0, 'id': 1425831, 'job': 'Steadicam Operator', 'name': 'Mark Karavite', 'profile_path': None}, {'credit_id': '5677fab2c3a3681689008ac3', 'department': 'Camera', 'gender': 0, 'id': 1551842, 'job': 'First Assistant Camera', 'name': 'Joe Waistell', 'profile_path': None}, {'credit_id': '5677faecc3a368168e0096fe', 'department': 'Sound', 'gender': 0, 'id': 58362, 'job': 'Supervising Sound Editor', 'name': 'Michael Hilkene', 'profile_path': None}, {'credit_id': '59ac0368c3a3682c0a02c484', 'department': 'Crew', 'gender': 0, 'id': 1881584, 'job': 'Additional Writing', 'name': 'John Karnay', 'profile_path': None}, {'credit_id': '59ac0411c3a3682bf0028966', 'department': 'Costume & Make-Up', 'gender': 0, 'id': 1431552, 'job': 'Hairstylist', 'name': 'Daina Daigle', 'profile_path': None}, {'credit_id': '59ac0504925141072302b8fb', 'department': 'Costume & Make-Up', 'gender': 0, 'id': 1712001, 'job': 'Makeup Artist', 'name': 'Allison Gordin', 'profile_path': None}, {'credit_id': '59ac0570c3a3682bf0028aac', 'department': 'Costume & Make-Up', 'gender': 0, 'id': 578725, 'job': 'Makeup Artist', 'name': 'Darryl Lucas', 'profile_path': None}, {'credit_id': '59ac05a4925141077e02c97e', 'department': 'Costume & Make-Up', 'gender': 0, 'id': 1463274, 'job': 'Makeup Artist', 'name': 'Annabelle MacNeal', 'profile_path': None}, {'credit_id': '59ac05c6925141076502d106', 'department': 'Costume & Make-Up', 'gender': 0, 'id': 1881586, 'job': 'Makeup Artist', 'name': 'Marina Savva', 'profile_path': None}, {'credit_id': '59ac0615c3a3682c480296aa', 'department': 'Costume & Make-Up', 'gender': 0, 'id': 1406267, 'job': 'Hairstylist', 'name': 'Carl G. Variste', 'profile_path': None}, {'credit_id': '59ac06ba925141076502d1fa', 'department': 'Directing', 'gender': 0, 'id': 1798593, 'job': 'First Assistant Director', 'name': 'Josh King', 'profile_path': None}, {'credit_id': '59ac06f1c3a3682c2202aca0', 'department': 'Art', 'gender': 0, 'id': 1415083, 'job': 'Greensman', 'name': 'Scott C. Bivona', 'profile_path': None}, {'credit_id': '59ac072c925141076502d260', 'department': 'Art', 'gender': 0, 'id': 1881587, 'job': 'Title Designer', 'name': 'Eunha Choi', 'profile_path': None}, {'credit_id': '59ac077c925141077e02cb62', 'department': 'Art', 'gender': 0, 'id': 1585302, 'job': 'Construction Coordinator', 'name': 'Daniel Coe', 'profile_path': None}, {'credit_id': '59ac07e0925141078a02d842', 'department': 'Art', 'gender': 0, 'id': 1495523, 'job': 'Set Designer', 'name': 'Spencer Davison', 'profile_path': None}, {'credit_id': '59ac0862925141072f02cf6f', 'department': 'Art', 'gender': 0, 'id': 1881589, 'job': 'Painter', 'name': 'Sonia L. Garcia', 'profile_path': None}, {'credit_id': '59ac08e0c3a3682bf0028e51', 'department': 'Art', 'gender': 0, 'id': 1424896, 'job': 'Art Department Coordinator', 'name': 'Caleb Guillotte', 'profile_path': None}, {'credit_id': '59ac0920c3a3682c2202af36', 'department': 'Art', 'gender': 0, 'id': 1393375, 'job': 'Leadman', 'name': \"Pat A. O'Connor\", 'profile_path': None}, {'credit_id': '59ac095592514107af02cc39', 'department': 'Art', 'gender': 0, 'id': 1881592, 'job': 'Set Designer', 'name': 'Brendan Turrill', 'profile_path': None}, {'credit_id': '59ac0989925141072302bdfa', 'department': 'Art', 'gender': 2, 'id': 76497, 'job': 'Property Master', 'name': 'Brook Yeaton', 'profile_path': None}, {'credit_id': '59ac0a2cc3a3682c9c02add1', 'department': 'Sound', 'gender': 0, 'id': 1881596, 'job': 'Boom Operator', 'name': 'Matthew Armstrong', 'profile_path': None}, {'credit_id': '59ac0aa8925141072f02d282', 'department': 'Visual Effects', 'gender': 2, 'id': 1558086, 'job': 'Special Effects Supervisor', 'name': 'Matt Kutcher', 'profile_path': None}, {'credit_id': '59ac0b2ac3a3682c2202b192', 'department': 'Crew', 'gender': 2, 'id': 1558087, 'job': 'Special Effects Coordinator', 'name': 'Eric Roberts', 'profile_path': None}, {'credit_id': '59ac0b7ac3a3682c2202b1fb', 'department': 'Visual Effects', 'gender': 0, 'id': 1392098, 'job': 'Visual Effects Supervisor', 'name': 'Rocco Passionino', 'profile_path': None}, {'credit_id': '59ac0bbe925141077e02d0c4', 'department': 'Visual Effects', 'gender': 0, 'id': 1558716, 'job': 'Visual Effects Coordinator', 'name': 'Joseph Payo', 'profile_path': None}, {'credit_id': '59ac0bf2c3a3682cc802cefa', 'department': 'Visual Effects', 'gender': 0, 'id': 1408784, 'job': 'Visual Effects Producer', 'name': 'Chris Roff', 'profile_path': None}, {'credit_id': '59ac0c51c3a3682c48029d99', 'department': 'Lighting', 'gender': 0, 'id': 1881600, 'job': 'Best Boy Electric', 'name': 'Ulyan Atamanyuk', 'profile_path': None}, {'credit_id': '59ac0cbac3a3682c0a02cff6', 'department': 'Camera', 'gender': 0, 'id': 1881602, 'job': 'Key Grip', 'name': 'Chris Ekstrom', 'profile_path': None}, {'credit_id': '59ac0d54925141072f02d5e6', 'department': 'Lighting', 'gender': 0, 'id': 1484984, 'job': 'Best Boy Electric', 'name': 'Brad Garris', 'profile_path': None}, {'credit_id': '59ac0db0925141078a02df86', 'department': 'Camera', 'gender': 0, 'id': 1881603, 'job': 'Dolly Grip', 'name': 'Kendell Joseph', 'profile_path': None}, {'credit_id': '59ac0e5a925141077e02d39f', 'department': 'Camera', 'gender': 0, 'id': 1549179, 'job': 'Dolly Grip', 'name': 'Spencer Wilcox', 'profile_path': None}, {'credit_id': '59ac0e9f925141079d02bee6', 'department': 'Costume & Make-Up', 'gender': 0, 'id': 1552626, 'job': 'Key Costumer', 'name': 'Sarah P. Koeppe', 'profile_path': None}, {'credit_id': '59ac0ec1c3a3682bf0029524', 'department': 'Costume & Make-Up', 'gender': 0, 'id': 1881605, 'job': 'Seamstress', 'name': 'Catherine Rodi', 'profile_path': None}, {'credit_id': '59ac0eef925141070702c7ff', 'department': 'Costume & Make-Up', 'gender': 0, 'id': 1463801, 'job': 'Seamstress', 'name': 'Giselle Spence', 'profile_path': None}, {'credit_id': '59ac0f5dc3a3682c4802a0f5', 'department': 'Production', 'gender': 0, 'id': 1400837, 'job': 'Location Manager', 'name': 'John A. Johnston', 'profile_path': None}, {'credit_id': '59ac0ff2c3a3682c4802a196', 'department': 'Crew', 'gender': 0, 'id': 1844322, 'job': 'Production Controller', 'name': 'Gail Marks', 'profile_path': None}]\n",
      "1 [{'credit_id': '52fe43fe9251416c7502563d', 'department': 'Directing', 'gender': 2, 'id': 1201, 'job': 'Director', 'name': 'Garry Marshall', 'profile_path': '/kx77E8p5rnEmKxIhFT0qWCEMEik.jpg'}, {'credit_id': '52fe43fe9251416c75025667', 'department': 'Camera', 'gender': 2, 'id': 1214, 'job': 'Director of Photography', 'name': 'Charles Minsky', 'profile_path': None}, {'credit_id': '52fe43fe9251416c75025661', 'department': 'Sound', 'gender': 2, 'id': 4500, 'job': 'Original Music Composer', 'name': 'John Debney', 'profile_path': '/hTrlvZlDXQk49nfc2BM9sjKfJv.jpg'}, {'credit_id': '52fe43fe9251416c7502564f', 'department': 'Production', 'gender': 1, 'id': 8851, 'job': 'Producer', 'name': 'Whitney Houston', 'profile_path': '/69ouDnXnmklYPr4sMJXWKYz81AL.jpg'}, {'credit_id': '52fe43fe9251416c7502566d', 'department': 'Editing', 'gender': 0, 'id': 12970, 'job': 'Editor', 'name': 'Bruce Green', 'profile_path': '/yplxWPVgwK1b33AjvbhM9mWX2Aw.jpg'}, {'credit_id': '52fe43fe9251416c75025655', 'department': 'Production', 'gender': 2, 'id': 38415, 'job': 'Producer', 'name': 'Mario Iscovich', 'profile_path': None}, {'credit_id': '52fe43fe9251416c7502565b', 'department': 'Production', 'gender': 1, 'id': 38416, 'job': 'Executive Producer', 'name': 'Ellen H. Schwartz', 'profile_path': '/6WInjABr1sAYGXaa5qOvSrsHIqP.jpg'}, {'credit_id': '52fe43fe9251416c75025649', 'department': 'Production', 'gender': 1, 'id': 59973, 'job': 'Producer', 'name': 'Debra Martin Chase', 'profile_path': None}, {'credit_id': '52fe43fe9251416c75025643', 'department': 'Writing', 'gender': 1, 'id': 25539, 'job': 'Screenplay', 'name': 'Shonda Rhimes', 'profile_path': '/4c77e347InbTAlw9lGvORpZBHV6.jpg'}]\n"
     ]
    }
   ],
   "source": [
    "for count,value in enumerate(train['belongs_to_collection'][:2]):\n",
    "    print(count,value)\n",
    "\n",
    "for count,value in enumerate(test['genres'][:2]):\n",
    "    print(count,value)\n",
    "    \n",
    "for count,value in enumerate(train['genres'][:2]):\n",
    "    print(count,value)\n",
    "    \n",
    "for count,value in enumerate(train['spoken_languages'][:2]):\n",
    "    print(count,value)\n",
    "    \n",
    "for count,value in enumerate(train['Keywords'][:2]):\n",
    "    print(count,value)\n",
    "    \n",
    "for count,value in enumerate(train['production_countries'][:2]):\n",
    "    print(count,value)\n",
    "    \n",
    "for count,value in enumerate(train['production_companies'][:2]):\n",
    "    print(count,value)\n",
    "    \n",
    "for count,value in enumerate(train['cast'][:2]):\n",
    "    print(count,value)\n",
    "    \n",
    "for count,value in enumerate(train['crew'][:2]):\n",
    "    print(count,value)"
   ]
  },
  {
   "cell_type": "markdown",
   "metadata": {},
   "source": [
    "**The release date column was in an unstructured format and to analyse the data and it's features, I have dissolved the column in three seperate columns giving the year,month and day respectively."
   ]
  },
  {
   "cell_type": "code",
   "execution_count": 8,
   "metadata": {},
   "outputs": [],
   "source": [
    "train['release_year']=pd.to_datetime(train['release_date']).dt.year\n",
    "train['release_month']=pd.to_datetime(train['release_date']).dt.month\n",
    "train['release_day']=pd.to_datetime(train['release_date']).dt.dayofweek\n",
    "\n",
    "\n",
    "test['release_year']=pd.to_datetime(test['release_date']).dt.year\n",
    "test['release_month']=pd.to_datetime(test['release_date']).dt.month\n",
    "test['release_day']=pd.to_datetime(test['release_date']).dt.dayofweek\n"
   ]
  },
  {
   "cell_type": "markdown",
   "metadata": {},
   "source": [
    "**Imputing the missing values for Rating, TotalVotes, and Runtime by the average values in the dataset\n",
    "NOTE: The votes can't be in decimal hence I have rounded it upto the nearest integer."
   ]
  },
  {
   "cell_type": "code",
   "execution_count": 9,
   "metadata": {},
   "outputs": [],
   "source": [
    "train['rating']=train['rating'].fillna(train['rating'].mean())\n",
    "test['rating']=test['rating'].fillna(test['rating'].mean())\n",
    "\n",
    "train['totalVotes']=train['totalVotes'].fillna(train['totalVotes'].mean())\n",
    "train['totalVotes']=train['totalVotes'].round()\n",
    "test['totalVotes']=test['totalVotes'].fillna(test['totalVotes'].mean())\n",
    "test['totalVotes']=test['totalVotes'].round()\n",
    "\n",
    "train['runtime']=train['runtime'].fillna(train['runtime'].mean())\n",
    "test['runtime']=test['runtime'].fillna(test['runtime'].mean())"
   ]
  },
  {
   "cell_type": "code",
   "execution_count": 15,
   "metadata": {},
   "outputs": [
    {
     "data": {
      "text/html": [
       "<div>\n",
       "<style scoped>\n",
       "    .dataframe tbody tr th:only-of-type {\n",
       "        vertical-align: middle;\n",
       "    }\n",
       "\n",
       "    .dataframe tbody tr th {\n",
       "        vertical-align: top;\n",
       "    }\n",
       "\n",
       "    .dataframe thead th {\n",
       "        text-align: right;\n",
       "    }\n",
       "</style>\n",
       "<table border=\"1\" class=\"dataframe\">\n",
       "  <thead>\n",
       "    <tr style=\"text-align: right;\">\n",
       "      <th></th>\n",
       "      <th>id</th>\n",
       "      <th>belongs_to_collection</th>\n",
       "      <th>budget</th>\n",
       "      <th>genres</th>\n",
       "      <th>homepage</th>\n",
       "      <th>imdb_id</th>\n",
       "      <th>original_language</th>\n",
       "      <th>original_title</th>\n",
       "      <th>overview</th>\n",
       "      <th>popularity</th>\n",
       "      <th>...</th>\n",
       "      <th>Keywords</th>\n",
       "      <th>cast</th>\n",
       "      <th>crew</th>\n",
       "      <th>revenue</th>\n",
       "      <th>popularity2</th>\n",
       "      <th>rating</th>\n",
       "      <th>totalVotes</th>\n",
       "      <th>release_year</th>\n",
       "      <th>release_month</th>\n",
       "      <th>release_day</th>\n",
       "    </tr>\n",
       "  </thead>\n",
       "  <tbody>\n",
       "    <tr>\n",
       "      <th>0</th>\n",
       "      <td>1</td>\n",
       "      <td>[{'id': 313576, 'name': 'Hot Tub Time Machine ...</td>\n",
       "      <td>14000000</td>\n",
       "      <td>[{'id': 35, 'name': 'Comedy'}]</td>\n",
       "      <td>NaN</td>\n",
       "      <td>tt2637294</td>\n",
       "      <td>en</td>\n",
       "      <td>Hot Tub Time Machine 2</td>\n",
       "      <td>When Lou, who has become the \"father of the In...</td>\n",
       "      <td>6.575393</td>\n",
       "      <td>...</td>\n",
       "      <td>[{'id': 4379, 'name': 'time travel'}, {'id': 9...</td>\n",
       "      <td>[{'cast_id': 4, 'character': 'Lou', 'credit_id...</td>\n",
       "      <td>[{'credit_id': '59ac067c92514107af02c8c8', 'de...</td>\n",
       "      <td>12314651</td>\n",
       "      <td>10.400</td>\n",
       "      <td>5.000000</td>\n",
       "      <td>482.0</td>\n",
       "      <td>2015</td>\n",
       "      <td>2</td>\n",
       "      <td>4</td>\n",
       "    </tr>\n",
       "    <tr>\n",
       "      <th>1</th>\n",
       "      <td>2</td>\n",
       "      <td>[{'id': 107674, 'name': 'The Princess Diaries ...</td>\n",
       "      <td>40000000</td>\n",
       "      <td>[{'id': 35, 'name': 'Comedy'}, {'id': 18, 'nam...</td>\n",
       "      <td>NaN</td>\n",
       "      <td>tt0368933</td>\n",
       "      <td>en</td>\n",
       "      <td>The Princess Diaries 2: Royal Engagement</td>\n",
       "      <td>Mia Thermopolis is now a college graduate and ...</td>\n",
       "      <td>8.248895</td>\n",
       "      <td>...</td>\n",
       "      <td>[{'id': 2505, 'name': 'coronation'}, {'id': 42...</td>\n",
       "      <td>[{'cast_id': 1, 'character': 'Mia Thermopolis'...</td>\n",
       "      <td>[{'credit_id': '52fe43fe9251416c7502563d', 'de...</td>\n",
       "      <td>95149435</td>\n",
       "      <td>15.229</td>\n",
       "      <td>6.400000</td>\n",
       "      <td>1528.0</td>\n",
       "      <td>2004</td>\n",
       "      <td>8</td>\n",
       "      <td>4</td>\n",
       "    </tr>\n",
       "    <tr>\n",
       "      <th>2</th>\n",
       "      <td>3</td>\n",
       "      <td>{}</td>\n",
       "      <td>3300000</td>\n",
       "      <td>[{'id': 18, 'name': 'Drama'}]</td>\n",
       "      <td>http://sonyclassics.com/whiplash/</td>\n",
       "      <td>tt2582802</td>\n",
       "      <td>en</td>\n",
       "      <td>Whiplash</td>\n",
       "      <td>Under the direction of a ruthless instructor, ...</td>\n",
       "      <td>64.299990</td>\n",
       "      <td>...</td>\n",
       "      <td>[{'id': 1416, 'name': 'jazz'}, {'id': 1523, 'n...</td>\n",
       "      <td>[{'cast_id': 5, 'character': 'Andrew Neimann',...</td>\n",
       "      <td>[{'credit_id': '54d5356ec3a3683ba0000039', 'de...</td>\n",
       "      <td>13092000</td>\n",
       "      <td>26.082</td>\n",
       "      <td>8.400000</td>\n",
       "      <td>7314.0</td>\n",
       "      <td>2014</td>\n",
       "      <td>10</td>\n",
       "      <td>4</td>\n",
       "    </tr>\n",
       "    <tr>\n",
       "      <th>3</th>\n",
       "      <td>4</td>\n",
       "      <td>{}</td>\n",
       "      <td>1200000</td>\n",
       "      <td>[{'id': 53, 'name': 'Thriller'}, {'id': 18, 'n...</td>\n",
       "      <td>http://kahaanithefilm.com/</td>\n",
       "      <td>tt1821480</td>\n",
       "      <td>hi</td>\n",
       "      <td>Kahaani</td>\n",
       "      <td>Vidya Bagchi (Vidya Balan) arrives in Kolkata ...</td>\n",
       "      <td>3.174936</td>\n",
       "      <td>...</td>\n",
       "      <td>[{'id': 10092, 'name': 'mystery'}, {'id': 1054...</td>\n",
       "      <td>[{'cast_id': 1, 'character': 'Vidya Bagchi', '...</td>\n",
       "      <td>[{'credit_id': '52fe48779251416c9108d6eb', 'de...</td>\n",
       "      <td>16000000</td>\n",
       "      <td>5.531</td>\n",
       "      <td>7.500000</td>\n",
       "      <td>115.0</td>\n",
       "      <td>2012</td>\n",
       "      <td>3</td>\n",
       "      <td>4</td>\n",
       "    </tr>\n",
       "    <tr>\n",
       "      <th>4</th>\n",
       "      <td>5</td>\n",
       "      <td>{}</td>\n",
       "      <td>0</td>\n",
       "      <td>[{'id': 28, 'name': 'Action'}, {'id': 53, 'nam...</td>\n",
       "      <td>NaN</td>\n",
       "      <td>tt1380152</td>\n",
       "      <td>ko</td>\n",
       "      <td>마린보이</td>\n",
       "      <td>Marine Boy is the story of a former national s...</td>\n",
       "      <td>1.148070</td>\n",
       "      <td>...</td>\n",
       "      <td>{}</td>\n",
       "      <td>[{'cast_id': 3, 'character': 'Chun-soo', 'cred...</td>\n",
       "      <td>[{'credit_id': '52fe464b9251416c75073b43', 'de...</td>\n",
       "      <td>3923970</td>\n",
       "      <td>NaN</td>\n",
       "      <td>6.366308</td>\n",
       "      <td>934.0</td>\n",
       "      <td>2009</td>\n",
       "      <td>2</td>\n",
       "      <td>3</td>\n",
       "    </tr>\n",
       "  </tbody>\n",
       "</table>\n",
       "<p>5 rows × 29 columns</p>\n",
       "</div>"
      ],
      "text/plain": [
       "   id                              belongs_to_collection    budget  \\\n",
       "0   1  [{'id': 313576, 'name': 'Hot Tub Time Machine ...  14000000   \n",
       "1   2  [{'id': 107674, 'name': 'The Princess Diaries ...  40000000   \n",
       "2   3                                                 {}   3300000   \n",
       "3   4                                                 {}   1200000   \n",
       "4   5                                                 {}         0   \n",
       "\n",
       "                                              genres  \\\n",
       "0                     [{'id': 35, 'name': 'Comedy'}]   \n",
       "1  [{'id': 35, 'name': 'Comedy'}, {'id': 18, 'nam...   \n",
       "2                      [{'id': 18, 'name': 'Drama'}]   \n",
       "3  [{'id': 53, 'name': 'Thriller'}, {'id': 18, 'n...   \n",
       "4  [{'id': 28, 'name': 'Action'}, {'id': 53, 'nam...   \n",
       "\n",
       "                            homepage    imdb_id original_language  \\\n",
       "0                                NaN  tt2637294                en   \n",
       "1                                NaN  tt0368933                en   \n",
       "2  http://sonyclassics.com/whiplash/  tt2582802                en   \n",
       "3         http://kahaanithefilm.com/  tt1821480                hi   \n",
       "4                                NaN  tt1380152                ko   \n",
       "\n",
       "                             original_title  \\\n",
       "0                    Hot Tub Time Machine 2   \n",
       "1  The Princess Diaries 2: Royal Engagement   \n",
       "2                                  Whiplash   \n",
       "3                                   Kahaani   \n",
       "4                                      마린보이   \n",
       "\n",
       "                                            overview  popularity  ...  \\\n",
       "0  When Lou, who has become the \"father of the In...    6.575393  ...   \n",
       "1  Mia Thermopolis is now a college graduate and ...    8.248895  ...   \n",
       "2  Under the direction of a ruthless instructor, ...   64.299990  ...   \n",
       "3  Vidya Bagchi (Vidya Balan) arrives in Kolkata ...    3.174936  ...   \n",
       "4  Marine Boy is the story of a former national s...    1.148070  ...   \n",
       "\n",
       "                                            Keywords  \\\n",
       "0  [{'id': 4379, 'name': 'time travel'}, {'id': 9...   \n",
       "1  [{'id': 2505, 'name': 'coronation'}, {'id': 42...   \n",
       "2  [{'id': 1416, 'name': 'jazz'}, {'id': 1523, 'n...   \n",
       "3  [{'id': 10092, 'name': 'mystery'}, {'id': 1054...   \n",
       "4                                                 {}   \n",
       "\n",
       "                                                cast  \\\n",
       "0  [{'cast_id': 4, 'character': 'Lou', 'credit_id...   \n",
       "1  [{'cast_id': 1, 'character': 'Mia Thermopolis'...   \n",
       "2  [{'cast_id': 5, 'character': 'Andrew Neimann',...   \n",
       "3  [{'cast_id': 1, 'character': 'Vidya Bagchi', '...   \n",
       "4  [{'cast_id': 3, 'character': 'Chun-soo', 'cred...   \n",
       "\n",
       "                                                crew   revenue  popularity2  \\\n",
       "0  [{'credit_id': '59ac067c92514107af02c8c8', 'de...  12314651       10.400   \n",
       "1  [{'credit_id': '52fe43fe9251416c7502563d', 'de...  95149435       15.229   \n",
       "2  [{'credit_id': '54d5356ec3a3683ba0000039', 'de...  13092000       26.082   \n",
       "3  [{'credit_id': '52fe48779251416c9108d6eb', 'de...  16000000        5.531   \n",
       "4  [{'credit_id': '52fe464b9251416c75073b43', 'de...   3923970          NaN   \n",
       "\n",
       "     rating totalVotes release_year release_month release_day  \n",
       "0  5.000000      482.0         2015             2           4  \n",
       "1  6.400000     1528.0         2004             8           4  \n",
       "2  8.400000     7314.0         2014            10           4  \n",
       "3  7.500000      115.0         2012             3           4  \n",
       "4  6.366308      934.0         2009             2           3  \n",
       "\n",
       "[5 rows x 29 columns]"
      ]
     },
     "execution_count": 15,
     "metadata": {},
     "output_type": "execute_result"
    }
   ],
   "source": [
    "train.head()"
   ]
  },
  {
   "cell_type": "markdown",
   "metadata": {},
   "source": [
    "**Extracting the required data from the converted dictionary columns "
   ]
  },
  {
   "cell_type": "code",
   "execution_count": 10,
   "metadata": {},
   "outputs": [],
   "source": [
    "train['numberofgenres']=train['genres'].apply(lambda x: len(x) if x != {} else 0)\n",
    "train['nameofcollection'] = train['belongs_to_collection'].apply(lambda x: x[0]['name'] if x != {} else 0)\n",
    "train['genres_info'] = train['genres'].apply(lambda x: x[0]['name'] if x != {} else 0)\n",
    "train['language'] = train['spoken_languages'].apply(lambda x: x[0]['name'] if x != {} else 0)\n",
    "train['production_country'] = train['production_countries'].apply(lambda x: x[0]['name'] if x != {} else 0)\n",
    "train['production_company'] = train['production_companies'].apply(lambda x: x[0]['name'] if x != {} else 0)"
   ]
  },
  {
   "cell_type": "code",
   "execution_count": 11,
   "metadata": {},
   "outputs": [],
   "source": [
    "test['numberofgenres']=train['genres'].apply(lambda x: len(x) if x != {} else 0)\n",
    "test['numberofgenres']=test['numberofgenres'].replace(np.nan,0)\n",
    "test['nameofcollection'] = test['belongs_to_collection'].apply(lambda x: x[0]['name'] if x != {} else 0)\n",
    "test['genres_info'] = test['genres'].apply(lambda x: x[0]['name'] if x != {} else 0)\n",
    "test['language'] = test['spoken_languages'].apply(lambda x: x[0]['name'] if x != {} else 0)\n",
    "test['production_country'] = test['production_countries'].apply(lambda x: x[0]['name'] if x != {} else 0)\n",
    "test['production_company'] = test['production_companies'].apply(lambda x: x[0]['name'] if x != {} else 0)"
   ]
  },
  {
   "cell_type": "markdown",
   "metadata": {},
   "source": [
    "**Exploring skewness of the Budget"
   ]
  },
  {
   "cell_type": "code",
   "execution_count": 18,
   "metadata": {},
   "outputs": [
    {
     "data": {
      "text/plain": [
       "<AxesSubplot:xlabel='budget', ylabel='Density'>"
      ]
     },
     "execution_count": 18,
     "metadata": {},
     "output_type": "execute_result"
    },
    {
     "data": {
      "image/png": "[encoded data removed]",
      "text/plain": [
       "<Figure size 864x360 with 2 Axes>"
      ]
     },
     "metadata": {
      "needs_background": "light"
     },
     "output_type": "display_data"
    }
   ],
   "source": [
    "train = train.astype({\"budget\":'Int32',})\n",
    "fig, ax = plt.subplots(1,2,figsize=(12,5))\n",
    "sns.distplot(train['budget'],ax=ax[0],color='black')\n",
    "sns.distplot(np.log1p(train['budget']),ax=ax[1],color='black')\n"
   ]
  },
  {
   "cell_type": "markdown",
   "metadata": {},
   "source": [
    "**Exploring the skewness of the target variable \"Revenue\""
   ]
  },
  {
   "cell_type": "code",
   "execution_count": 19,
   "metadata": {},
   "outputs": [
    {
     "data": {
      "text/plain": [
       "<AxesSubplot:xlabel='revenue', ylabel='Density'>"
      ]
     },
     "execution_count": 19,
     "metadata": {},
     "output_type": "execute_result"
    },
    {
     "data": {
      "image/png": "[encoded data removed]",
      "text/plain": [
       "<Figure size 864x360 with 2 Axes>"
      ]
     },
     "metadata": {
      "needs_background": "light"
     },
     "output_type": "display_data"
    }
   ],
   "source": [
    "fig, ax = plt.subplots(1,2,figsize=(12,5))\n",
    "sns.distplot(train['revenue'],ax=ax[0],color='black')\n",
    "sns.distplot(np.log(train['revenue']),ax=ax[1],color='black')\n"
   ]
  },
  {
   "cell_type": "markdown",
   "metadata": {},
   "source": [
    "**Feature Engineering (Test and Train)"
   ]
  },
  {
   "cell_type": "code",
   "execution_count": 12,
   "metadata": {},
   "outputs": [],
   "source": [
    "train['lang_english']=0\n",
    "train.loc[train['original_language'].astype(str)==\"en\",\"lang_english\"]=1\n",
    "\n",
    "train['bud_runtime']=(train['budget']+1)/(train['runtime']+1)\n",
    "\n",
    "train['bud_year']=(train['budget']+1)/(train['release_year']+1)\n",
    "\n",
    "train['bud_popularity']=(train['budget']+1)/(train['popularity']+1)\n",
    "\n",
    "train['runtime_year']=(train['runtime']+1)/(train['release_year']+1)\n",
    "\n",
    "train['popularity_year']=(train['popularity']+1)/(train['release_year']+1)"
   ]
  },
  {
   "cell_type": "code",
   "execution_count": 13,
   "metadata": {},
   "outputs": [],
   "source": [
    "test['lang_english']=0\n",
    "test.loc[test['original_language'].astype(str)==\"en\",\"lang_english\"]=1\n",
    "\n",
    "test['bud_runtime']=(test['budget']+1)/(test['runtime']+1)\n",
    "\n",
    "test['bud_year']=(test['budget']+1)/(test['release_year']+1)\n",
    "\n",
    "test['bud_popularity']=(test['budget']+1)/(test['popularity']+1)\n",
    "\n",
    "test['runtime_year']=(test['runtime']+1)/(test['release_year']+1)\n",
    "\n",
    "test['popularity_year']=(test['popularity']+1)/(test['release_year']+1)"
   ]
  },
  {
   "cell_type": "markdown",
   "metadata": {},
   "source": [
    "**Encoding of some variables as per our requirement (Train and Test)"
   ]
  },
  {
   "cell_type": "code",
   "execution_count": 14,
   "metadata": {},
   "outputs": [],
   "source": [
    "train['homepage'] = train['homepage'].fillna(0)\n",
    "train['homepage'] = train['homepage'].apply(lambda x: 0 if x==0 else 1)\n",
    "\n",
    "train['overview'] = train['overview'].fillna(0)\n",
    "train['overview'] = train['overview'].apply(lambda x: 0 if x==0 else 1)\n",
    "\n",
    "train['poster_path'] = train['poster_path'].fillna(0)\n",
    "train['poster_path'] = train['poster_path'].apply(lambda x: 0 if x==0 else 1)\n",
    "\n",
    "train['tagline'] = train['tagline'].fillna(0)\n",
    "train['tagline'] = train['tagline'].apply(lambda x: 0 if x==0 else 1)\n"
   ]
  },
  {
   "cell_type": "code",
   "execution_count": 15,
   "metadata": {},
   "outputs": [],
   "source": [
    "test['homepage'] = test['homepage'].fillna(0)\n",
    "test['homepage'] = test['homepage'].apply(lambda x: 0 if x==0 else 1)\n",
    "\n",
    "test['overview'] = test['overview'].fillna(0)\n",
    "test['overview'] = test['overview'].apply(lambda x: 0 if x==0 else 1)\n",
    "\n",
    "test['poster_path'] = test['overview'].fillna(0)\n",
    "test['poster_path'] = test['poster_path'].apply(lambda x: 0 if x==0 else 1)\n",
    "\n",
    "test['tagline'] = test['tagline'].fillna(0)\n",
    "test['tagline'] = test['tagline'].apply(lambda x: 0 if x==0 else 1)"
   ]
  },
  {
   "cell_type": "code",
   "execution_count": 24,
   "metadata": {},
   "outputs": [
    {
     "data": {
      "text/plain": [
       "id                         0\n",
       "belongs_to_collection      0\n",
       "budget                     0\n",
       "genres                     0\n",
       "homepage                   0\n",
       "imdb_id                    0\n",
       "original_language          0\n",
       "original_title             0\n",
       "overview                   0\n",
       "popularity                 0\n",
       "poster_path                0\n",
       "production_companies       0\n",
       "production_countries       0\n",
       "release_date               0\n",
       "runtime                    0\n",
       "spoken_languages           0\n",
       "status                     0\n",
       "tagline                    0\n",
       "title                      0\n",
       "Keywords                   0\n",
       "cast                       0\n",
       "crew                       0\n",
       "revenue                    0\n",
       "popularity2              118\n",
       "rating                     0\n",
       "totalVotes                 0\n",
       "release_year               0\n",
       "release_month              0\n",
       "release_day                0\n",
       "numberofgenres             0\n",
       "nameofcollection           0\n",
       "genres_info                0\n",
       "language                   0\n",
       "production_country         0\n",
       "production_company         0\n",
       "lang_english               0\n",
       "bud_runtime                0\n",
       "bud_year                   0\n",
       "bud_popularity             0\n",
       "runtime_year               0\n",
       "popularity_year            0\n",
       "dtype: int64"
      ]
     },
     "execution_count": 24,
     "metadata": {},
     "output_type": "execute_result"
    }
   ],
   "source": [
    "train.isna().sum()"
   ]
  },
  {
   "cell_type": "code",
   "execution_count": 25,
   "metadata": {},
   "outputs": [
    {
     "data": {
      "text/plain": [
       "id                         0\n",
       "belongs_to_collection      0\n",
       "budget                     0\n",
       "genres                     0\n",
       "homepage                   0\n",
       "imdb_id                    0\n",
       "original_language          0\n",
       "original_title             0\n",
       "overview                   0\n",
       "popularity                 0\n",
       "poster_path                0\n",
       "production_companies       0\n",
       "production_countries       0\n",
       "release_date               1\n",
       "runtime                    0\n",
       "spoken_languages           0\n",
       "status                     2\n",
       "tagline                    0\n",
       "title                      3\n",
       "Keywords                   0\n",
       "cast                       0\n",
       "crew                       0\n",
       "popularity2              179\n",
       "rating                     0\n",
       "totalVotes                 0\n",
       "release_year               1\n",
       "release_month              1\n",
       "release_day                1\n",
       "numberofgenres             0\n",
       "nameofcollection           0\n",
       "genres_info                0\n",
       "language                   0\n",
       "production_country         0\n",
       "production_company         0\n",
       "lang_english               0\n",
       "bud_runtime                0\n",
       "bud_year                   1\n",
       "bud_popularity             0\n",
       "runtime_year               1\n",
       "popularity_year            1\n",
       "dtype: int64"
      ]
     },
     "execution_count": 25,
     "metadata": {},
     "output_type": "execute_result"
    }
   ],
   "source": [
    "test.isna().sum()"
   ]
  },
  {
   "cell_type": "markdown",
   "metadata": {},
   "source": [
    "**There were few missing values in the test as seen above in the dates section\n",
    "Imputing year,month and day by the Mode and the continuous variables by the Mean"
   ]
  },
  {
   "cell_type": "code",
   "execution_count": 16,
   "metadata": {},
   "outputs": [],
   "source": [
    "test['release_year']=test['release_year'].fillna(test['release_year'].mode()[0])\n",
    "test['release_month']=test['release_month'].fillna(test['release_month'].mode()[0])\n",
    "test['release_day']=test['release_day'].fillna(test['release_day'].mode()[0])\n",
    "\n",
    "test['bud_year']=test['bud_year'].fillna(test['bud_year'].mean())\n",
    "\n",
    "test['popularity_year']=test['popularity_year'].fillna(test['popularity_year'].mean())\n",
    "\n",
    "test['runtime_year']=test['runtime_year'].fillna(test['runtime_year'].mean())"
   ]
  },
  {
   "cell_type": "markdown",
   "metadata": {},
   "source": [
    "**Release Year VS Revenue"
   ]
  },
  {
   "cell_type": "code",
   "execution_count": 27,
   "metadata": {},
   "outputs": [
    {
     "data": {
      "text/plain": [
       "Text(0.5, 1.0, 'Release Year vs Revenue')"
      ]
     },
     "execution_count": 27,
     "metadata": {},
     "output_type": "execute_result"
    },
    {
     "data": {
      "image/png": "[encoded data removed]",
      "text/plain": [
       "<Figure size 432x288 with 1 Axes>"
      ]
     },
     "metadata": {
      "needs_background": "light"
     },
     "output_type": "display_data"
    }
   ],
   "source": [
    "train.groupby('release_year')['revenue'].mean().plot(color='black')\n",
    "plt.xlabel('Release_year',fontsize = 10)\n",
    "plt.ylabel('Revenue',fontsize = 10);\n",
    "plt.title(\"Release Year vs Revenue\")"
   ]
  },
  {
   "cell_type": "markdown",
   "metadata": {},
   "source": [
    "**We have revenue for the movies upto 2060!! Fishy :)"
   ]
  },
  {
   "cell_type": "code",
   "execution_count": 17,
   "metadata": {},
   "outputs": [],
   "source": [
    "train =train.loc[(train['release_year']<=2020)]"
   ]
  },
  {
   "cell_type": "code",
   "execution_count": 29,
   "metadata": {},
   "outputs": [
    {
     "data": {
      "text/plain": [
       "Text(0.5, 1.0, 'Release Year vs Revenue')"
      ]
     },
     "execution_count": 29,
     "metadata": {},
     "output_type": "execute_result"
    },
    {
     "data": {
      "image/png": "[encoded data removed]",
      "text/plain": [
       "<Figure size 432x288 with 1 Axes>"
      ]
     },
     "metadata": {
      "needs_background": "light"
     },
     "output_type": "display_data"
    }
   ],
   "source": [
    "train.groupby('release_year')['revenue'].mean().plot(color='black')\n",
    "plt.xticks(np.arange(1970,2020,4),rotation=45)\n",
    "plt.xlabel('Release_year',fontsize = 10)\n",
    "plt.ylabel('Revenue',fontsize = 10);\n",
    "plt.title(\"Release Year vs Revenue\")"
   ]
  },
  {
   "cell_type": "markdown",
   "metadata": {},
   "source": [
    "**Release Month VS Revenue"
   ]
  },
  {
   "cell_type": "code",
   "execution_count": 30,
   "metadata": {},
   "outputs": [
    {
     "data": {
      "text/plain": [
       "Text(0.5, 1.0, 'Release Month vs Revenue')"
      ]
     },
     "execution_count": 30,
     "metadata": {},
     "output_type": "execute_result"
    },
    {
     "data": {
      "image/png": "[encoded data removed]",
      "text/plain": [
       "<Figure size 432x288 with 1 Axes>"
      ]
     },
     "metadata": {
      "needs_background": "light"
     },
     "output_type": "display_data"
    }
   ],
   "source": [
    "train.groupby('release_month')['revenue'].mean().plot(color='black')\n",
    "plt.xlabel('Release_month',fontsize = 10)\n",
    "plt.ylabel('Revenue',fontsize = 10)\n",
    "plt.title(\"Release Month vs Revenue\")"
   ]
  },
  {
   "cell_type": "markdown",
   "metadata": {},
   "source": [
    "**Release Day VS Revenue"
   ]
  },
  {
   "cell_type": "code",
   "execution_count": 31,
   "metadata": {},
   "outputs": [
    {
     "data": {
      "text/plain": [
       "Text(0.5, 1.0, 'Release Day vs Revenue')"
      ]
     },
     "execution_count": 31,
     "metadata": {},
     "output_type": "execute_result"
    },
    {
     "data": {
      "image/png": "[encoded data removed]",
      "text/plain": [
       "<Figure size 432x288 with 1 Axes>"
      ]
     },
     "metadata": {
      "needs_background": "light"
     },
     "output_type": "display_data"
    }
   ],
   "source": [
    "train.groupby('release_day')['revenue'].mean().plot(color='black')\n",
    "plt.xlabel('Release_day',fontsize = 10)\n",
    "plt.ylabel('Revenue',fontsize = 10)\n",
    "plt.title(\"Release Day vs Revenue\")"
   ]
  },
  {
   "cell_type": "markdown",
   "metadata": {},
   "source": [
    "**Movie Released VS Year"
   ]
  },
  {
   "cell_type": "code",
   "execution_count": 32,
   "metadata": {},
   "outputs": [
    {
     "data": {
      "image/png": "[encoded data removed]",
      "text/plain": [
       "<Figure size 1440x720 with 1 Axes>"
      ]
     },
     "metadata": {
      "needs_background": "light"
     },
     "output_type": "display_data"
    }
   ],
   "source": [
    "plt.figure(figsize=(20,10))\n",
    "sns.countplot(x='release_year',data=train,palette=\"rocket\")\n",
    "plt.title(\"Movie Released VS Year\",fontsize=15)\n",
    "loc, labels = plt.xticks()\n",
    "plt.xlabel('Year',fontsize = 10)\n",
    "plt.ylabel('Number of Movies',fontsize = 10)\n",
    "plt.xticks(fontsize=15,rotation='vertical')\n",
    "plt.show()"
   ]
  },
  {
   "cell_type": "markdown",
   "metadata": {},
   "source": [
    "**Movie Released VS Day of week"
   ]
  },
  {
   "cell_type": "code",
   "execution_count": 33,
   "metadata": {},
   "outputs": [
    {
     "data": {
      "image/png": "[encoded data removed]",
      "text/plain": [
       "<Figure size 720x720 with 1 Axes>"
      ]
     },
     "metadata": {
      "needs_background": "light"
     },
     "output_type": "display_data"
    }
   ],
   "source": [
    "plt.figure(figsize=(10,10))\n",
    "sns.countplot(x='release_day',data=train,palette=\"rocket\")\n",
    "loc, labels = plt.xticks()\n",
    "loc, labels = loc, ['Monday','Tuesday','Wednesday','Thursday',\"Friday\",\"Saturday\",\"Sunday\"]\n",
    "plt.xticks(loc, labels,fontsize=15)\n",
    "plt.xlabel('Release_day',fontsize = 10)\n",
    "plt.ylabel('Number of Movies',fontsize = 10)\n",
    "plt.title(\"Movies released VS Day of week\",fontsize=15)\n",
    "plt.show()"
   ]
  },
  {
   "cell_type": "markdown",
   "metadata": {},
   "source": [
    "**Revenue VS Budget"
   ]
  },
  {
   "cell_type": "code",
   "execution_count": 34,
   "metadata": {},
   "outputs": [
    {
     "data": {
      "image/png": "[encoded data removed]",
      "text/plain": [
       "<Figure size 864x576 with 1 Axes>"
      ]
     },
     "metadata": {
      "needs_background": "light"
     },
     "output_type": "display_data"
    }
   ],
   "source": [
    "train[['budget','revenue']].plot(kind='scatter',x='budget',y='revenue',figsize=(12,8))\n",
    "plt.title(\"Revenue VS Budget\",fontsize=15)\n",
    "plt.xlabel('Budget',fontsize = 10)\n",
    "plt.ylabel('Revenue',fontsize = 10)\n",
    "plt.show()"
   ]
  },
  {
   "cell_type": "markdown",
   "metadata": {},
   "source": [
    "**Revenue of movies VS Status"
   ]
  },
  {
   "cell_type": "code",
   "execution_count": 35,
   "metadata": {},
   "outputs": [
    {
     "data": {
      "text/plain": [
       "<Figure size 720x360 with 0 Axes>"
      ]
     },
     "metadata": {},
     "output_type": "display_data"
    },
    {
     "data": {
      "image/png": "[encoded data removed]",
      "text/plain": [
       "<Figure size 360x360 with 1 Axes>"
      ]
     },
     "metadata": {
      "needs_background": "light"
     },
     "output_type": "display_data"
    }
   ],
   "source": [
    "plt.figure(figsize=(10,5))\n",
    "sns.catplot(x='status', y='revenue', data=train,palette='rocket')\n",
    "plt.title('Revenue of movies VS Status',fontsize=13);\n",
    "plt.show()"
   ]
  },
  {
   "cell_type": "code",
   "execution_count": 36,
   "metadata": {},
   "outputs": [
    {
     "data": {
      "text/html": [
       "<div>\n",
       "<style scoped>\n",
       "    .dataframe tbody tr th:only-of-type {\n",
       "        vertical-align: middle;\n",
       "    }\n",
       "\n",
       "    .dataframe tbody tr th {\n",
       "        vertical-align: top;\n",
       "    }\n",
       "\n",
       "    .dataframe thead th {\n",
       "        text-align: right;\n",
       "    }\n",
       "</style>\n",
       "<table border=\"1\" class=\"dataframe\">\n",
       "  <thead>\n",
       "    <tr style=\"text-align: right;\">\n",
       "      <th></th>\n",
       "      <th>id</th>\n",
       "      <th>budget</th>\n",
       "      <th>homepage</th>\n",
       "      <th>overview</th>\n",
       "      <th>popularity</th>\n",
       "      <th>poster_path</th>\n",
       "      <th>runtime</th>\n",
       "      <th>tagline</th>\n",
       "      <th>revenue</th>\n",
       "      <th>popularity2</th>\n",
       "      <th>...</th>\n",
       "      <th>release_year</th>\n",
       "      <th>release_month</th>\n",
       "      <th>release_day</th>\n",
       "      <th>numberofgenres</th>\n",
       "      <th>lang_english</th>\n",
       "      <th>bud_runtime</th>\n",
       "      <th>bud_year</th>\n",
       "      <th>bud_popularity</th>\n",
       "      <th>runtime_year</th>\n",
       "      <th>popularity_year</th>\n",
       "    </tr>\n",
       "  </thead>\n",
       "  <tbody>\n",
       "    <tr>\n",
       "      <th>count</th>\n",
       "      <td>2840.000000</td>\n",
       "      <td>2.840000e+03</td>\n",
       "      <td>2840.000000</td>\n",
       "      <td>2840.000000</td>\n",
       "      <td>2840.000000</td>\n",
       "      <td>2840.000000</td>\n",
       "      <td>2840.000000</td>\n",
       "      <td>2840.000000</td>\n",
       "      <td>2.840000e+03</td>\n",
       "      <td>2726.000000</td>\n",
       "      <td>...</td>\n",
       "      <td>2840.000000</td>\n",
       "      <td>2840.000000</td>\n",
       "      <td>2840.000000</td>\n",
       "      <td>2840.000000</td>\n",
       "      <td>2840.000000</td>\n",
       "      <td>2.840000e+03</td>\n",
       "      <td>2840.000000</td>\n",
       "      <td>2.840000e+03</td>\n",
       "      <td>2840.000000</td>\n",
       "      <td>2840.000000</td>\n",
       "    </tr>\n",
       "    <tr>\n",
       "      <th>mean</th>\n",
       "      <td>1499.569014</td>\n",
       "      <td>2.374878e+07</td>\n",
       "      <td>0.332042</td>\n",
       "      <td>0.997183</td>\n",
       "      <td>8.573721</td>\n",
       "      <td>0.999648</td>\n",
       "      <td>107.309054</td>\n",
       "      <td>0.796831</td>\n",
       "      <td>6.948397e+07</td>\n",
       "      <td>8.118789</td>\n",
       "      <td>...</td>\n",
       "      <td>2002.297535</td>\n",
       "      <td>6.742958</td>\n",
       "      <td>3.305634</td>\n",
       "      <td>2.502113</td>\n",
       "      <td>0.855634</td>\n",
       "      <td>2.201377e+05</td>\n",
       "      <td>11836.425060</td>\n",
       "      <td>2.391353e+06</td>\n",
       "      <td>0.054065</td>\n",
       "      <td>0.004775</td>\n",
       "    </tr>\n",
       "    <tr>\n",
       "      <th>std</th>\n",
       "      <td>868.290215</td>\n",
       "      <td>3.774326e+07</td>\n",
       "      <td>0.471029</td>\n",
       "      <td>0.053009</td>\n",
       "      <td>12.390547</td>\n",
       "      <td>0.018765</td>\n",
       "      <td>21.249041</td>\n",
       "      <td>0.402428</td>\n",
       "      <td>1.406456e+08</td>\n",
       "      <td>5.015623</td>\n",
       "      <td>...</td>\n",
       "      <td>10.802619</td>\n",
       "      <td>3.400079</td>\n",
       "      <td>1.276044</td>\n",
       "      <td>1.117599</td>\n",
       "      <td>0.351523</td>\n",
       "      <td>4.211415e+05</td>\n",
       "      <td>18779.709030</td>\n",
       "      <td>4.253962e+06</td>\n",
       "      <td>0.010598</td>\n",
       "      <td>0.006147</td>\n",
       "    </tr>\n",
       "    <tr>\n",
       "      <th>min</th>\n",
       "      <td>1.000000</td>\n",
       "      <td>0.000000e+00</td>\n",
       "      <td>0.000000</td>\n",
       "      <td>0.000000</td>\n",
       "      <td>0.000001</td>\n",
       "      <td>0.000000</td>\n",
       "      <td>0.000000</td>\n",
       "      <td>0.000000</td>\n",
       "      <td>1.000000e+00</td>\n",
       "      <td>0.600000</td>\n",
       "      <td>...</td>\n",
       "      <td>1971.000000</td>\n",
       "      <td>1.000000</td>\n",
       "      <td>0.000000</td>\n",
       "      <td>0.000000</td>\n",
       "      <td>0.000000</td>\n",
       "      <td>5.291005e-03</td>\n",
       "      <td>0.000496</td>\n",
       "      <td>2.598444e-02</td>\n",
       "      <td>0.000496</td>\n",
       "      <td>0.000500</td>\n",
       "    </tr>\n",
       "    <tr>\n",
       "      <th>25%</th>\n",
       "      <td>752.750000</td>\n",
       "      <td>0.000000e+00</td>\n",
       "      <td>0.000000</td>\n",
       "      <td>1.000000</td>\n",
       "      <td>4.133600</td>\n",
       "      <td>1.000000</td>\n",
       "      <td>94.000000</td>\n",
       "      <td>1.000000</td>\n",
       "      <td>2.458063e+06</td>\n",
       "      <td>5.151500</td>\n",
       "      <td>...</td>\n",
       "      <td>1995.000000</td>\n",
       "      <td>4.000000</td>\n",
       "      <td>3.000000</td>\n",
       "      <td>2.000000</td>\n",
       "      <td>1.000000</td>\n",
       "      <td>1.190476e-02</td>\n",
       "      <td>0.000504</td>\n",
       "      <td>7.030674e-01</td>\n",
       "      <td>0.047619</td>\n",
       "      <td>0.002564</td>\n",
       "    </tr>\n",
       "    <tr>\n",
       "      <th>50%</th>\n",
       "      <td>1500.500000</td>\n",
       "      <td>9.550000e+06</td>\n",
       "      <td>0.000000</td>\n",
       "      <td>1.000000</td>\n",
       "      <td>7.428286</td>\n",
       "      <td>1.000000</td>\n",
       "      <td>104.000000</td>\n",
       "      <td>1.000000</td>\n",
       "      <td>1.797028e+07</td>\n",
       "      <td>7.549500</td>\n",
       "      <td>...</td>\n",
       "      <td>2005.000000</td>\n",
       "      <td>7.000000</td>\n",
       "      <td>4.000000</td>\n",
       "      <td>2.000000</td>\n",
       "      <td>1.000000</td>\n",
       "      <td>8.910892e+04</td>\n",
       "      <td>4742.961828</td>\n",
       "      <td>1.134663e+06</td>\n",
       "      <td>0.052369</td>\n",
       "      <td>0.004215</td>\n",
       "    </tr>\n",
       "    <tr>\n",
       "      <th>75%</th>\n",
       "      <td>2255.250000</td>\n",
       "      <td>3.000000e+07</td>\n",
       "      <td>1.000000</td>\n",
       "      <td>1.000000</td>\n",
       "      <td>10.940463</td>\n",
       "      <td>1.000000</td>\n",
       "      <td>117.000000</td>\n",
       "      <td>1.000000</td>\n",
       "      <td>7.319676e+07</td>\n",
       "      <td>10.050250</td>\n",
       "      <td>...</td>\n",
       "      <td>2011.000000</td>\n",
       "      <td>10.000000</td>\n",
       "      <td>4.000000</td>\n",
       "      <td>3.000000</td>\n",
       "      <td>1.000000</td>\n",
       "      <td>2.806687e+05</td>\n",
       "      <td>14977.534199</td>\n",
       "      <td>3.306451e+06</td>\n",
       "      <td>0.059028</td>\n",
       "      <td>0.005956</td>\n",
       "    </tr>\n",
       "    <tr>\n",
       "      <th>max</th>\n",
       "      <td>3000.000000</td>\n",
       "      <td>3.800000e+08</td>\n",
       "      <td>1.000000</td>\n",
       "      <td>1.000000</td>\n",
       "      <td>294.337037</td>\n",
       "      <td>1.000000</td>\n",
       "      <td>338.000000</td>\n",
       "      <td>1.000000</td>\n",
       "      <td>1.519558e+09</td>\n",
       "      <td>45.153000</td>\n",
       "      <td>...</td>\n",
       "      <td>2017.000000</td>\n",
       "      <td>12.000000</td>\n",
       "      <td>6.000000</td>\n",
       "      <td>7.000000</td>\n",
       "      <td>1.000000</td>\n",
       "      <td>1.100000e+07</td>\n",
       "      <td>188866.799702</td>\n",
       "      <td>1.124231e+08</td>\n",
       "      <td>0.168573</td>\n",
       "      <td>0.146351</td>\n",
       "    </tr>\n",
       "  </tbody>\n",
       "</table>\n",
       "<p>8 rows × 22 columns</p>\n",
       "</div>"
      ],
      "text/plain": [
       "                id        budget     homepage     overview   popularity  \\\n",
       "count  2840.000000  2.840000e+03  2840.000000  2840.000000  2840.000000   \n",
       "mean   1499.569014  2.374878e+07     0.332042     0.997183     8.573721   \n",
       "std     868.290215  3.774326e+07     0.471029     0.053009    12.390547   \n",
       "min       1.000000  0.000000e+00     0.000000     0.000000     0.000001   \n",
       "25%     752.750000  0.000000e+00     0.000000     1.000000     4.133600   \n",
       "50%    1500.500000  9.550000e+06     0.000000     1.000000     7.428286   \n",
       "75%    2255.250000  3.000000e+07     1.000000     1.000000    10.940463   \n",
       "max    3000.000000  3.800000e+08     1.000000     1.000000   294.337037   \n",
       "\n",
       "       poster_path      runtime      tagline       revenue  popularity2  ...  \\\n",
       "count  2840.000000  2840.000000  2840.000000  2.840000e+03  2726.000000  ...   \n",
       "mean      0.999648   107.309054     0.796831  6.948397e+07     8.118789  ...   \n",
       "std       0.018765    21.249041     0.402428  1.406456e+08     5.015623  ...   \n",
       "min       0.000000     0.000000     0.000000  1.000000e+00     0.600000  ...   \n",
       "25%       1.000000    94.000000     1.000000  2.458063e+06     5.151500  ...   \n",
       "50%       1.000000   104.000000     1.000000  1.797028e+07     7.549500  ...   \n",
       "75%       1.000000   117.000000     1.000000  7.319676e+07    10.050250  ...   \n",
       "max       1.000000   338.000000     1.000000  1.519558e+09    45.153000  ...   \n",
       "\n",
       "       release_year  release_month  release_day  numberofgenres  lang_english  \\\n",
       "count   2840.000000    2840.000000  2840.000000     2840.000000   2840.000000   \n",
       "mean    2002.297535       6.742958     3.305634        2.502113      0.855634   \n",
       "std       10.802619       3.400079     1.276044        1.117599      0.351523   \n",
       "min     1971.000000       1.000000     0.000000        0.000000      0.000000   \n",
       "25%     1995.000000       4.000000     3.000000        2.000000      1.000000   \n",
       "50%     2005.000000       7.000000     4.000000        2.000000      1.000000   \n",
       "75%     2011.000000      10.000000     4.000000        3.000000      1.000000   \n",
       "max     2017.000000      12.000000     6.000000        7.000000      1.000000   \n",
       "\n",
       "        bud_runtime       bud_year  bud_popularity  runtime_year  \\\n",
       "count  2.840000e+03    2840.000000    2.840000e+03   2840.000000   \n",
       "mean   2.201377e+05   11836.425060    2.391353e+06      0.054065   \n",
       "std    4.211415e+05   18779.709030    4.253962e+06      0.010598   \n",
       "min    5.291005e-03       0.000496    2.598444e-02      0.000496   \n",
       "25%    1.190476e-02       0.000504    7.030674e-01      0.047619   \n",
       "50%    8.910892e+04    4742.961828    1.134663e+06      0.052369   \n",
       "75%    2.806687e+05   14977.534199    3.306451e+06      0.059028   \n",
       "max    1.100000e+07  188866.799702    1.124231e+08      0.168573   \n",
       "\n",
       "       popularity_year  \n",
       "count      2840.000000  \n",
       "mean          0.004775  \n",
       "std           0.006147  \n",
       "min           0.000500  \n",
       "25%           0.002564  \n",
       "50%           0.004215  \n",
       "75%           0.005956  \n",
       "max           0.146351  \n",
       "\n",
       "[8 rows x 22 columns]"
      ]
     },
     "execution_count": 36,
     "metadata": {},
     "output_type": "execute_result"
    }
   ],
   "source": [
    "train.describe()"
   ]
  },
  {
   "cell_type": "markdown",
   "metadata": {},
   "source": [
    "**Dropping down the columns"
   ]
  },
  {
   "cell_type": "code",
   "execution_count": 18,
   "metadata": {},
   "outputs": [],
   "source": [
    "train = train.drop(['belongs_to_collection','genres','production_companies','nameofcollection','imdb_id','overview','poster_path','tagline','original_title','original_language','release_date','language','production_countries','cast','spoken_languages',\n",
    "                    'Keywords', 'status','genres_info','production_company','production_country','title','crew','popularity2'], axis=1)\n",
    "\n",
    "test = test.drop(['belongs_to_collection','genres','production_companies','nameofcollection','imdb_id','overview','poster_path','tagline','original_title','original_language','release_date','language','production_countries','cast','spoken_languages',\n",
    "                    'Keywords', 'status','genres_info','production_company','production_country','title','crew','popularity2'], axis=1)\n"
   ]
  },
  {
   "cell_type": "code",
   "execution_count": 38,
   "metadata": {},
   "outputs": [
    {
     "data": {
      "image/png": "[encoded data removed]",
      "text/plain": [
       "<Figure size 648x648 with 12 Axes>"
      ]
     },
     "metadata": {
      "needs_background": "light"
     },
     "output_type": "display_data"
    }
   ],
   "source": [
    "gridpl = sns.PairGrid(data= train,vars = ['revenue', 'totalVotes', 'popularity'], size = 3)\n",
    "\n",
    "gridpl = gridpl.map_upper(plt.scatter, color = 'black')\n",
    "gridpl = gridpl.map_diag(plt.hist, bins = 15, color = 'black', edgecolor = 'k')\n",
    "gridpl = gridpl.map_lower(sns.kdeplot, cmap = 'Reds')\n"
   ]
  },
  {
   "cell_type": "markdown",
   "metadata": {},
   "source": [
    "**Taking the log values of \"Budget\" and \"Revenue\" in the train section and \"Budget\" in the test section as they were skewed and not normally distributed"
   ]
  },
  {
   "cell_type": "code",
   "execution_count": 19,
   "metadata": {},
   "outputs": [],
   "source": [
    "test['budget']=np.log1p(test['budget'])\n",
    "train['budget']=np.log1p(train['budget'])\n",
    "\n",
    "train['revenue']=np.log1p(train['revenue'])"
   ]
  },
  {
   "cell_type": "code",
   "execution_count": 40,
   "metadata": {},
   "outputs": [
    {
     "data": {
      "text/html": [
       "<div>\n",
       "<style scoped>\n",
       "    .dataframe tbody tr th:only-of-type {\n",
       "        vertical-align: middle;\n",
       "    }\n",
       "\n",
       "    .dataframe tbody tr th {\n",
       "        vertical-align: top;\n",
       "    }\n",
       "\n",
       "    .dataframe thead th {\n",
       "        text-align: right;\n",
       "    }\n",
       "</style>\n",
       "<table border=\"1\" class=\"dataframe\">\n",
       "  <thead>\n",
       "    <tr style=\"text-align: right;\">\n",
       "      <th></th>\n",
       "      <th>id</th>\n",
       "      <th>budget</th>\n",
       "      <th>homepage</th>\n",
       "      <th>popularity</th>\n",
       "      <th>runtime</th>\n",
       "      <th>revenue</th>\n",
       "      <th>rating</th>\n",
       "      <th>totalVotes</th>\n",
       "      <th>release_year</th>\n",
       "      <th>release_month</th>\n",
       "      <th>release_day</th>\n",
       "      <th>numberofgenres</th>\n",
       "      <th>lang_english</th>\n",
       "      <th>bud_runtime</th>\n",
       "      <th>bud_year</th>\n",
       "      <th>bud_popularity</th>\n",
       "      <th>runtime_year</th>\n",
       "      <th>popularity_year</th>\n",
       "    </tr>\n",
       "  </thead>\n",
       "  <tbody>\n",
       "    <tr>\n",
       "      <th>0</th>\n",
       "      <td>1</td>\n",
       "      <td>16.454568</td>\n",
       "      <td>0</td>\n",
       "      <td>6.575393</td>\n",
       "      <td>93.0</td>\n",
       "      <td>16.326300</td>\n",
       "      <td>5.000000</td>\n",
       "      <td>482.0</td>\n",
       "      <td>2015</td>\n",
       "      <td>2</td>\n",
       "      <td>4</td>\n",
       "      <td>1</td>\n",
       "      <td>1</td>\n",
       "      <td>148936.180851</td>\n",
       "      <td>6944.444940</td>\n",
       "      <td>1.848089e+06</td>\n",
       "      <td>0.046627</td>\n",
       "      <td>0.003758</td>\n",
       "    </tr>\n",
       "    <tr>\n",
       "      <th>1</th>\n",
       "      <td>2</td>\n",
       "      <td>17.504390</td>\n",
       "      <td>0</td>\n",
       "      <td>8.248895</td>\n",
       "      <td>113.0</td>\n",
       "      <td>18.370959</td>\n",
       "      <td>6.400000</td>\n",
       "      <td>1528.0</td>\n",
       "      <td>2004</td>\n",
       "      <td>8</td>\n",
       "      <td>4</td>\n",
       "      <td>4</td>\n",
       "      <td>1</td>\n",
       "      <td>350877.201754</td>\n",
       "      <td>19950.125187</td>\n",
       "      <td>4.324841e+06</td>\n",
       "      <td>0.056858</td>\n",
       "      <td>0.004613</td>\n",
       "    </tr>\n",
       "    <tr>\n",
       "      <th>2</th>\n",
       "      <td>3</td>\n",
       "      <td>15.009433</td>\n",
       "      <td>1</td>\n",
       "      <td>64.299990</td>\n",
       "      <td>105.0</td>\n",
       "      <td>16.387512</td>\n",
       "      <td>8.400000</td>\n",
       "      <td>7314.0</td>\n",
       "      <td>2014</td>\n",
       "      <td>10</td>\n",
       "      <td>4</td>\n",
       "      <td>1</td>\n",
       "      <td>1</td>\n",
       "      <td>31132.084906</td>\n",
       "      <td>1637.717618</td>\n",
       "      <td>5.053601e+04</td>\n",
       "      <td>0.052605</td>\n",
       "      <td>0.032407</td>\n",
       "    </tr>\n",
       "    <tr>\n",
       "      <th>3</th>\n",
       "      <td>4</td>\n",
       "      <td>13.997833</td>\n",
       "      <td>1</td>\n",
       "      <td>3.174936</td>\n",
       "      <td>122.0</td>\n",
       "      <td>16.588099</td>\n",
       "      <td>7.500000</td>\n",
       "      <td>115.0</td>\n",
       "      <td>2012</td>\n",
       "      <td>3</td>\n",
       "      <td>4</td>\n",
       "      <td>2</td>\n",
       "      <td>0</td>\n",
       "      <td>9756.105691</td>\n",
       "      <td>596.125683</td>\n",
       "      <td>2.874298e+05</td>\n",
       "      <td>0.061103</td>\n",
       "      <td>0.002074</td>\n",
       "    </tr>\n",
       "    <tr>\n",
       "      <th>4</th>\n",
       "      <td>5</td>\n",
       "      <td>0.000000</td>\n",
       "      <td>0</td>\n",
       "      <td>1.148070</td>\n",
       "      <td>118.0</td>\n",
       "      <td>15.182615</td>\n",
       "      <td>6.366308</td>\n",
       "      <td>934.0</td>\n",
       "      <td>2009</td>\n",
       "      <td>2</td>\n",
       "      <td>3</td>\n",
       "      <td>2</td>\n",
       "      <td>0</td>\n",
       "      <td>0.008403</td>\n",
       "      <td>0.000498</td>\n",
       "      <td>4.655342e-01</td>\n",
       "      <td>0.059204</td>\n",
       "      <td>0.001069</td>\n",
       "    </tr>\n",
       "  </tbody>\n",
       "</table>\n",
       "</div>"
      ],
      "text/plain": [
       "   id     budget  homepage  popularity  runtime    revenue    rating  \\\n",
       "0   1  16.454568         0    6.575393     93.0  16.326300  5.000000   \n",
       "1   2  17.504390         0    8.248895    113.0  18.370959  6.400000   \n",
       "2   3  15.009433         1   64.299990    105.0  16.387512  8.400000   \n",
       "3   4  13.997833         1    3.174936    122.0  16.588099  7.500000   \n",
       "4   5   0.000000         0    1.148070    118.0  15.182615  6.366308   \n",
       "\n",
       "   totalVotes  release_year  release_month  release_day  numberofgenres  \\\n",
       "0       482.0          2015              2            4               1   \n",
       "1      1528.0          2004              8            4               4   \n",
       "2      7314.0          2014             10            4               1   \n",
       "3       115.0          2012              3            4               2   \n",
       "4       934.0          2009              2            3               2   \n",
       "\n",
       "   lang_english    bud_runtime      bud_year  bud_popularity  runtime_year  \\\n",
       "0             1  148936.180851   6944.444940    1.848089e+06      0.046627   \n",
       "1             1  350877.201754  19950.125187    4.324841e+06      0.056858   \n",
       "2             1   31132.084906   1637.717618    5.053601e+04      0.052605   \n",
       "3             0    9756.105691    596.125683    2.874298e+05      0.061103   \n",
       "4             0       0.008403      0.000498    4.655342e-01      0.059204   \n",
       "\n",
       "   popularity_year  \n",
       "0         0.003758  \n",
       "1         0.004613  \n",
       "2         0.032407  \n",
       "3         0.002074  \n",
       "4         0.001069  "
      ]
     },
     "execution_count": 40,
     "metadata": {},
     "output_type": "execute_result"
    }
   ],
   "source": [
    "train.head()"
   ]
  },
  {
   "cell_type": "code",
   "execution_count": 41,
   "metadata": {},
   "outputs": [
    {
     "data": {
      "text/html": [
       "<div>\n",
       "<style scoped>\n",
       "    .dataframe tbody tr th:only-of-type {\n",
       "        vertical-align: middle;\n",
       "    }\n",
       "\n",
       "    .dataframe tbody tr th {\n",
       "        vertical-align: top;\n",
       "    }\n",
       "\n",
       "    .dataframe thead th {\n",
       "        text-align: right;\n",
       "    }\n",
       "</style>\n",
       "<table border=\"1\" class=\"dataframe\">\n",
       "  <thead>\n",
       "    <tr style=\"text-align: right;\">\n",
       "      <th></th>\n",
       "      <th>id</th>\n",
       "      <th>budget</th>\n",
       "      <th>homepage</th>\n",
       "      <th>popularity</th>\n",
       "      <th>runtime</th>\n",
       "      <th>rating</th>\n",
       "      <th>totalVotes</th>\n",
       "      <th>release_year</th>\n",
       "      <th>release_month</th>\n",
       "      <th>release_day</th>\n",
       "      <th>numberofgenres</th>\n",
       "      <th>lang_english</th>\n",
       "      <th>bud_runtime</th>\n",
       "      <th>bud_year</th>\n",
       "      <th>bud_popularity</th>\n",
       "      <th>runtime_year</th>\n",
       "      <th>popularity_year</th>\n",
       "    </tr>\n",
       "  </thead>\n",
       "  <tbody>\n",
       "    <tr>\n",
       "      <th>0</th>\n",
       "      <td>3001</td>\n",
       "      <td>0.000000</td>\n",
       "      <td>1</td>\n",
       "      <td>3.851534</td>\n",
       "      <td>90.0</td>\n",
       "      <td>6.6</td>\n",
       "      <td>91.0</td>\n",
       "      <td>2007.0</td>\n",
       "      <td>7.0</td>\n",
       "      <td>5.0</td>\n",
       "      <td>1.0</td>\n",
       "      <td>0</td>\n",
       "      <td>0.010989</td>\n",
       "      <td>0.000498</td>\n",
       "      <td>0.206120</td>\n",
       "      <td>0.045319</td>\n",
       "      <td>0.002416</td>\n",
       "    </tr>\n",
       "    <tr>\n",
       "      <th>1</th>\n",
       "      <td>3002</td>\n",
       "      <td>11.385103</td>\n",
       "      <td>0</td>\n",
       "      <td>3.559789</td>\n",
       "      <td>65.0</td>\n",
       "      <td>4.5</td>\n",
       "      <td>51.0</td>\n",
       "      <td>2058.0</td>\n",
       "      <td>5.0</td>\n",
       "      <td>6.0</td>\n",
       "      <td>4.0</td>\n",
       "      <td>1</td>\n",
       "      <td>1333.348485</td>\n",
       "      <td>42.739679</td>\n",
       "      <td>19299.357931</td>\n",
       "      <td>0.032054</td>\n",
       "      <td>0.002215</td>\n",
       "    </tr>\n",
       "    <tr>\n",
       "      <th>2</th>\n",
       "      <td>3003</td>\n",
       "      <td>0.000000</td>\n",
       "      <td>0</td>\n",
       "      <td>8.085194</td>\n",
       "      <td>100.0</td>\n",
       "      <td>6.1</td>\n",
       "      <td>176.0</td>\n",
       "      <td>1997.0</td>\n",
       "      <td>5.0</td>\n",
       "      <td>4.0</td>\n",
       "      <td>1.0</td>\n",
       "      <td>1</td>\n",
       "      <td>0.009901</td>\n",
       "      <td>0.000501</td>\n",
       "      <td>0.110069</td>\n",
       "      <td>0.050551</td>\n",
       "      <td>0.004547</td>\n",
       "    </tr>\n",
       "    <tr>\n",
       "      <th>3</th>\n",
       "      <td>3004</td>\n",
       "      <td>15.732433</td>\n",
       "      <td>1</td>\n",
       "      <td>8.596012</td>\n",
       "      <td>130.0</td>\n",
       "      <td>8.0</td>\n",
       "      <td>937.0</td>\n",
       "      <td>2010.0</td>\n",
       "      <td>9.0</td>\n",
       "      <td>5.0</td>\n",
       "      <td>2.0</td>\n",
       "      <td>0</td>\n",
       "      <td>51908.404580</td>\n",
       "      <td>3381.402785</td>\n",
       "      <td>708627.813304</td>\n",
       "      <td>0.065142</td>\n",
       "      <td>0.004772</td>\n",
       "    </tr>\n",
       "    <tr>\n",
       "      <th>4</th>\n",
       "      <td>3005</td>\n",
       "      <td>14.508658</td>\n",
       "      <td>0</td>\n",
       "      <td>3.217680</td>\n",
       "      <td>92.0</td>\n",
       "      <td>6.8</td>\n",
       "      <td>50.0</td>\n",
       "      <td>2005.0</td>\n",
       "      <td>2.0</td>\n",
       "      <td>4.0</td>\n",
       "      <td>2.0</td>\n",
       "      <td>1</td>\n",
       "      <td>21505.387097</td>\n",
       "      <td>997.009472</td>\n",
       "      <td>474194.580907</td>\n",
       "      <td>0.046361</td>\n",
       "      <td>0.002103</td>\n",
       "    </tr>\n",
       "  </tbody>\n",
       "</table>\n",
       "</div>"
      ],
      "text/plain": [
       "     id     budget  homepage  popularity  runtime  rating  totalVotes  \\\n",
       "0  3001   0.000000         1    3.851534     90.0     6.6        91.0   \n",
       "1  3002  11.385103         0    3.559789     65.0     4.5        51.0   \n",
       "2  3003   0.000000         0    8.085194    100.0     6.1       176.0   \n",
       "3  3004  15.732433         1    8.596012    130.0     8.0       937.0   \n",
       "4  3005  14.508658         0    3.217680     92.0     6.8        50.0   \n",
       "\n",
       "   release_year  release_month  release_day  numberofgenres  lang_english  \\\n",
       "0        2007.0            7.0          5.0             1.0             0   \n",
       "1        2058.0            5.0          6.0             4.0             1   \n",
       "2        1997.0            5.0          4.0             1.0             1   \n",
       "3        2010.0            9.0          5.0             2.0             0   \n",
       "4        2005.0            2.0          4.0             2.0             1   \n",
       "\n",
       "    bud_runtime     bud_year  bud_popularity  runtime_year  popularity_year  \n",
       "0      0.010989     0.000498        0.206120      0.045319         0.002416  \n",
       "1   1333.348485    42.739679    19299.357931      0.032054         0.002215  \n",
       "2      0.009901     0.000501        0.110069      0.050551         0.004547  \n",
       "3  51908.404580  3381.402785   708627.813304      0.065142         0.004772  \n",
       "4  21505.387097   997.009472   474194.580907      0.046361         0.002103  "
      ]
     },
     "execution_count": 41,
     "metadata": {},
     "output_type": "execute_result"
    }
   ],
   "source": [
    "test.head()"
   ]
  },
  {
   "cell_type": "markdown",
   "metadata": {},
   "source": [
    "**Checking the correlation of the variables with the target variable \"Revenue\""
   ]
  },
  {
   "cell_type": "code",
   "execution_count": 42,
   "metadata": {},
   "outputs": [
    {
     "data": {
      "text/plain": [
       "id                 0.012539\n",
       "budget             0.537718\n",
       "homepage           0.135583\n",
       "popularity         0.290395\n",
       "runtime            0.212543\n",
       "revenue            1.000000\n",
       "rating             0.134218\n",
       "totalVotes         0.410851\n",
       "release_year      -0.056826\n",
       "release_month      0.033193\n",
       "release_day       -0.074551\n",
       "numberofgenres     0.195010\n",
       "lang_english       0.192291\n",
       "bud_runtime        0.381996\n",
       "bud_year           0.502566\n",
       "bud_popularity     0.351475\n",
       "runtime_year       0.214051\n",
       "popularity_year    0.291721\n",
       "Name: revenue, dtype: float64"
      ]
     },
     "execution_count": 42,
     "metadata": {},
     "output_type": "execute_result"
    }
   ],
   "source": [
    "train.corr().revenue"
   ]
  },
  {
   "cell_type": "markdown",
   "metadata": {},
   "source": [
    "**MODELLING"
   ]
  },
  {
   "cell_type": "code",
   "execution_count": 22,
   "metadata": {},
   "outputs": [],
   "source": [
    "y = train.pop('revenue').values\n",
    "X = train.values"
   ]
  },
  {
   "cell_type": "markdown",
   "metadata": {},
   "source": [
    "**Splitting the data in 80:20 (Train and Validation)"
   ]
  },
  {
   "cell_type": "code",
   "execution_count": 23,
   "metadata": {},
   "outputs": [],
   "source": [
    "from sklearn.model_selection import train_test_split\n",
    "X_train,X_val,y_train,y_val= train_test_split(X,y,test_size=0.2,random_state=39)"
   ]
  },
  {
   "cell_type": "code",
   "execution_count": 24,
   "metadata": {},
   "outputs": [
    {
     "data": {
      "text/plain": [
       "((2272, 17), (568, 17), (2272,), (568,))"
      ]
     },
     "execution_count": 24,
     "metadata": {},
     "output_type": "execute_result"
    }
   ],
   "source": [
    "X_train.shape, X_val.shape, y_train.shape, y_val.shape"
   ]
  },
  {
   "cell_type": "markdown",
   "metadata": {},
   "source": [
    "**LinearRegression"
   ]
  },
  {
   "cell_type": "code",
   "execution_count": 25,
   "metadata": {},
   "outputs": [],
   "source": [
    "from sklearn.linear_model import LinearRegression\n",
    "lr_model=LinearRegression()\n",
    "lr_model.fit(X_train,y_train)\n",
    "lr_pred=lr_model.predict(X_val)"
   ]
  },
  {
   "cell_type": "code",
   "execution_count": 26,
   "metadata": {},
   "outputs": [
    {
     "data": {
      "text/plain": [
       "2.3476336671626203"
      ]
     },
     "execution_count": 26,
     "metadata": {},
     "output_type": "execute_result"
    }
   ],
   "source": [
    "lr_rmse= mean_squared_error(y_val, lr_pred, squared=False)\n",
    "lr_rmse"
   ]
  },
  {
   "cell_type": "code",
   "execution_count": 20,
   "metadata": {},
   "outputs": [
    {
     "data": {
      "text/html": [
       "<style  type=\"text/css\" >\n",
       "#T_6362f52d_ab87_11eb_8b5e_d85de2434bfarow0_col0,#T_6362f52d_ab87_11eb_8b5e_d85de2434bfarow1_col1,#T_6362f52d_ab87_11eb_8b5e_d85de2434bfarow2_col2,#T_6362f52d_ab87_11eb_8b5e_d85de2434bfarow3_col3,#T_6362f52d_ab87_11eb_8b5e_d85de2434bfarow3_col17,#T_6362f52d_ab87_11eb_8b5e_d85de2434bfarow4_col4,#T_6362f52d_ab87_11eb_8b5e_d85de2434bfarow4_col16,#T_6362f52d_ab87_11eb_8b5e_d85de2434bfarow5_col5,#T_6362f52d_ab87_11eb_8b5e_d85de2434bfarow6_col6,#T_6362f52d_ab87_11eb_8b5e_d85de2434bfarow7_col7,#T_6362f52d_ab87_11eb_8b5e_d85de2434bfarow8_col8,#T_6362f52d_ab87_11eb_8b5e_d85de2434bfarow9_col9,#T_6362f52d_ab87_11eb_8b5e_d85de2434bfarow10_col10,#T_6362f52d_ab87_11eb_8b5e_d85de2434bfarow11_col11,#T_6362f52d_ab87_11eb_8b5e_d85de2434bfarow12_col12,#T_6362f52d_ab87_11eb_8b5e_d85de2434bfarow13_col13,#T_6362f52d_ab87_11eb_8b5e_d85de2434bfarow14_col14,#T_6362f52d_ab87_11eb_8b5e_d85de2434bfarow15_col15,#T_6362f52d_ab87_11eb_8b5e_d85de2434bfarow16_col4,#T_6362f52d_ab87_11eb_8b5e_d85de2434bfarow16_col16,#T_6362f52d_ab87_11eb_8b5e_d85de2434bfarow17_col3,#T_6362f52d_ab87_11eb_8b5e_d85de2434bfarow17_col17{\n",
       "            background-color:  #b40426;\n",
       "            color:  #f1f1f1;\n",
       "        }#T_6362f52d_ab87_11eb_8b5e_d85de2434bfarow0_col1,#T_6362f52d_ab87_11eb_8b5e_d85de2434bfarow0_col3,#T_6362f52d_ab87_11eb_8b5e_d85de2434bfarow0_col17,#T_6362f52d_ab87_11eb_8b5e_d85de2434bfarow5_col9,#T_6362f52d_ab87_11eb_8b5e_d85de2434bfarow6_col1,#T_6362f52d_ab87_11eb_8b5e_d85de2434bfarow6_col10,#T_6362f52d_ab87_11eb_8b5e_d85de2434bfarow9_col3,#T_6362f52d_ab87_11eb_8b5e_d85de2434bfarow9_col17,#T_6362f52d_ab87_11eb_8b5e_d85de2434bfarow11_col2,#T_6362f52d_ab87_11eb_8b5e_d85de2434bfarow13_col6{\n",
       "            background-color:  #5572df;\n",
       "            color:  #000000;\n",
       "        }#T_6362f52d_ab87_11eb_8b5e_d85de2434bfarow0_col2,#T_6362f52d_ab87_11eb_8b5e_d85de2434bfarow4_col13,#T_6362f52d_ab87_11eb_8b5e_d85de2434bfarow11_col8{\n",
       "            background-color:  #516ddb;\n",
       "            color:  #000000;\n",
       "        }#T_6362f52d_ab87_11eb_8b5e_d85de2434bfarow0_col4,#T_6362f52d_ab87_11eb_8b5e_d85de2434bfarow9_col1{\n",
       "            background-color:  #5e7de7;\n",
       "            color:  #000000;\n",
       "        }#T_6362f52d_ab87_11eb_8b5e_d85de2434bfarow0_col5,#T_6362f52d_ab87_11eb_8b5e_d85de2434bfarow2_col11,#T_6362f52d_ab87_11eb_8b5e_d85de2434bfarow4_col10{\n",
       "            background-color:  #536edd;\n",
       "            color:  #000000;\n",
       "        }#T_6362f52d_ab87_11eb_8b5e_d85de2434bfarow0_col6,#T_6362f52d_ab87_11eb_8b5e_d85de2434bfarow8_col6,#T_6362f52d_ab87_11eb_8b5e_d85de2434bfarow11_col10{\n",
       "            background-color:  #5b7ae5;\n",
       "            color:  #000000;\n",
       "        }#T_6362f52d_ab87_11eb_8b5e_d85de2434bfarow0_col7,#T_6362f52d_ab87_11eb_8b5e_d85de2434bfarow4_col11,#T_6362f52d_ab87_11eb_8b5e_d85de2434bfarow9_col10,#T_6362f52d_ab87_11eb_8b5e_d85de2434bfarow9_col13{\n",
       "            background-color:  #6180e9;\n",
       "            color:  #000000;\n",
       "        }#T_6362f52d_ab87_11eb_8b5e_d85de2434bfarow0_col8,#T_6362f52d_ab87_11eb_8b5e_d85de2434bfarow6_col8{\n",
       "            background-color:  #6384eb;\n",
       "            color:  #000000;\n",
       "        }#T_6362f52d_ab87_11eb_8b5e_d85de2434bfarow0_col9,#T_6362f52d_ab87_11eb_8b5e_d85de2434bfarow15_col10{\n",
       "            background-color:  #4f69d9;\n",
       "            color:  #000000;\n",
       "        }#T_6362f52d_ab87_11eb_8b5e_d85de2434bfarow0_col10,#T_6362f52d_ab87_11eb_8b5e_d85de2434bfarow1_col6,#T_6362f52d_ab87_11eb_8b5e_d85de2434bfarow8_col4,#T_6362f52d_ab87_11eb_8b5e_d85de2434bfarow16_col2,#T_6362f52d_ab87_11eb_8b5e_d85de2434bfarow16_col11{\n",
       "            background-color:  #6282ea;\n",
       "            color:  #000000;\n",
       "        }#T_6362f52d_ab87_11eb_8b5e_d85de2434bfarow0_col11,#T_6362f52d_ab87_11eb_8b5e_d85de2434bfarow7_col9,#T_6362f52d_ab87_11eb_8b5e_d85de2434bfarow11_col6,#T_6362f52d_ab87_11eb_8b5e_d85de2434bfarow13_col16,#T_6362f52d_ab87_11eb_8b5e_d85de2434bfarow16_col10{\n",
       "            background-color:  #5470de;\n",
       "            color:  #000000;\n",
       "        }#T_6362f52d_ab87_11eb_8b5e_d85de2434bfarow0_col12,#T_6362f52d_ab87_11eb_8b5e_d85de2434bfarow0_col14,#T_6362f52d_ab87_11eb_8b5e_d85de2434bfarow2_col16,#T_6362f52d_ab87_11eb_8b5e_d85de2434bfarow6_col14,#T_6362f52d_ab87_11eb_8b5e_d85de2434bfarow16_col8{\n",
       "            background-color:  #6788ee;\n",
       "            color:  #000000;\n",
       "        }#T_6362f52d_ab87_11eb_8b5e_d85de2434bfarow0_col13,#T_6362f52d_ab87_11eb_8b5e_d85de2434bfarow8_col16,#T_6362f52d_ab87_11eb_8b5e_d85de2434bfarow9_col5{\n",
       "            background-color:  #5977e3;\n",
       "            color:  #000000;\n",
       "        }#T_6362f52d_ab87_11eb_8b5e_d85de2434bfarow0_col15{\n",
       "            background-color:  #5a78e4;\n",
       "            color:  #000000;\n",
       "        }#T_6362f52d_ab87_11eb_8b5e_d85de2434bfarow0_col16,#T_6362f52d_ab87_11eb_8b5e_d85de2434bfarow12_col2,#T_6362f52d_ab87_11eb_8b5e_d85de2434bfarow15_col3,#T_6362f52d_ab87_11eb_8b5e_d85de2434bfarow15_col17{\n",
       "            background-color:  #5d7ce6;\n",
       "            color:  #000000;\n",
       "        }#T_6362f52d_ab87_11eb_8b5e_d85de2434bfarow1_col0,#T_6362f52d_ab87_11eb_8b5e_d85de2434bfarow5_col0,#T_6362f52d_ab87_11eb_8b5e_d85de2434bfarow6_col12,#T_6362f52d_ab87_11eb_8b5e_d85de2434bfarow9_col0,#T_6362f52d_ab87_11eb_8b5e_d85de2434bfarow13_col0{\n",
       "            background-color:  #4358cb;\n",
       "            color:  #f1f1f1;\n",
       "        }#T_6362f52d_ab87_11eb_8b5e_d85de2434bfarow1_col2,#T_6362f52d_ab87_11eb_8b5e_d85de2434bfarow5_col6{\n",
       "            background-color:  #88abfd;\n",
       "            color:  #000000;\n",
       "        }#T_6362f52d_ab87_11eb_8b5e_d85de2434bfarow1_col3,#T_6362f52d_ab87_11eb_8b5e_d85de2434bfarow1_col17,#T_6362f52d_ab87_11eb_8b5e_d85de2434bfarow3_col13,#T_6362f52d_ab87_11eb_8b5e_d85de2434bfarow5_col16,#T_6362f52d_ab87_11eb_8b5e_d85de2434bfarow7_col16,#T_6362f52d_ab87_11eb_8b5e_d85de2434bfarow17_col13{\n",
       "            background-color:  #9bbcff;\n",
       "            color:  #000000;\n",
       "        }#T_6362f52d_ab87_11eb_8b5e_d85de2434bfarow1_col4{\n",
       "            background-color:  #98b9ff;\n",
       "            color:  #000000;\n",
       "        }#T_6362f52d_ab87_11eb_8b5e_d85de2434bfarow1_col5{\n",
       "            background-color:  #edd2c3;\n",
       "            color:  #000000;\n",
       "        }#T_6362f52d_ab87_11eb_8b5e_d85de2434bfarow1_col7{\n",
       "            background-color:  #bcd2f7;\n",
       "            color:  #000000;\n",
       "        }#T_6362f52d_ab87_11eb_8b5e_d85de2434bfarow1_col8,#T_6362f52d_ab87_11eb_8b5e_d85de2434bfarow8_col13,#T_6362f52d_ab87_11eb_8b5e_d85de2434bfarow12_col1,#T_6362f52d_ab87_11eb_8b5e_d85de2434bfarow13_col11,#T_6362f52d_ab87_11eb_8b5e_d85de2434bfarow15_col8{\n",
       "            background-color:  #86a9fc;\n",
       "            color:  #000000;\n",
       "        }#T_6362f52d_ab87_11eb_8b5e_d85de2434bfarow1_col9,#T_6362f52d_ab87_11eb_8b5e_d85de2434bfarow3_col15,#T_6362f52d_ab87_11eb_8b5e_d85de2434bfarow5_col8,#T_6362f52d_ab87_11eb_8b5e_d85de2434bfarow9_col15,#T_6362f52d_ab87_11eb_8b5e_d85de2434bfarow13_col9,#T_6362f52d_ab87_11eb_8b5e_d85de2434bfarow17_col15{\n",
       "            background-color:  #5875e1;\n",
       "            color:  #000000;\n",
       "        }#T_6362f52d_ab87_11eb_8b5e_d85de2434bfarow1_col10,#T_6362f52d_ab87_11eb_8b5e_d85de2434bfarow8_col10{\n",
       "            background-color:  #4e68d8;\n",
       "            color:  #000000;\n",
       "        }#T_6362f52d_ab87_11eb_8b5e_d85de2434bfarow1_col11,#T_6362f52d_ab87_11eb_8b5e_d85de2434bfarow3_col12,#T_6362f52d_ab87_11eb_8b5e_d85de2434bfarow5_col11,#T_6362f52d_ab87_11eb_8b5e_d85de2434bfarow11_col5,#T_6362f52d_ab87_11eb_8b5e_d85de2434bfarow15_col11,#T_6362f52d_ab87_11eb_8b5e_d85de2434bfarow17_col12{\n",
       "            background-color:  #8db0fe;\n",
       "            color:  #000000;\n",
       "        }#T_6362f52d_ab87_11eb_8b5e_d85de2434bfarow1_col12,#T_6362f52d_ab87_11eb_8b5e_d85de2434bfarow8_col14{\n",
       "            background-color:  #9abbff;\n",
       "            color:  #000000;\n",
       "        }#T_6362f52d_ab87_11eb_8b5e_d85de2434bfarow1_col13,#T_6362f52d_ab87_11eb_8b5e_d85de2434bfarow7_col5{\n",
       "            background-color:  #cfdaea;\n",
       "            color:  #000000;\n",
       "        }#T_6362f52d_ab87_11eb_8b5e_d85de2434bfarow1_col14{\n",
       "            background-color:  #ebd3c6;\n",
       "            color:  #000000;\n",
       "        }#T_6362f52d_ab87_11eb_8b5e_d85de2434bfarow1_col15{\n",
       "            background-color:  #d5dbe5;\n",
       "            color:  #000000;\n",
       "        }#T_6362f52d_ab87_11eb_8b5e_d85de2434bfarow1_col16,#T_6362f52d_ab87_11eb_8b5e_d85de2434bfarow3_col1,#T_6362f52d_ab87_11eb_8b5e_d85de2434bfarow17_col1{\n",
       "            background-color:  #96b7ff;\n",
       "            color:  #000000;\n",
       "        }#T_6362f52d_ab87_11eb_8b5e_d85de2434bfarow2_col0,#T_6362f52d_ab87_11eb_8b5e_d85de2434bfarow3_col0,#T_6362f52d_ab87_11eb_8b5e_d85de2434bfarow14_col10,#T_6362f52d_ab87_11eb_8b5e_d85de2434bfarow17_col0{\n",
       "            background-color:  #3d50c3;\n",
       "            color:  #f1f1f1;\n",
       "        }#T_6362f52d_ab87_11eb_8b5e_d85de2434bfarow2_col1,#T_6362f52d_ab87_11eb_8b5e_d85de2434bfarow3_col2,#T_6362f52d_ab87_11eb_8b5e_d85de2434bfarow3_col4,#T_6362f52d_ab87_11eb_8b5e_d85de2434bfarow17_col2,#T_6362f52d_ab87_11eb_8b5e_d85de2434bfarow17_col4{\n",
       "            background-color:  #85a8fc;\n",
       "            color:  #000000;\n",
       "        }#T_6362f52d_ab87_11eb_8b5e_d85de2434bfarow2_col3,#T_6362f52d_ab87_11eb_8b5e_d85de2434bfarow2_col17,#T_6362f52d_ab87_11eb_8b5e_d85de2434bfarow11_col7,#T_6362f52d_ab87_11eb_8b5e_d85de2434bfarow11_col13,#T_6362f52d_ab87_11eb_8b5e_d85de2434bfarow15_col16,#T_6362f52d_ab87_11eb_8b5e_d85de2434bfarow17_col8{\n",
       "            background-color:  #89acfd;\n",
       "            color:  #000000;\n",
       "        }#T_6362f52d_ab87_11eb_8b5e_d85de2434bfarow2_col4,#T_6362f52d_ab87_11eb_8b5e_d85de2434bfarow6_col9,#T_6362f52d_ab87_11eb_8b5e_d85de2434bfarow9_col14{\n",
       "            background-color:  #6c8ff1;\n",
       "            color:  #000000;\n",
       "        }#T_6362f52d_ab87_11eb_8b5e_d85de2434bfarow2_col5,#T_6362f52d_ab87_11eb_8b5e_d85de2434bfarow8_col17{\n",
       "            background-color:  #7a9df8;\n",
       "            color:  #000000;\n",
       "        }#T_6362f52d_ab87_11eb_8b5e_d85de2434bfarow2_col6,#T_6362f52d_ab87_11eb_8b5e_d85de2434bfarow9_col6{\n",
       "            background-color:  #80a3fa;\n",
       "            color:  #000000;\n",
       "        }#T_6362f52d_ab87_11eb_8b5e_d85de2434bfarow2_col7,#T_6362f52d_ab87_11eb_8b5e_d85de2434bfarow15_col5{\n",
       "            background-color:  #bfd3f6;\n",
       "            color:  #000000;\n",
       "        }#T_6362f52d_ab87_11eb_8b5e_d85de2434bfarow2_col8,#T_6362f52d_ab87_11eb_8b5e_d85de2434bfarow5_col7{\n",
       "            background-color:  #dadce0;\n",
       "            color:  #000000;\n",
       "        }#T_6362f52d_ab87_11eb_8b5e_d85de2434bfarow2_col9,#T_6362f52d_ab87_11eb_8b5e_d85de2434bfarow3_col10,#T_6362f52d_ab87_11eb_8b5e_d85de2434bfarow4_col12,#T_6362f52d_ab87_11eb_8b5e_d85de2434bfarow10_col4,#T_6362f52d_ab87_11eb_8b5e_d85de2434bfarow10_col11,#T_6362f52d_ab87_11eb_8b5e_d85de2434bfarow10_col16,#T_6362f52d_ab87_11eb_8b5e_d85de2434bfarow11_col9,#T_6362f52d_ab87_11eb_8b5e_d85de2434bfarow17_col10{\n",
       "            background-color:  #485fd1;\n",
       "            color:  #f1f1f1;\n",
       "        }#T_6362f52d_ab87_11eb_8b5e_d85de2434bfarow2_col10,#T_6362f52d_ab87_11eb_8b5e_d85de2434bfarow9_col11,#T_6362f52d_ab87_11eb_8b5e_d85de2434bfarow12_col9{\n",
       "            background-color:  #4c66d6;\n",
       "            color:  #000000;\n",
       "        }#T_6362f52d_ab87_11eb_8b5e_d85de2434bfarow2_col12,#T_6362f52d_ab87_11eb_8b5e_d85de2434bfarow8_col1,#T_6362f52d_ab87_11eb_8b5e_d85de2434bfarow12_col13{\n",
       "            background-color:  #7093f3;\n",
       "            color:  #000000;\n",
       "        }#T_6362f52d_ab87_11eb_8b5e_d85de2434bfarow2_col13,#T_6362f52d_ab87_11eb_8b5e_d85de2434bfarow4_col3,#T_6362f52d_ab87_11eb_8b5e_d85de2434bfarow4_col15,#T_6362f52d_ab87_11eb_8b5e_d85de2434bfarow4_col17,#T_6362f52d_ab87_11eb_8b5e_d85de2434bfarow13_col2,#T_6362f52d_ab87_11eb_8b5e_d85de2434bfarow16_col15,#T_6362f52d_ab87_11eb_8b5e_d85de2434bfarow17_col16{\n",
       "            background-color:  #84a7fc;\n",
       "            color:  #000000;\n",
       "        }#T_6362f52d_ab87_11eb_8b5e_d85de2434bfarow2_col14,#T_6362f52d_ab87_11eb_8b5e_d85de2434bfarow14_col16{\n",
       "            background-color:  #a9c6fd;\n",
       "            color:  #000000;\n",
       "        }#T_6362f52d_ab87_11eb_8b5e_d85de2434bfarow2_col15,#T_6362f52d_ab87_11eb_8b5e_d85de2434bfarow15_col2{\n",
       "            background-color:  #7699f6;\n",
       "            color:  #000000;\n",
       "        }#T_6362f52d_ab87_11eb_8b5e_d85de2434bfarow3_col5,#T_6362f52d_ab87_11eb_8b5e_d85de2434bfarow11_col14,#T_6362f52d_ab87_11eb_8b5e_d85de2434bfarow14_col4{\n",
       "            background-color:  #abc8fd;\n",
       "            color:  #000000;\n",
       "        }#T_6362f52d_ab87_11eb_8b5e_d85de2434bfarow3_col6,#T_6362f52d_ab87_11eb_8b5e_d85de2434bfarow4_col5,#T_6362f52d_ab87_11eb_8b5e_d85de2434bfarow7_col12,#T_6362f52d_ab87_11eb_8b5e_d85de2434bfarow16_col5,#T_6362f52d_ab87_11eb_8b5e_d85de2434bfarow17_col6{\n",
       "            background-color:  #93b5fe;\n",
       "            color:  #000000;\n",
       "        }#T_6362f52d_ab87_11eb_8b5e_d85de2434bfarow3_col7,#T_6362f52d_ab87_11eb_8b5e_d85de2434bfarow17_col7{\n",
       "            background-color:  #f4c6af;\n",
       "            color:  #000000;\n",
       "        }#T_6362f52d_ab87_11eb_8b5e_d85de2434bfarow3_col8,#T_6362f52d_ab87_11eb_8b5e_d85de2434bfarow15_col4{\n",
       "            background-color:  #8badfd;\n",
       "            color:  #000000;\n",
       "        }#T_6362f52d_ab87_11eb_8b5e_d85de2434bfarow3_col9,#T_6362f52d_ab87_11eb_8b5e_d85de2434bfarow16_col12,#T_6362f52d_ab87_11eb_8b5e_d85de2434bfarow17_col9{\n",
       "            background-color:  #4961d2;\n",
       "            color:  #f1f1f1;\n",
       "        }#T_6362f52d_ab87_11eb_8b5e_d85de2434bfarow3_col11,#T_6362f52d_ab87_11eb_8b5e_d85de2434bfarow12_col10,#T_6362f52d_ab87_11eb_8b5e_d85de2434bfarow17_col11{\n",
       "            background-color:  #6b8df0;\n",
       "            color:  #000000;\n",
       "        }#T_6362f52d_ab87_11eb_8b5e_d85de2434bfarow3_col14,#T_6362f52d_ab87_11eb_8b5e_d85de2434bfarow13_col5,#T_6362f52d_ab87_11eb_8b5e_d85de2434bfarow17_col14{\n",
       "            background-color:  #c7d7f0;\n",
       "            color:  #000000;\n",
       "        }#T_6362f52d_ab87_11eb_8b5e_d85de2434bfarow3_col16,#T_6362f52d_ab87_11eb_8b5e_d85de2434bfarow13_col12,#T_6362f52d_ab87_11eb_8b5e_d85de2434bfarow16_col3,#T_6362f52d_ab87_11eb_8b5e_d85de2434bfarow16_col17{\n",
       "            background-color:  #82a6fb;\n",
       "            color:  #000000;\n",
       "        }#T_6362f52d_ab87_11eb_8b5e_d85de2434bfarow4_col0,#T_6362f52d_ab87_11eb_8b5e_d85de2434bfarow14_col0,#T_6362f52d_ab87_11eb_8b5e_d85de2434bfarow16_col0{\n",
       "            background-color:  #445acc;\n",
       "            color:  #f1f1f1;\n",
       "        }#T_6362f52d_ab87_11eb_8b5e_d85de2434bfarow4_col1,#T_6362f52d_ab87_11eb_8b5e_d85de2434bfarow15_col12{\n",
       "            background-color:  #90b2fe;\n",
       "            color:  #000000;\n",
       "        }#T_6362f52d_ab87_11eb_8b5e_d85de2434bfarow4_col2{\n",
       "            background-color:  #6687ed;\n",
       "            color:  #000000;\n",
       "        }#T_6362f52d_ab87_11eb_8b5e_d85de2434bfarow4_col6,#T_6362f52d_ab87_11eb_8b5e_d85de2434bfarow16_col6{\n",
       "            background-color:  #bed2f6;\n",
       "            color:  #000000;\n",
       "        }#T_6362f52d_ab87_11eb_8b5e_d85de2434bfarow4_col7{\n",
       "            background-color:  #a7c5fe;\n",
       "            color:  #000000;\n",
       "        }#T_6362f52d_ab87_11eb_8b5e_d85de2434bfarow4_col8{\n",
       "            background-color:  #6f92f3;\n",
       "            color:  #000000;\n",
       "        }#T_6362f52d_ab87_11eb_8b5e_d85de2434bfarow4_col9,#T_6362f52d_ab87_11eb_8b5e_d85de2434bfarow8_col15{\n",
       "            background-color:  #7396f5;\n",
       "            color:  #000000;\n",
       "        }#T_6362f52d_ab87_11eb_8b5e_d85de2434bfarow4_col14,#T_6362f52d_ab87_11eb_8b5e_d85de2434bfarow5_col3,#T_6362f52d_ab87_11eb_8b5e_d85de2434bfarow7_col2{\n",
       "            background-color:  #b2ccfb;\n",
       "            color:  #000000;\n",
       "        }#T_6362f52d_ab87_11eb_8b5e_d85de2434bfarow5_col1{\n",
       "            background-color:  #edd1c2;\n",
       "            color:  #000000;\n",
       "        }#T_6362f52d_ab87_11eb_8b5e_d85de2434bfarow5_col2,#T_6362f52d_ab87_11eb_8b5e_d85de2434bfarow12_col15{\n",
       "            background-color:  #7da0f9;\n",
       "            color:  #000000;\n",
       "        }#T_6362f52d_ab87_11eb_8b5e_d85de2434bfarow5_col4,#T_6362f52d_ab87_11eb_8b5e_d85de2434bfarow13_col17,#T_6362f52d_ab87_11eb_8b5e_d85de2434bfarow14_col2{\n",
       "            background-color:  #9dbdff;\n",
       "            color:  #000000;\n",
       "        }#T_6362f52d_ab87_11eb_8b5e_d85de2434bfarow5_col10,#T_6362f52d_ab87_11eb_8b5e_d85de2434bfarow9_col2,#T_6362f52d_ab87_11eb_8b5e_d85de2434bfarow10_col6,#T_6362f52d_ab87_11eb_8b5e_d85de2434bfarow10_col8,#T_6362f52d_ab87_11eb_8b5e_d85de2434bfarow15_col9,#T_6362f52d_ab87_11eb_8b5e_d85de2434bfarow16_col13{\n",
       "            background-color:  #506bda;\n",
       "            color:  #000000;\n",
       "        }#T_6362f52d_ab87_11eb_8b5e_d85de2434bfarow5_col12{\n",
       "            background-color:  #a1c0ff;\n",
       "            color:  #000000;\n",
       "        }#T_6362f52d_ab87_11eb_8b5e_d85de2434bfarow5_col13{\n",
       "            background-color:  #cbd8ee;\n",
       "            color:  #000000;\n",
       "        }#T_6362f52d_ab87_11eb_8b5e_d85de2434bfarow5_col14{\n",
       "            background-color:  #ecd3c5;\n",
       "            color:  #000000;\n",
       "        }#T_6362f52d_ab87_11eb_8b5e_d85de2434bfarow5_col15,#T_6362f52d_ab87_11eb_8b5e_d85de2434bfarow14_col3,#T_6362f52d_ab87_11eb_8b5e_d85de2434bfarow14_col17{\n",
       "            background-color:  #c1d4f4;\n",
       "            color:  #000000;\n",
       "        }#T_6362f52d_ab87_11eb_8b5e_d85de2434bfarow5_col17{\n",
       "            background-color:  #b3cdfb;\n",
       "            color:  #000000;\n",
       "        }#T_6362f52d_ab87_11eb_8b5e_d85de2434bfarow6_col0,#T_6362f52d_ab87_11eb_8b5e_d85de2434bfarow10_col0,#T_6362f52d_ab87_11eb_8b5e_d85de2434bfarow10_col15{\n",
       "            background-color:  #3c4ec2;\n",
       "            color:  #f1f1f1;\n",
       "        }#T_6362f52d_ab87_11eb_8b5e_d85de2434bfarow6_col2,#T_6362f52d_ab87_11eb_8b5e_d85de2434bfarow7_col11,#T_6362f52d_ab87_11eb_8b5e_d85de2434bfarow16_col9{\n",
       "            background-color:  #7597f6;\n",
       "            color:  #000000;\n",
       "        }#T_6362f52d_ab87_11eb_8b5e_d85de2434bfarow6_col3,#T_6362f52d_ab87_11eb_8b5e_d85de2434bfarow6_col17,#T_6362f52d_ab87_11eb_8b5e_d85de2434bfarow12_col5{\n",
       "            background-color:  #8caffe;\n",
       "            color:  #000000;\n",
       "        }#T_6362f52d_ab87_11eb_8b5e_d85de2434bfarow6_col4{\n",
       "            background-color:  #bad0f8;\n",
       "            color:  #000000;\n",
       "        }#T_6362f52d_ab87_11eb_8b5e_d85de2434bfarow6_col5{\n",
       "            background-color:  #799cf8;\n",
       "            color:  #000000;\n",
       "        }#T_6362f52d_ab87_11eb_8b5e_d85de2434bfarow6_col7{\n",
       "            background-color:  #c6d6f1;\n",
       "            color:  #000000;\n",
       "        }#T_6362f52d_ab87_11eb_8b5e_d85de2434bfarow6_col11,#T_6362f52d_ab87_11eb_8b5e_d85de2434bfarow15_col0{\n",
       "            background-color:  #455cce;\n",
       "            color:  #f1f1f1;\n",
       "        }#T_6362f52d_ab87_11eb_8b5e_d85de2434bfarow6_col13{\n",
       "            background-color:  #4a63d3;\n",
       "            color:  #f1f1f1;\n",
       "        }#T_6362f52d_ab87_11eb_8b5e_d85de2434bfarow6_col15,#T_6362f52d_ab87_11eb_8b5e_d85de2434bfarow7_col0,#T_6362f52d_ab87_11eb_8b5e_d85de2434bfarow7_col10,#T_6362f52d_ab87_11eb_8b5e_d85de2434bfarow8_col0,#T_6362f52d_ab87_11eb_8b5e_d85de2434bfarow8_col9,#T_6362f52d_ab87_11eb_8b5e_d85de2434bfarow8_col11,#T_6362f52d_ab87_11eb_8b5e_d85de2434bfarow8_col12,#T_6362f52d_ab87_11eb_8b5e_d85de2434bfarow10_col1,#T_6362f52d_ab87_11eb_8b5e_d85de2434bfarow10_col2,#T_6362f52d_ab87_11eb_8b5e_d85de2434bfarow10_col3,#T_6362f52d_ab87_11eb_8b5e_d85de2434bfarow10_col5,#T_6362f52d_ab87_11eb_8b5e_d85de2434bfarow10_col7,#T_6362f52d_ab87_11eb_8b5e_d85de2434bfarow10_col13,#T_6362f52d_ab87_11eb_8b5e_d85de2434bfarow10_col14,#T_6362f52d_ab87_11eb_8b5e_d85de2434bfarow10_col17,#T_6362f52d_ab87_11eb_8b5e_d85de2434bfarow12_col4,#T_6362f52d_ab87_11eb_8b5e_d85de2434bfarow12_col6,#T_6362f52d_ab87_11eb_8b5e_d85de2434bfarow12_col8,#T_6362f52d_ab87_11eb_8b5e_d85de2434bfarow12_col16{\n",
       "            background-color:  #3b4cc0;\n",
       "            color:  #f1f1f1;\n",
       "        }#T_6362f52d_ab87_11eb_8b5e_d85de2434bfarow6_col16{\n",
       "            background-color:  #b9d0f9;\n",
       "            color:  #000000;\n",
       "        }#T_6362f52d_ab87_11eb_8b5e_d85de2434bfarow7_col1{\n",
       "            background-color:  #aec9fc;\n",
       "            color:  #000000;\n",
       "        }#T_6362f52d_ab87_11eb_8b5e_d85de2434bfarow7_col3{\n",
       "            background-color:  #f2cbb7;\n",
       "            color:  #000000;\n",
       "        }#T_6362f52d_ab87_11eb_8b5e_d85de2434bfarow7_col4,#T_6362f52d_ab87_11eb_8b5e_d85de2434bfarow12_col14,#T_6362f52d_ab87_11eb_8b5e_d85de2434bfarow13_col3,#T_6362f52d_ab87_11eb_8b5e_d85de2434bfarow14_col8,#T_6362f52d_ab87_11eb_8b5e_d85de2434bfarow14_col11{\n",
       "            background-color:  #9ebeff;\n",
       "            color:  #000000;\n",
       "        }#T_6362f52d_ab87_11eb_8b5e_d85de2434bfarow7_col6{\n",
       "            background-color:  #c3d5f4;\n",
       "            color:  #000000;\n",
       "        }#T_6362f52d_ab87_11eb_8b5e_d85de2434bfarow7_col8,#T_6362f52d_ab87_11eb_8b5e_d85de2434bfarow13_col8{\n",
       "            background-color:  #97b8ff;\n",
       "            color:  #000000;\n",
       "        }#T_6362f52d_ab87_11eb_8b5e_d85de2434bfarow7_col13{\n",
       "            background-color:  #cdd9ec;\n",
       "            color:  #000000;\n",
       "        }#T_6362f52d_ab87_11eb_8b5e_d85de2434bfarow7_col14{\n",
       "            background-color:  #f5c2aa;\n",
       "            color:  #000000;\n",
       "        }#T_6362f52d_ab87_11eb_8b5e_d85de2434bfarow7_col15,#T_6362f52d_ab87_11eb_8b5e_d85de2434bfarow14_col12{\n",
       "            background-color:  #a2c1ff;\n",
       "            color:  #000000;\n",
       "        }#T_6362f52d_ab87_11eb_8b5e_d85de2434bfarow7_col17{\n",
       "            background-color:  #f2cab5;\n",
       "            color:  #000000;\n",
       "        }#T_6362f52d_ab87_11eb_8b5e_d85de2434bfarow8_col2{\n",
       "            background-color:  #d1dae9;\n",
       "            color:  #000000;\n",
       "        }#T_6362f52d_ab87_11eb_8b5e_d85de2434bfarow8_col3,#T_6362f52d_ab87_11eb_8b5e_d85de2434bfarow11_col12{\n",
       "            background-color:  #7b9ff9;\n",
       "            color:  #000000;\n",
       "        }#T_6362f52d_ab87_11eb_8b5e_d85de2434bfarow8_col5,#T_6362f52d_ab87_11eb_8b5e_d85de2434bfarow12_col0{\n",
       "            background-color:  #3f53c6;\n",
       "            color:  #f1f1f1;\n",
       "        }#T_6362f52d_ab87_11eb_8b5e_d85de2434bfarow8_col7{\n",
       "            background-color:  #94b6ff;\n",
       "            color:  #000000;\n",
       "        }#T_6362f52d_ab87_11eb_8b5e_d85de2434bfarow9_col4,#T_6362f52d_ab87_11eb_8b5e_d85de2434bfarow9_col16{\n",
       "            background-color:  #81a4fb;\n",
       "            color:  #000000;\n",
       "        }#T_6362f52d_ab87_11eb_8b5e_d85de2434bfarow9_col7,#T_6362f52d_ab87_11eb_8b5e_d85de2434bfarow10_col12{\n",
       "            background-color:  #6e90f2;\n",
       "            color:  #000000;\n",
       "        }#T_6362f52d_ab87_11eb_8b5e_d85de2434bfarow9_col8,#T_6362f52d_ab87_11eb_8b5e_d85de2434bfarow13_col4,#T_6362f52d_ab87_11eb_8b5e_d85de2434bfarow14_col9{\n",
       "            background-color:  #5673e0;\n",
       "            color:  #000000;\n",
       "        }#T_6362f52d_ab87_11eb_8b5e_d85de2434bfarow9_col12{\n",
       "            background-color:  #688aef;\n",
       "            color:  #000000;\n",
       "        }#T_6362f52d_ab87_11eb_8b5e_d85de2434bfarow10_col9,#T_6362f52d_ab87_11eb_8b5e_d85de2434bfarow15_col6{\n",
       "            background-color:  #465ecf;\n",
       "            color:  #f1f1f1;\n",
       "        }#T_6362f52d_ab87_11eb_8b5e_d85de2434bfarow11_col0{\n",
       "            background-color:  #4257c9;\n",
       "            color:  #f1f1f1;\n",
       "        }#T_6362f52d_ab87_11eb_8b5e_d85de2434bfarow11_col1,#T_6362f52d_ab87_11eb_8b5e_d85de2434bfarow11_col15,#T_6362f52d_ab87_11eb_8b5e_d85de2434bfarow16_col1{\n",
       "            background-color:  #8fb1fe;\n",
       "            color:  #000000;\n",
       "        }#T_6362f52d_ab87_11eb_8b5e_d85de2434bfarow11_col3,#T_6362f52d_ab87_11eb_8b5e_d85de2434bfarow11_col17{\n",
       "            background-color:  #7295f4;\n",
       "            color:  #000000;\n",
       "        }#T_6362f52d_ab87_11eb_8b5e_d85de2434bfarow11_col4,#T_6362f52d_ab87_11eb_8b5e_d85de2434bfarow11_col16{\n",
       "            background-color:  #6a8bef;\n",
       "            color:  #000000;\n",
       "        }#T_6362f52d_ab87_11eb_8b5e_d85de2434bfarow12_col3,#T_6362f52d_ab87_11eb_8b5e_d85de2434bfarow12_col17{\n",
       "            background-color:  #7ea1fa;\n",
       "            color:  #000000;\n",
       "        }#T_6362f52d_ab87_11eb_8b5e_d85de2434bfarow12_col7{\n",
       "            background-color:  #92b4fe;\n",
       "            color:  #000000;\n",
       "        }#T_6362f52d_ab87_11eb_8b5e_d85de2434bfarow12_col11,#T_6362f52d_ab87_11eb_8b5e_d85de2434bfarow14_col6{\n",
       "            background-color:  #6485ec;\n",
       "            color:  #000000;\n",
       "        }#T_6362f52d_ab87_11eb_8b5e_d85de2434bfarow13_col1{\n",
       "            background-color:  #cedaeb;\n",
       "            color:  #000000;\n",
       "        }#T_6362f52d_ab87_11eb_8b5e_d85de2434bfarow13_col7{\n",
       "            background-color:  #d6dce4;\n",
       "            color:  #000000;\n",
       "        }#T_6362f52d_ab87_11eb_8b5e_d85de2434bfarow13_col10{\n",
       "            background-color:  #4b64d5;\n",
       "            color:  #f1f1f1;\n",
       "        }#T_6362f52d_ab87_11eb_8b5e_d85de2434bfarow13_col14{\n",
       "            background-color:  #f39778;\n",
       "            color:  #000000;\n",
       "        }#T_6362f52d_ab87_11eb_8b5e_d85de2434bfarow13_col15{\n",
       "            background-color:  #e8d6cc;\n",
       "            color:  #000000;\n",
       "        }#T_6362f52d_ab87_11eb_8b5e_d85de2434bfarow14_col1{\n",
       "            background-color:  #e5d8d1;\n",
       "            color:  #000000;\n",
       "        }#T_6362f52d_ab87_11eb_8b5e_d85de2434bfarow14_col5{\n",
       "            background-color:  #e6d7cf;\n",
       "            color:  #000000;\n",
       "        }#T_6362f52d_ab87_11eb_8b5e_d85de2434bfarow14_col7{\n",
       "            background-color:  #f5c1a9;\n",
       "            color:  #000000;\n",
       "        }#T_6362f52d_ab87_11eb_8b5e_d85de2434bfarow14_col13{\n",
       "            background-color:  #f59c7d;\n",
       "            color:  #000000;\n",
       "        }#T_6362f52d_ab87_11eb_8b5e_d85de2434bfarow14_col15{\n",
       "            background-color:  #f7af91;\n",
       "            color:  #000000;\n",
       "        }#T_6362f52d_ab87_11eb_8b5e_d85de2434bfarow15_col1{\n",
       "            background-color:  #d4dbe6;\n",
       "            color:  #000000;\n",
       "        }#T_6362f52d_ab87_11eb_8b5e_d85de2434bfarow15_col7,#T_6362f52d_ab87_11eb_8b5e_d85de2434bfarow16_col14{\n",
       "            background-color:  #b1cbfc;\n",
       "            color:  #000000;\n",
       "        }#T_6362f52d_ab87_11eb_8b5e_d85de2434bfarow15_col13{\n",
       "            background-color:  #e9d5cb;\n",
       "            color:  #000000;\n",
       "        }#T_6362f52d_ab87_11eb_8b5e_d85de2434bfarow15_col14{\n",
       "            background-color:  #f7a98b;\n",
       "            color:  #000000;\n",
       "        }#T_6362f52d_ab87_11eb_8b5e_d85de2434bfarow16_col7{\n",
       "            background-color:  #a6c4fe;\n",
       "            color:  #000000;\n",
       "        }#T_6362f52d_ab87_11eb_8b5e_d85de2434bfarow17_col5{\n",
       "            background-color:  #adc9fd;\n",
       "            color:  #000000;\n",
       "        }</style><table id=\"T_6362f52d_ab87_11eb_8b5e_d85de2434bfa\" ><thead>    <tr>        <th class=\"blank level0\" ></th>        <th class=\"col_heading level0 col0\" >id</th>        <th class=\"col_heading level0 col1\" >budget</th>        <th class=\"col_heading level0 col2\" >homepage</th>        <th class=\"col_heading level0 col3\" >popularity</th>        <th class=\"col_heading level0 col4\" >runtime</th>        <th class=\"col_heading level0 col5\" >revenue</th>        <th class=\"col_heading level0 col6\" >rating</th>        <th class=\"col_heading level0 col7\" >totalVotes</th>        <th class=\"col_heading level0 col8\" >release_year</th>        <th class=\"col_heading level0 col9\" >release_month</th>        <th class=\"col_heading level0 col10\" >release_day</th>        <th class=\"col_heading level0 col11\" >numberofgenres</th>        <th class=\"col_heading level0 col12\" >lang_english</th>        <th class=\"col_heading level0 col13\" >bud_runtime</th>        <th class=\"col_heading level0 col14\" >bud_year</th>        <th class=\"col_heading level0 col15\" >bud_popularity</th>        <th class=\"col_heading level0 col16\" >runtime_year</th>        <th class=\"col_heading level0 col17\" >popularity_year</th>    </tr></thead><tbody>\n",
       "                <tr>\n",
       "                        <th id=\"T_6362f52d_ab87_11eb_8b5e_d85de2434bfalevel0_row0\" class=\"row_heading level0 row0\" >id</th>\n",
       "                        <td id=\"T_6362f52d_ab87_11eb_8b5e_d85de2434bfarow0_col0\" class=\"data row0 col0\" >1.000000</td>\n",
       "                        <td id=\"T_6362f52d_ab87_11eb_8b5e_d85de2434bfarow0_col1\" class=\"data row0 col1\" >0.012868</td>\n",
       "                        <td id=\"T_6362f52d_ab87_11eb_8b5e_d85de2434bfarow0_col2\" class=\"data row0 col2\" >-0.008170</td>\n",
       "                        <td id=\"T_6362f52d_ab87_11eb_8b5e_d85de2434bfarow0_col3\" class=\"data row0 col3\" >-0.006635</td>\n",
       "                        <td id=\"T_6362f52d_ab87_11eb_8b5e_d85de2434bfarow0_col4\" class=\"data row0 col4\" >0.015811</td>\n",
       "                        <td id=\"T_6362f52d_ab87_11eb_8b5e_d85de2434bfarow0_col5\" class=\"data row0 col5\" >0.012539</td>\n",
       "                        <td id=\"T_6362f52d_ab87_11eb_8b5e_d85de2434bfarow0_col6\" class=\"data row0 col6\" >-0.011004</td>\n",
       "                        <td id=\"T_6362f52d_ab87_11eb_8b5e_d85de2434bfarow0_col7\" class=\"data row0 col7\" >-0.013265</td>\n",
       "                        <td id=\"T_6362f52d_ab87_11eb_8b5e_d85de2434bfarow0_col8\" class=\"data row0 col8\" >-0.016391</td>\n",
       "                        <td id=\"T_6362f52d_ab87_11eb_8b5e_d85de2434bfarow0_col9\" class=\"data row0 col9\" >0.012241</td>\n",
       "                        <td id=\"T_6362f52d_ab87_11eb_8b5e_d85de2434bfarow0_col10\" class=\"data row0 col10\" >-0.009644</td>\n",
       "                        <td id=\"T_6362f52d_ab87_11eb_8b5e_d85de2434bfarow0_col11\" class=\"data row0 col11\" >0.010604</td>\n",
       "                        <td id=\"T_6362f52d_ab87_11eb_8b5e_d85de2434bfarow0_col12\" class=\"data row0 col12\" >0.001205</td>\n",
       "                        <td id=\"T_6362f52d_ab87_11eb_8b5e_d85de2434bfarow0_col13\" class=\"data row0 col13\" >0.013554</td>\n",
       "                        <td id=\"T_6362f52d_ab87_11eb_8b5e_d85de2434bfarow0_col14\" class=\"data row0 col14\" >0.019269</td>\n",
       "                        <td id=\"T_6362f52d_ab87_11eb_8b5e_d85de2434bfarow0_col15\" class=\"data row0 col15\" >0.023232</td>\n",
       "                        <td id=\"T_6362f52d_ab87_11eb_8b5e_d85de2434bfarow0_col16\" class=\"data row0 col16\" >0.016368</td>\n",
       "                        <td id=\"T_6362f52d_ab87_11eb_8b5e_d85de2434bfarow0_col17\" class=\"data row0 col17\" >-0.006610</td>\n",
       "            </tr>\n",
       "            <tr>\n",
       "                        <th id=\"T_6362f52d_ab87_11eb_8b5e_d85de2434bfalevel0_row1\" class=\"row_heading level0 row1\" >budget</th>\n",
       "                        <td id=\"T_6362f52d_ab87_11eb_8b5e_d85de2434bfarow1_col0\" class=\"data row1 col0\" >0.012868</td>\n",
       "                        <td id=\"T_6362f52d_ab87_11eb_8b5e_d85de2434bfarow1_col1\" class=\"data row1 col1\" >1.000000</td>\n",
       "                        <td id=\"T_6362f52d_ab87_11eb_8b5e_d85de2434bfarow1_col2\" class=\"data row1 col2\" >0.166281</td>\n",
       "                        <td id=\"T_6362f52d_ab87_11eb_8b5e_d85de2434bfarow1_col3\" class=\"data row1 col3\" >0.216239</td>\n",
       "                        <td id=\"T_6362f52d_ab87_11eb_8b5e_d85de2434bfarow1_col4\" class=\"data row1 col4\" >0.199702</td>\n",
       "                        <td id=\"T_6362f52d_ab87_11eb_8b5e_d85de2434bfarow1_col5\" class=\"data row1 col5\" >0.537718</td>\n",
       "                        <td id=\"T_6362f52d_ab87_11eb_8b5e_d85de2434bfarow1_col6\" class=\"data row1 col6\" >0.011784</td>\n",
       "                        <td id=\"T_6362f52d_ab87_11eb_8b5e_d85de2434bfarow1_col7\" class=\"data row1 col7\" >0.293954</td>\n",
       "                        <td id=\"T_6362f52d_ab87_11eb_8b5e_d85de2434bfarow1_col8\" class=\"data row1 col8\" >0.103845</td>\n",
       "                        <td id=\"T_6362f52d_ab87_11eb_8b5e_d85de2434bfarow1_col9\" class=\"data row1 col9\" >0.043785</td>\n",
       "                        <td id=\"T_6362f52d_ab87_11eb_8b5e_d85de2434bfarow1_col10\" class=\"data row1 col10\" >-0.081413</td>\n",
       "                        <td id=\"T_6362f52d_ab87_11eb_8b5e_d85de2434bfarow1_col11\" class=\"data row1 col11\" >0.193528</td>\n",
       "                        <td id=\"T_6362f52d_ab87_11eb_8b5e_d85de2434bfarow1_col12\" class=\"data row1 col12\" >0.168814</td>\n",
       "                        <td id=\"T_6362f52d_ab87_11eb_8b5e_d85de2434bfarow1_col13\" class=\"data row1 col13\" >0.400926</td>\n",
       "                        <td id=\"T_6362f52d_ab87_11eb_8b5e_d85de2434bfarow1_col14\" class=\"data row1 col14\" >0.496779</td>\n",
       "                        <td id=\"T_6362f52d_ab87_11eb_8b5e_d85de2434bfarow1_col15\" class=\"data row1 col15\" >0.423807</td>\n",
       "                        <td id=\"T_6362f52d_ab87_11eb_8b5e_d85de2434bfarow1_col16\" class=\"data row1 col16\" >0.196968</td>\n",
       "                        <td id=\"T_6362f52d_ab87_11eb_8b5e_d85de2434bfarow1_col17\" class=\"data row1 col17\" >0.216844</td>\n",
       "            </tr>\n",
       "            <tr>\n",
       "                        <th id=\"T_6362f52d_ab87_11eb_8b5e_d85de2434bfalevel0_row2\" class=\"row_heading level0 row2\" >homepage</th>\n",
       "                        <td id=\"T_6362f52d_ab87_11eb_8b5e_d85de2434bfarow2_col0\" class=\"data row2 col0\" >-0.008170</td>\n",
       "                        <td id=\"T_6362f52d_ab87_11eb_8b5e_d85de2434bfarow2_col1\" class=\"data row2 col1\" >0.166281</td>\n",
       "                        <td id=\"T_6362f52d_ab87_11eb_8b5e_d85de2434bfarow2_col2\" class=\"data row2 col2\" >1.000000</td>\n",
       "                        <td id=\"T_6362f52d_ab87_11eb_8b5e_d85de2434bfarow2_col3\" class=\"data row2 col3\" >0.161585</td>\n",
       "                        <td id=\"T_6362f52d_ab87_11eb_8b5e_d85de2434bfarow2_col4\" class=\"data row2 col4\" >0.061290</td>\n",
       "                        <td id=\"T_6362f52d_ab87_11eb_8b5e_d85de2434bfarow2_col5\" class=\"data row2 col5\" >0.135583</td>\n",
       "                        <td id=\"T_6362f52d_ab87_11eb_8b5e_d85de2434bfarow2_col6\" class=\"data row2 col6\" >0.108453</td>\n",
       "                        <td id=\"T_6362f52d_ab87_11eb_8b5e_d85de2434bfarow2_col7\" class=\"data row2 col7\" >0.299594</td>\n",
       "                        <td id=\"T_6362f52d_ab87_11eb_8b5e_d85de2434bfarow2_col8\" class=\"data row2 col8\" >0.406306</td>\n",
       "                        <td id=\"T_6362f52d_ab87_11eb_8b5e_d85de2434bfarow2_col9\" class=\"data row2 col9\" >-0.011791</td>\n",
       "                        <td id=\"T_6362f52d_ab87_11eb_8b5e_d85de2434bfarow2_col10\" class=\"data row2 col10\" >-0.089202</td>\n",
       "                        <td id=\"T_6362f52d_ab87_11eb_8b5e_d85de2434bfarow2_col11\" class=\"data row2 col11\" >0.007031</td>\n",
       "                        <td id=\"T_6362f52d_ab87_11eb_8b5e_d85de2434bfarow2_col12\" class=\"data row2 col12\" >0.032202</td>\n",
       "                        <td id=\"T_6362f52d_ab87_11eb_8b5e_d85de2434bfarow2_col13\" class=\"data row2 col13\" >0.153826</td>\n",
       "                        <td id=\"T_6362f52d_ab87_11eb_8b5e_d85de2434bfarow2_col14\" class=\"data row2 col14\" >0.233786</td>\n",
       "                        <td id=\"T_6362f52d_ab87_11eb_8b5e_d85de2434bfarow2_col15\" class=\"data row2 col15\" >0.114101</td>\n",
       "                        <td id=\"T_6362f52d_ab87_11eb_8b5e_d85de2434bfarow2_col16\" class=\"data row2 col16\" >0.050202</td>\n",
       "                        <td id=\"T_6362f52d_ab87_11eb_8b5e_d85de2434bfarow2_col17\" class=\"data row2 col17\" >0.160491</td>\n",
       "            </tr>\n",
       "            <tr>\n",
       "                        <th id=\"T_6362f52d_ab87_11eb_8b5e_d85de2434bfalevel0_row3\" class=\"row_heading level0 row3\" >popularity</th>\n",
       "                        <td id=\"T_6362f52d_ab87_11eb_8b5e_d85de2434bfarow3_col0\" class=\"data row3 col0\" >-0.006635</td>\n",
       "                        <td id=\"T_6362f52d_ab87_11eb_8b5e_d85de2434bfarow3_col1\" class=\"data row3 col1\" >0.216239</td>\n",
       "                        <td id=\"T_6362f52d_ab87_11eb_8b5e_d85de2434bfarow3_col2\" class=\"data row3 col2\" >0.161585</td>\n",
       "                        <td id=\"T_6362f52d_ab87_11eb_8b5e_d85de2434bfarow3_col3\" class=\"data row3 col3\" >1.000000</td>\n",
       "                        <td id=\"T_6362f52d_ab87_11eb_8b5e_d85de2434bfarow3_col4\" class=\"data row3 col4\" >0.141048</td>\n",
       "                        <td id=\"T_6362f52d_ab87_11eb_8b5e_d85de2434bfarow3_col5\" class=\"data row3 col5\" >0.290395</td>\n",
       "                        <td id=\"T_6362f52d_ab87_11eb_8b5e_d85de2434bfarow3_col6\" class=\"data row3 col6\" >0.167659</td>\n",
       "                        <td id=\"T_6362f52d_ab87_11eb_8b5e_d85de2434bfarow3_col7\" class=\"data row3 col7\" >0.559314</td>\n",
       "                        <td id=\"T_6362f52d_ab87_11eb_8b5e_d85de2434bfarow3_col8\" class=\"data row3 col8\" >0.116738</td>\n",
       "                        <td id=\"T_6362f52d_ab87_11eb_8b5e_d85de2434bfarow3_col9\" class=\"data row3 col9\" >-0.008248</td>\n",
       "                        <td id=\"T_6362f52d_ab87_11eb_8b5e_d85de2434bfarow3_col10\" class=\"data row3 col10\" >-0.105783</td>\n",
       "                        <td id=\"T_6362f52d_ab87_11eb_8b5e_d85de2434bfarow3_col11\" class=\"data row3 col11\" >0.087595</td>\n",
       "                        <td id=\"T_6362f52d_ab87_11eb_8b5e_d85de2434bfarow3_col12\" class=\"data row3 col12\" >0.126520</td>\n",
       "                        <td id=\"T_6362f52d_ab87_11eb_8b5e_d85de2434bfarow3_col13\" class=\"data row3 col13\" >0.222532</td>\n",
       "                        <td id=\"T_6362f52d_ab87_11eb_8b5e_d85de2434bfarow3_col14\" class=\"data row3 col14\" >0.341384</td>\n",
       "                        <td id=\"T_6362f52d_ab87_11eb_8b5e_d85de2434bfarow3_col15\" class=\"data row3 col15\" >0.016220</td>\n",
       "                        <td id=\"T_6362f52d_ab87_11eb_8b5e_d85de2434bfarow3_col16\" class=\"data row3 col16\" >0.137656</td>\n",
       "                        <td id=\"T_6362f52d_ab87_11eb_8b5e_d85de2434bfarow3_col17\" class=\"data row3 col17\" >0.999987</td>\n",
       "            </tr>\n",
       "            <tr>\n",
       "                        <th id=\"T_6362f52d_ab87_11eb_8b5e_d85de2434bfalevel0_row4\" class=\"row_heading level0 row4\" >runtime</th>\n",
       "                        <td id=\"T_6362f52d_ab87_11eb_8b5e_d85de2434bfarow4_col0\" class=\"data row4 col0\" >0.015811</td>\n",
       "                        <td id=\"T_6362f52d_ab87_11eb_8b5e_d85de2434bfarow4_col1\" class=\"data row4 col1\" >0.199702</td>\n",
       "                        <td id=\"T_6362f52d_ab87_11eb_8b5e_d85de2434bfarow4_col2\" class=\"data row4 col2\" >0.061290</td>\n",
       "                        <td id=\"T_6362f52d_ab87_11eb_8b5e_d85de2434bfarow4_col3\" class=\"data row4 col3\" >0.141048</td>\n",
       "                        <td id=\"T_6362f52d_ab87_11eb_8b5e_d85de2434bfarow4_col4\" class=\"data row4 col4\" >1.000000</td>\n",
       "                        <td id=\"T_6362f52d_ab87_11eb_8b5e_d85de2434bfarow4_col5\" class=\"data row4 col5\" >0.212543</td>\n",
       "                        <td id=\"T_6362f52d_ab87_11eb_8b5e_d85de2434bfarow4_col6\" class=\"data row4 col6\" >0.309434</td>\n",
       "                        <td id=\"T_6362f52d_ab87_11eb_8b5e_d85de2434bfarow4_col7\" class=\"data row4 col7\" >0.218966</td>\n",
       "                        <td id=\"T_6362f52d_ab87_11eb_8b5e_d85de2434bfarow4_col8\" class=\"data row4 col8\" >0.028232</td>\n",
       "                        <td id=\"T_6362f52d_ab87_11eb_8b5e_d85de2434bfarow4_col9\" class=\"data row4 col9\" >0.129322</td>\n",
       "                        <td id=\"T_6362f52d_ab87_11eb_8b5e_d85de2434bfarow4_col10\" class=\"data row4 col10\" >-0.062833</td>\n",
       "                        <td id=\"T_6362f52d_ab87_11eb_8b5e_d85de2434bfarow4_col11\" class=\"data row4 col11\" >0.054458</td>\n",
       "                        <td id=\"T_6362f52d_ab87_11eb_8b5e_d85de2434bfarow4_col12\" class=\"data row4 col12\" >-0.113789</td>\n",
       "                        <td id=\"T_6362f52d_ab87_11eb_8b5e_d85de2434bfarow4_col13\" class=\"data row4 col13\" >-0.010522</td>\n",
       "                        <td id=\"T_6362f52d_ab87_11eb_8b5e_d85de2434bfarow4_col14\" class=\"data row4 col14\" >0.263282</td>\n",
       "                        <td id=\"T_6362f52d_ab87_11eb_8b5e_d85de2434bfarow4_col15\" class=\"data row4 col15\" >0.158730</td>\n",
       "                        <td id=\"T_6362f52d_ab87_11eb_8b5e_d85de2434bfarow4_col16\" class=\"data row4 col16\" >0.999603</td>\n",
       "                        <td id=\"T_6362f52d_ab87_11eb_8b5e_d85de2434bfarow4_col17\" class=\"data row4 col17\" >0.141486</td>\n",
       "            </tr>\n",
       "            <tr>\n",
       "                        <th id=\"T_6362f52d_ab87_11eb_8b5e_d85de2434bfalevel0_row5\" class=\"row_heading level0 row5\" >revenue</th>\n",
       "                        <td id=\"T_6362f52d_ab87_11eb_8b5e_d85de2434bfarow5_col0\" class=\"data row5 col0\" >0.012539</td>\n",
       "                        <td id=\"T_6362f52d_ab87_11eb_8b5e_d85de2434bfarow5_col1\" class=\"data row5 col1\" >0.537718</td>\n",
       "                        <td id=\"T_6362f52d_ab87_11eb_8b5e_d85de2434bfarow5_col2\" class=\"data row5 col2\" >0.135583</td>\n",
       "                        <td id=\"T_6362f52d_ab87_11eb_8b5e_d85de2434bfarow5_col3\" class=\"data row5 col3\" >0.290395</td>\n",
       "                        <td id=\"T_6362f52d_ab87_11eb_8b5e_d85de2434bfarow5_col4\" class=\"data row5 col4\" >0.212543</td>\n",
       "                        <td id=\"T_6362f52d_ab87_11eb_8b5e_d85de2434bfarow5_col5\" class=\"data row5 col5\" >1.000000</td>\n",
       "                        <td id=\"T_6362f52d_ab87_11eb_8b5e_d85de2434bfarow5_col6\" class=\"data row5 col6\" >0.134218</td>\n",
       "                        <td id=\"T_6362f52d_ab87_11eb_8b5e_d85de2434bfarow5_col7\" class=\"data row5 col7\" >0.410851</td>\n",
       "                        <td id=\"T_6362f52d_ab87_11eb_8b5e_d85de2434bfarow5_col8\" class=\"data row5 col8\" >-0.056826</td>\n",
       "                        <td id=\"T_6362f52d_ab87_11eb_8b5e_d85de2434bfarow5_col9\" class=\"data row5 col9\" >0.033193</td>\n",
       "                        <td id=\"T_6362f52d_ab87_11eb_8b5e_d85de2434bfarow5_col10\" class=\"data row5 col10\" >-0.074551</td>\n",
       "                        <td id=\"T_6362f52d_ab87_11eb_8b5e_d85de2434bfarow5_col11\" class=\"data row5 col11\" >0.195010</td>\n",
       "                        <td id=\"T_6362f52d_ab87_11eb_8b5e_d85de2434bfarow5_col12\" class=\"data row5 col12\" >0.192291</td>\n",
       "                        <td id=\"T_6362f52d_ab87_11eb_8b5e_d85de2434bfarow5_col13\" class=\"data row5 col13\" >0.381996</td>\n",
       "                        <td id=\"T_6362f52d_ab87_11eb_8b5e_d85de2434bfarow5_col14\" class=\"data row5 col14\" >0.502566</td>\n",
       "                        <td id=\"T_6362f52d_ab87_11eb_8b5e_d85de2434bfarow5_col15\" class=\"data row5 col15\" >0.351475</td>\n",
       "                        <td id=\"T_6362f52d_ab87_11eb_8b5e_d85de2434bfarow5_col16\" class=\"data row5 col16\" >0.214051</td>\n",
       "                        <td id=\"T_6362f52d_ab87_11eb_8b5e_d85de2434bfarow5_col17\" class=\"data row5 col17\" >0.291721</td>\n",
       "            </tr>\n",
       "            <tr>\n",
       "                        <th id=\"T_6362f52d_ab87_11eb_8b5e_d85de2434bfalevel0_row6\" class=\"row_heading level0 row6\" >rating</th>\n",
       "                        <td id=\"T_6362f52d_ab87_11eb_8b5e_d85de2434bfarow6_col0\" class=\"data row6 col0\" >-0.011004</td>\n",
       "                        <td id=\"T_6362f52d_ab87_11eb_8b5e_d85de2434bfarow6_col1\" class=\"data row6 col1\" >0.011784</td>\n",
       "                        <td id=\"T_6362f52d_ab87_11eb_8b5e_d85de2434bfarow6_col2\" class=\"data row6 col2\" >0.108453</td>\n",
       "                        <td id=\"T_6362f52d_ab87_11eb_8b5e_d85de2434bfarow6_col3\" class=\"data row6 col3\" >0.167659</td>\n",
       "                        <td id=\"T_6362f52d_ab87_11eb_8b5e_d85de2434bfarow6_col4\" class=\"data row6 col4\" >0.309434</td>\n",
       "                        <td id=\"T_6362f52d_ab87_11eb_8b5e_d85de2434bfarow6_col5\" class=\"data row6 col5\" >0.134218</td>\n",
       "                        <td id=\"T_6362f52d_ab87_11eb_8b5e_d85de2434bfarow6_col6\" class=\"data row6 col6\" >1.000000</td>\n",
       "                        <td id=\"T_6362f52d_ab87_11eb_8b5e_d85de2434bfarow6_col7\" class=\"data row6 col7\" >0.327992</td>\n",
       "                        <td id=\"T_6362f52d_ab87_11eb_8b5e_d85de2434bfarow6_col8\" class=\"data row6 col8\" >-0.012350</td>\n",
       "                        <td id=\"T_6362f52d_ab87_11eb_8b5e_d85de2434bfarow6_col9\" class=\"data row6 col9\" >0.108070</td>\n",
       "                        <td id=\"T_6362f52d_ab87_11eb_8b5e_d85de2434bfarow6_col10\" class=\"data row6 col10\" >-0.053557</td>\n",
       "                        <td id=\"T_6362f52d_ab87_11eb_8b5e_d85de2434bfarow6_col11\" class=\"data row6 col11\" >-0.040847</td>\n",
       "                        <td id=\"T_6362f52d_ab87_11eb_8b5e_d85de2434bfarow6_col12\" class=\"data row6 col12\" >-0.134275</td>\n",
       "                        <td id=\"T_6362f52d_ab87_11eb_8b5e_d85de2434bfarow6_col13\" class=\"data row6 col13\" >-0.036025</td>\n",
       "                        <td id=\"T_6362f52d_ab87_11eb_8b5e_d85de2434bfarow6_col14\" class=\"data row6 col14\" >0.019006</td>\n",
       "                        <td id=\"T_6362f52d_ab87_11eb_8b5e_d85de2434bfarow6_col15\" class=\"data row6 col15\" >-0.087499</td>\n",
       "                        <td id=\"T_6362f52d_ab87_11eb_8b5e_d85de2434bfarow6_col16\" class=\"data row6 col16\" >0.310113</td>\n",
       "                        <td id=\"T_6362f52d_ab87_11eb_8b5e_d85de2434bfarow6_col17\" class=\"data row6 col17\" >0.168544</td>\n",
       "            </tr>\n",
       "            <tr>\n",
       "                        <th id=\"T_6362f52d_ab87_11eb_8b5e_d85de2434bfalevel0_row7\" class=\"row_heading level0 row7\" >totalVotes</th>\n",
       "                        <td id=\"T_6362f52d_ab87_11eb_8b5e_d85de2434bfarow7_col0\" class=\"data row7 col0\" >-0.013265</td>\n",
       "                        <td id=\"T_6362f52d_ab87_11eb_8b5e_d85de2434bfarow7_col1\" class=\"data row7 col1\" >0.293954</td>\n",
       "                        <td id=\"T_6362f52d_ab87_11eb_8b5e_d85de2434bfarow7_col2\" class=\"data row7 col2\" >0.299594</td>\n",
       "                        <td id=\"T_6362f52d_ab87_11eb_8b5e_d85de2434bfarow7_col3\" class=\"data row7 col3\" >0.559314</td>\n",
       "                        <td id=\"T_6362f52d_ab87_11eb_8b5e_d85de2434bfarow7_col4\" class=\"data row7 col4\" >0.218966</td>\n",
       "                        <td id=\"T_6362f52d_ab87_11eb_8b5e_d85de2434bfarow7_col5\" class=\"data row7 col5\" >0.410851</td>\n",
       "                        <td id=\"T_6362f52d_ab87_11eb_8b5e_d85de2434bfarow7_col6\" class=\"data row7 col6\" >0.327992</td>\n",
       "                        <td id=\"T_6362f52d_ab87_11eb_8b5e_d85de2434bfarow7_col7\" class=\"data row7 col7\" >1.000000</td>\n",
       "                        <td id=\"T_6362f52d_ab87_11eb_8b5e_d85de2434bfarow7_col8\" class=\"data row7 col8\" >0.157692</td>\n",
       "                        <td id=\"T_6362f52d_ab87_11eb_8b5e_d85de2434bfarow7_col9\" class=\"data row7 col9\" >0.030602</td>\n",
       "                        <td id=\"T_6362f52d_ab87_11eb_8b5e_d85de2434bfarow7_col10\" class=\"data row7 col10\" >-0.157498</td>\n",
       "                        <td id=\"T_6362f52d_ab87_11eb_8b5e_d85de2434bfarow7_col11\" class=\"data row7 col11\" >0.118601</td>\n",
       "                        <td id=\"T_6362f52d_ab87_11eb_8b5e_d85de2434bfarow7_col12\" class=\"data row7 col12\" >0.146706</td>\n",
       "                        <td id=\"T_6362f52d_ab87_11eb_8b5e_d85de2434bfarow7_col13\" class=\"data row7 col13\" >0.390613</td>\n",
       "                        <td id=\"T_6362f52d_ab87_11eb_8b5e_d85de2434bfarow7_col14\" class=\"data row7 col14\" >0.579022</td>\n",
       "                        <td id=\"T_6362f52d_ab87_11eb_8b5e_d85de2434bfarow7_col15\" class=\"data row7 col15\" >0.251877</td>\n",
       "                        <td id=\"T_6362f52d_ab87_11eb_8b5e_d85de2434bfarow7_col16\" class=\"data row7 col16\" >0.214422</td>\n",
       "                        <td id=\"T_6362f52d_ab87_11eb_8b5e_d85de2434bfarow7_col17\" class=\"data row7 col17\" >0.559883</td>\n",
       "            </tr>\n",
       "            <tr>\n",
       "                        <th id=\"T_6362f52d_ab87_11eb_8b5e_d85de2434bfalevel0_row8\" class=\"row_heading level0 row8\" >release_year</th>\n",
       "                        <td id=\"T_6362f52d_ab87_11eb_8b5e_d85de2434bfarow8_col0\" class=\"data row8 col0\" >-0.016391</td>\n",
       "                        <td id=\"T_6362f52d_ab87_11eb_8b5e_d85de2434bfarow8_col1\" class=\"data row8 col1\" >0.103845</td>\n",
       "                        <td id=\"T_6362f52d_ab87_11eb_8b5e_d85de2434bfarow8_col2\" class=\"data row8 col2\" >0.406306</td>\n",
       "                        <td id=\"T_6362f52d_ab87_11eb_8b5e_d85de2434bfarow8_col3\" class=\"data row8 col3\" >0.116738</td>\n",
       "                        <td id=\"T_6362f52d_ab87_11eb_8b5e_d85de2434bfarow8_col4\" class=\"data row8 col4\" >0.028232</td>\n",
       "                        <td id=\"T_6362f52d_ab87_11eb_8b5e_d85de2434bfarow8_col5\" class=\"data row8 col5\" >-0.056826</td>\n",
       "                        <td id=\"T_6362f52d_ab87_11eb_8b5e_d85de2434bfarow8_col6\" class=\"data row8 col6\" >-0.012350</td>\n",
       "                        <td id=\"T_6362f52d_ab87_11eb_8b5e_d85de2434bfarow8_col7\" class=\"data row8 col7\" >0.157692</td>\n",
       "                        <td id=\"T_6362f52d_ab87_11eb_8b5e_d85de2434bfarow8_col8\" class=\"data row8 col8\" >1.000000</td>\n",
       "                        <td id=\"T_6362f52d_ab87_11eb_8b5e_d85de2434bfarow8_col9\" class=\"data row8 col9\" >-0.059667</td>\n",
       "                        <td id=\"T_6362f52d_ab87_11eb_8b5e_d85de2434bfarow8_col10\" class=\"data row8 col10\" >-0.081112</td>\n",
       "                        <td id=\"T_6362f52d_ab87_11eb_8b5e_d85de2434bfarow8_col11\" class=\"data row8 col11\" >-0.078841</td>\n",
       "                        <td id=\"T_6362f52d_ab87_11eb_8b5e_d85de2434bfarow8_col12\" class=\"data row8 col12\" >-0.166873</td>\n",
       "                        <td id=\"T_6362f52d_ab87_11eb_8b5e_d85de2434bfarow8_col13\" class=\"data row8 col13\" >0.160053</td>\n",
       "                        <td id=\"T_6362f52d_ab87_11eb_8b5e_d85de2434bfarow8_col14\" class=\"data row8 col14\" >0.181964</td>\n",
       "                        <td id=\"T_6362f52d_ab87_11eb_8b5e_d85de2434bfarow8_col15\" class=\"data row8 col15\" >0.106605</td>\n",
       "                        <td id=\"T_6362f52d_ab87_11eb_8b5e_d85de2434bfarow8_col16\" class=\"data row8 col16\" >0.000560</td>\n",
       "                        <td id=\"T_6362f52d_ab87_11eb_8b5e_d85de2434bfarow8_col17\" class=\"data row8 col17\" >0.113045</td>\n",
       "            </tr>\n",
       "            <tr>\n",
       "                        <th id=\"T_6362f52d_ab87_11eb_8b5e_d85de2434bfalevel0_row9\" class=\"row_heading level0 row9\" >release_month</th>\n",
       "                        <td id=\"T_6362f52d_ab87_11eb_8b5e_d85de2434bfarow9_col0\" class=\"data row9 col0\" >0.012241</td>\n",
       "                        <td id=\"T_6362f52d_ab87_11eb_8b5e_d85de2434bfarow9_col1\" class=\"data row9 col1\" >0.043785</td>\n",
       "                        <td id=\"T_6362f52d_ab87_11eb_8b5e_d85de2434bfarow9_col2\" class=\"data row9 col2\" >-0.011791</td>\n",
       "                        <td id=\"T_6362f52d_ab87_11eb_8b5e_d85de2434bfarow9_col3\" class=\"data row9 col3\" >-0.008248</td>\n",
       "                        <td id=\"T_6362f52d_ab87_11eb_8b5e_d85de2434bfarow9_col4\" class=\"data row9 col4\" >0.129322</td>\n",
       "                        <td id=\"T_6362f52d_ab87_11eb_8b5e_d85de2434bfarow9_col5\" class=\"data row9 col5\" >0.033193</td>\n",
       "                        <td id=\"T_6362f52d_ab87_11eb_8b5e_d85de2434bfarow9_col6\" class=\"data row9 col6\" >0.108070</td>\n",
       "                        <td id=\"T_6362f52d_ab87_11eb_8b5e_d85de2434bfarow9_col7\" class=\"data row9 col7\" >0.030602</td>\n",
       "                        <td id=\"T_6362f52d_ab87_11eb_8b5e_d85de2434bfarow9_col8\" class=\"data row9 col8\" >-0.059667</td>\n",
       "                        <td id=\"T_6362f52d_ab87_11eb_8b5e_d85de2434bfarow9_col9\" class=\"data row9 col9\" >1.000000</td>\n",
       "                        <td id=\"T_6362f52d_ab87_11eb_8b5e_d85de2434bfarow9_col10\" class=\"data row9 col10\" >-0.016066</td>\n",
       "                        <td id=\"T_6362f52d_ab87_11eb_8b5e_d85de2434bfarow9_col11\" class=\"data row9 col11\" >-0.013854</td>\n",
       "                        <td id=\"T_6362f52d_ab87_11eb_8b5e_d85de2434bfarow9_col12\" class=\"data row9 col12\" >0.002538</td>\n",
       "                        <td id=\"T_6362f52d_ab87_11eb_8b5e_d85de2434bfarow9_col13\" class=\"data row9 col13\" >0.040634</td>\n",
       "                        <td id=\"T_6362f52d_ab87_11eb_8b5e_d85de2434bfarow9_col14\" class=\"data row9 col14\" >0.036651</td>\n",
       "                        <td id=\"T_6362f52d_ab87_11eb_8b5e_d85de2434bfarow9_col15\" class=\"data row9 col15\" >0.017860</td>\n",
       "                        <td id=\"T_6362f52d_ab87_11eb_8b5e_d85de2434bfarow9_col16\" class=\"data row9 col16\" >0.131293</td>\n",
       "                        <td id=\"T_6362f52d_ab87_11eb_8b5e_d85de2434bfarow9_col17\" class=\"data row9 col17\" >-0.007818</td>\n",
       "            </tr>\n",
       "            <tr>\n",
       "                        <th id=\"T_6362f52d_ab87_11eb_8b5e_d85de2434bfalevel0_row10\" class=\"row_heading level0 row10\" >release_day</th>\n",
       "                        <td id=\"T_6362f52d_ab87_11eb_8b5e_d85de2434bfarow10_col0\" class=\"data row10 col0\" >-0.009644</td>\n",
       "                        <td id=\"T_6362f52d_ab87_11eb_8b5e_d85de2434bfarow10_col1\" class=\"data row10 col1\" >-0.081413</td>\n",
       "                        <td id=\"T_6362f52d_ab87_11eb_8b5e_d85de2434bfarow10_col2\" class=\"data row10 col2\" >-0.089202</td>\n",
       "                        <td id=\"T_6362f52d_ab87_11eb_8b5e_d85de2434bfarow10_col3\" class=\"data row10 col3\" >-0.105783</td>\n",
       "                        <td id=\"T_6362f52d_ab87_11eb_8b5e_d85de2434bfarow10_col4\" class=\"data row10 col4\" >-0.062833</td>\n",
       "                        <td id=\"T_6362f52d_ab87_11eb_8b5e_d85de2434bfarow10_col5\" class=\"data row10 col5\" >-0.074551</td>\n",
       "                        <td id=\"T_6362f52d_ab87_11eb_8b5e_d85de2434bfarow10_col6\" class=\"data row10 col6\" >-0.053557</td>\n",
       "                        <td id=\"T_6362f52d_ab87_11eb_8b5e_d85de2434bfarow10_col7\" class=\"data row10 col7\" >-0.157498</td>\n",
       "                        <td id=\"T_6362f52d_ab87_11eb_8b5e_d85de2434bfarow10_col8\" class=\"data row10 col8\" >-0.081112</td>\n",
       "                        <td id=\"T_6362f52d_ab87_11eb_8b5e_d85de2434bfarow10_col9\" class=\"data row10 col9\" >-0.016066</td>\n",
       "                        <td id=\"T_6362f52d_ab87_11eb_8b5e_d85de2434bfarow10_col10\" class=\"data row10 col10\" >1.000000</td>\n",
       "                        <td id=\"T_6362f52d_ab87_11eb_8b5e_d85de2434bfarow10_col11\" class=\"data row10 col11\" >-0.031574</td>\n",
       "                        <td id=\"T_6362f52d_ab87_11eb_8b5e_d85de2434bfarow10_col12\" class=\"data row10 col12\" >0.023016</td>\n",
       "                        <td id=\"T_6362f52d_ab87_11eb_8b5e_d85de2434bfarow10_col13\" class=\"data row10 col13\" >-0.093836</td>\n",
       "                        <td id=\"T_6362f52d_ab87_11eb_8b5e_d85de2434bfarow10_col14\" class=\"data row10 col14\" >-0.145917</td>\n",
       "                        <td id=\"T_6362f52d_ab87_11eb_8b5e_d85de2434bfarow10_col15\" class=\"data row10 col15\" >-0.080050</td>\n",
       "                        <td id=\"T_6362f52d_ab87_11eb_8b5e_d85de2434bfarow10_col16\" class=\"data row10 col16\" >-0.060688</td>\n",
       "                        <td id=\"T_6362f52d_ab87_11eb_8b5e_d85de2434bfarow10_col17\" class=\"data row10 col17\" >-0.105643</td>\n",
       "            </tr>\n",
       "            <tr>\n",
       "                        <th id=\"T_6362f52d_ab87_11eb_8b5e_d85de2434bfalevel0_row11\" class=\"row_heading level0 row11\" >numberofgenres</th>\n",
       "                        <td id=\"T_6362f52d_ab87_11eb_8b5e_d85de2434bfarow11_col0\" class=\"data row11 col0\" >0.010604</td>\n",
       "                        <td id=\"T_6362f52d_ab87_11eb_8b5e_d85de2434bfarow11_col1\" class=\"data row11 col1\" >0.193528</td>\n",
       "                        <td id=\"T_6362f52d_ab87_11eb_8b5e_d85de2434bfarow11_col2\" class=\"data row11 col2\" >0.007031</td>\n",
       "                        <td id=\"T_6362f52d_ab87_11eb_8b5e_d85de2434bfarow11_col3\" class=\"data row11 col3\" >0.087595</td>\n",
       "                        <td id=\"T_6362f52d_ab87_11eb_8b5e_d85de2434bfarow11_col4\" class=\"data row11 col4\" >0.054458</td>\n",
       "                        <td id=\"T_6362f52d_ab87_11eb_8b5e_d85de2434bfarow11_col5\" class=\"data row11 col5\" >0.195010</td>\n",
       "                        <td id=\"T_6362f52d_ab87_11eb_8b5e_d85de2434bfarow11_col6\" class=\"data row11 col6\" >-0.040847</td>\n",
       "                        <td id=\"T_6362f52d_ab87_11eb_8b5e_d85de2434bfarow11_col7\" class=\"data row11 col7\" >0.118601</td>\n",
       "                        <td id=\"T_6362f52d_ab87_11eb_8b5e_d85de2434bfarow11_col8\" class=\"data row11 col8\" >-0.078841</td>\n",
       "                        <td id=\"T_6362f52d_ab87_11eb_8b5e_d85de2434bfarow11_col9\" class=\"data row11 col9\" >-0.013854</td>\n",
       "                        <td id=\"T_6362f52d_ab87_11eb_8b5e_d85de2434bfarow11_col10\" class=\"data row11 col10\" >-0.031574</td>\n",
       "                        <td id=\"T_6362f52d_ab87_11eb_8b5e_d85de2434bfarow11_col11\" class=\"data row11 col11\" >1.000000</td>\n",
       "                        <td id=\"T_6362f52d_ab87_11eb_8b5e_d85de2434bfarow11_col12\" class=\"data row11 col12\" >0.067125</td>\n",
       "                        <td id=\"T_6362f52d_ab87_11eb_8b5e_d85de2434bfarow11_col13\" class=\"data row11 col13\" >0.171024</td>\n",
       "                        <td id=\"T_6362f52d_ab87_11eb_8b5e_d85de2434bfarow11_col14\" class=\"data row11 col14\" >0.243381</td>\n",
       "                        <td id=\"T_6362f52d_ab87_11eb_8b5e_d85de2434bfarow11_col15\" class=\"data row11 col15\" >0.192160</td>\n",
       "                        <td id=\"T_6362f52d_ab87_11eb_8b5e_d85de2434bfarow11_col16\" class=\"data row11 col16\" >0.056506</td>\n",
       "                        <td id=\"T_6362f52d_ab87_11eb_8b5e_d85de2434bfarow11_col17\" class=\"data row11 col17\" >0.088194</td>\n",
       "            </tr>\n",
       "            <tr>\n",
       "                        <th id=\"T_6362f52d_ab87_11eb_8b5e_d85de2434bfalevel0_row12\" class=\"row_heading level0 row12\" >lang_english</th>\n",
       "                        <td id=\"T_6362f52d_ab87_11eb_8b5e_d85de2434bfarow12_col0\" class=\"data row12 col0\" >0.001205</td>\n",
       "                        <td id=\"T_6362f52d_ab87_11eb_8b5e_d85de2434bfarow12_col1\" class=\"data row12 col1\" >0.168814</td>\n",
       "                        <td id=\"T_6362f52d_ab87_11eb_8b5e_d85de2434bfarow12_col2\" class=\"data row12 col2\" >0.032202</td>\n",
       "                        <td id=\"T_6362f52d_ab87_11eb_8b5e_d85de2434bfarow12_col3\" class=\"data row12 col3\" >0.126520</td>\n",
       "                        <td id=\"T_6362f52d_ab87_11eb_8b5e_d85de2434bfarow12_col4\" class=\"data row12 col4\" >-0.113789</td>\n",
       "                        <td id=\"T_6362f52d_ab87_11eb_8b5e_d85de2434bfarow12_col5\" class=\"data row12 col5\" >0.192291</td>\n",
       "                        <td id=\"T_6362f52d_ab87_11eb_8b5e_d85de2434bfarow12_col6\" class=\"data row12 col6\" >-0.134275</td>\n",
       "                        <td id=\"T_6362f52d_ab87_11eb_8b5e_d85de2434bfarow12_col7\" class=\"data row12 col7\" >0.146706</td>\n",
       "                        <td id=\"T_6362f52d_ab87_11eb_8b5e_d85de2434bfarow12_col8\" class=\"data row12 col8\" >-0.166873</td>\n",
       "                        <td id=\"T_6362f52d_ab87_11eb_8b5e_d85de2434bfarow12_col9\" class=\"data row12 col9\" >0.002538</td>\n",
       "                        <td id=\"T_6362f52d_ab87_11eb_8b5e_d85de2434bfarow12_col10\" class=\"data row12 col10\" >0.023016</td>\n",
       "                        <td id=\"T_6362f52d_ab87_11eb_8b5e_d85de2434bfarow12_col11\" class=\"data row12 col11\" >0.067125</td>\n",
       "                        <td id=\"T_6362f52d_ab87_11eb_8b5e_d85de2434bfarow12_col12\" class=\"data row12 col12\" >1.000000</td>\n",
       "                        <td id=\"T_6362f52d_ab87_11eb_8b5e_d85de2434bfarow12_col13\" class=\"data row12 col13\" >0.092872</td>\n",
       "                        <td id=\"T_6362f52d_ab87_11eb_8b5e_d85de2434bfarow12_col14\" class=\"data row12 col14\" >0.197225</td>\n",
       "                        <td id=\"T_6362f52d_ab87_11eb_8b5e_d85de2434bfarow12_col15\" class=\"data row12 col15\" >0.133997</td>\n",
       "                        <td id=\"T_6362f52d_ab87_11eb_8b5e_d85de2434bfarow12_col16\" class=\"data row12 col16\" >-0.108984</td>\n",
       "                        <td id=\"T_6362f52d_ab87_11eb_8b5e_d85de2434bfarow12_col17\" class=\"data row12 col17\" >0.127475</td>\n",
       "            </tr>\n",
       "            <tr>\n",
       "                        <th id=\"T_6362f52d_ab87_11eb_8b5e_d85de2434bfalevel0_row13\" class=\"row_heading level0 row13\" >bud_runtime</th>\n",
       "                        <td id=\"T_6362f52d_ab87_11eb_8b5e_d85de2434bfarow13_col0\" class=\"data row13 col0\" >0.013554</td>\n",
       "                        <td id=\"T_6362f52d_ab87_11eb_8b5e_d85de2434bfarow13_col1\" class=\"data row13 col1\" >0.400926</td>\n",
       "                        <td id=\"T_6362f52d_ab87_11eb_8b5e_d85de2434bfarow13_col2\" class=\"data row13 col2\" >0.153826</td>\n",
       "                        <td id=\"T_6362f52d_ab87_11eb_8b5e_d85de2434bfarow13_col3\" class=\"data row13 col3\" >0.222532</td>\n",
       "                        <td id=\"T_6362f52d_ab87_11eb_8b5e_d85de2434bfarow13_col4\" class=\"data row13 col4\" >-0.010522</td>\n",
       "                        <td id=\"T_6362f52d_ab87_11eb_8b5e_d85de2434bfarow13_col5\" class=\"data row13 col5\" >0.381996</td>\n",
       "                        <td id=\"T_6362f52d_ab87_11eb_8b5e_d85de2434bfarow13_col6\" class=\"data row13 col6\" >-0.036025</td>\n",
       "                        <td id=\"T_6362f52d_ab87_11eb_8b5e_d85de2434bfarow13_col7\" class=\"data row13 col7\" >0.390613</td>\n",
       "                        <td id=\"T_6362f52d_ab87_11eb_8b5e_d85de2434bfarow13_col8\" class=\"data row13 col8\" >0.160053</td>\n",
       "                        <td id=\"T_6362f52d_ab87_11eb_8b5e_d85de2434bfarow13_col9\" class=\"data row13 col9\" >0.040634</td>\n",
       "                        <td id=\"T_6362f52d_ab87_11eb_8b5e_d85de2434bfarow13_col10\" class=\"data row13 col10\" >-0.093836</td>\n",
       "                        <td id=\"T_6362f52d_ab87_11eb_8b5e_d85de2434bfarow13_col11\" class=\"data row13 col11\" >0.171024</td>\n",
       "                        <td id=\"T_6362f52d_ab87_11eb_8b5e_d85de2434bfarow13_col12\" class=\"data row13 col12\" >0.092872</td>\n",
       "                        <td id=\"T_6362f52d_ab87_11eb_8b5e_d85de2434bfarow13_col13\" class=\"data row13 col13\" >1.000000</td>\n",
       "                        <td id=\"T_6362f52d_ab87_11eb_8b5e_d85de2434bfarow13_col14\" class=\"data row13 col14\" >0.718539</td>\n",
       "                        <td id=\"T_6362f52d_ab87_11eb_8b5e_d85de2434bfarow13_col15\" class=\"data row13 col15\" >0.507037</td>\n",
       "                        <td id=\"T_6362f52d_ab87_11eb_8b5e_d85de2434bfarow13_col16\" class=\"data row13 col16\" >-0.014658</td>\n",
       "                        <td id=\"T_6362f52d_ab87_11eb_8b5e_d85de2434bfarow13_col17\" class=\"data row13 col17\" >0.222420</td>\n",
       "            </tr>\n",
       "            <tr>\n",
       "                        <th id=\"T_6362f52d_ab87_11eb_8b5e_d85de2434bfalevel0_row14\" class=\"row_heading level0 row14\" >bud_year</th>\n",
       "                        <td id=\"T_6362f52d_ab87_11eb_8b5e_d85de2434bfarow14_col0\" class=\"data row14 col0\" >0.019269</td>\n",
       "                        <td id=\"T_6362f52d_ab87_11eb_8b5e_d85de2434bfarow14_col1\" class=\"data row14 col1\" >0.496779</td>\n",
       "                        <td id=\"T_6362f52d_ab87_11eb_8b5e_d85de2434bfarow14_col2\" class=\"data row14 col2\" >0.233786</td>\n",
       "                        <td id=\"T_6362f52d_ab87_11eb_8b5e_d85de2434bfarow14_col3\" class=\"data row14 col3\" >0.341384</td>\n",
       "                        <td id=\"T_6362f52d_ab87_11eb_8b5e_d85de2434bfarow14_col4\" class=\"data row14 col4\" >0.263282</td>\n",
       "                        <td id=\"T_6362f52d_ab87_11eb_8b5e_d85de2434bfarow14_col5\" class=\"data row14 col5\" >0.502566</td>\n",
       "                        <td id=\"T_6362f52d_ab87_11eb_8b5e_d85de2434bfarow14_col6\" class=\"data row14 col6\" >0.019006</td>\n",
       "                        <td id=\"T_6362f52d_ab87_11eb_8b5e_d85de2434bfarow14_col7\" class=\"data row14 col7\" >0.579022</td>\n",
       "                        <td id=\"T_6362f52d_ab87_11eb_8b5e_d85de2434bfarow14_col8\" class=\"data row14 col8\" >0.181964</td>\n",
       "                        <td id=\"T_6362f52d_ab87_11eb_8b5e_d85de2434bfarow14_col9\" class=\"data row14 col9\" >0.036651</td>\n",
       "                        <td id=\"T_6362f52d_ab87_11eb_8b5e_d85de2434bfarow14_col10\" class=\"data row14 col10\" >-0.145917</td>\n",
       "                        <td id=\"T_6362f52d_ab87_11eb_8b5e_d85de2434bfarow14_col11\" class=\"data row14 col11\" >0.243381</td>\n",
       "                        <td id=\"T_6362f52d_ab87_11eb_8b5e_d85de2434bfarow14_col12\" class=\"data row14 col12\" >0.197225</td>\n",
       "                        <td id=\"T_6362f52d_ab87_11eb_8b5e_d85de2434bfarow14_col13\" class=\"data row14 col13\" >0.718539</td>\n",
       "                        <td id=\"T_6362f52d_ab87_11eb_8b5e_d85de2434bfarow14_col14\" class=\"data row14 col14\" >1.000000</td>\n",
       "                        <td id=\"T_6362f52d_ab87_11eb_8b5e_d85de2434bfarow14_col15\" class=\"data row14 col15\" >0.664549</td>\n",
       "                        <td id=\"T_6362f52d_ab87_11eb_8b5e_d85de2434bfarow14_col16\" class=\"data row14 col16\" >0.258002</td>\n",
       "                        <td id=\"T_6362f52d_ab87_11eb_8b5e_d85de2434bfarow14_col17\" class=\"data row14 col17\" >0.341395</td>\n",
       "            </tr>\n",
       "            <tr>\n",
       "                        <th id=\"T_6362f52d_ab87_11eb_8b5e_d85de2434bfalevel0_row15\" class=\"row_heading level0 row15\" >bud_popularity</th>\n",
       "                        <td id=\"T_6362f52d_ab87_11eb_8b5e_d85de2434bfarow15_col0\" class=\"data row15 col0\" >0.023232</td>\n",
       "                        <td id=\"T_6362f52d_ab87_11eb_8b5e_d85de2434bfarow15_col1\" class=\"data row15 col1\" >0.423807</td>\n",
       "                        <td id=\"T_6362f52d_ab87_11eb_8b5e_d85de2434bfarow15_col2\" class=\"data row15 col2\" >0.114101</td>\n",
       "                        <td id=\"T_6362f52d_ab87_11eb_8b5e_d85de2434bfarow15_col3\" class=\"data row15 col3\" >0.016220</td>\n",
       "                        <td id=\"T_6362f52d_ab87_11eb_8b5e_d85de2434bfarow15_col4\" class=\"data row15 col4\" >0.158730</td>\n",
       "                        <td id=\"T_6362f52d_ab87_11eb_8b5e_d85de2434bfarow15_col5\" class=\"data row15 col5\" >0.351475</td>\n",
       "                        <td id=\"T_6362f52d_ab87_11eb_8b5e_d85de2434bfarow15_col6\" class=\"data row15 col6\" >-0.087499</td>\n",
       "                        <td id=\"T_6362f52d_ab87_11eb_8b5e_d85de2434bfarow15_col7\" class=\"data row15 col7\" >0.251877</td>\n",
       "                        <td id=\"T_6362f52d_ab87_11eb_8b5e_d85de2434bfarow15_col8\" class=\"data row15 col8\" >0.106605</td>\n",
       "                        <td id=\"T_6362f52d_ab87_11eb_8b5e_d85de2434bfarow15_col9\" class=\"data row15 col9\" >0.017860</td>\n",
       "                        <td id=\"T_6362f52d_ab87_11eb_8b5e_d85de2434bfarow15_col10\" class=\"data row15 col10\" >-0.080050</td>\n",
       "                        <td id=\"T_6362f52d_ab87_11eb_8b5e_d85de2434bfarow15_col11\" class=\"data row15 col11\" >0.192160</td>\n",
       "                        <td id=\"T_6362f52d_ab87_11eb_8b5e_d85de2434bfarow15_col12\" class=\"data row15 col12\" >0.133997</td>\n",
       "                        <td id=\"T_6362f52d_ab87_11eb_8b5e_d85de2434bfarow15_col13\" class=\"data row15 col13\" >0.507037</td>\n",
       "                        <td id=\"T_6362f52d_ab87_11eb_8b5e_d85de2434bfarow15_col14\" class=\"data row15 col14\" >0.664549</td>\n",
       "                        <td id=\"T_6362f52d_ab87_11eb_8b5e_d85de2434bfarow15_col15\" class=\"data row15 col15\" >1.000000</td>\n",
       "                        <td id=\"T_6362f52d_ab87_11eb_8b5e_d85de2434bfarow15_col16\" class=\"data row15 col16\" >0.155761</td>\n",
       "                        <td id=\"T_6362f52d_ab87_11eb_8b5e_d85de2434bfarow15_col17\" class=\"data row15 col17\" >0.015958</td>\n",
       "            </tr>\n",
       "            <tr>\n",
       "                        <th id=\"T_6362f52d_ab87_11eb_8b5e_d85de2434bfalevel0_row16\" class=\"row_heading level0 row16\" >runtime_year</th>\n",
       "                        <td id=\"T_6362f52d_ab87_11eb_8b5e_d85de2434bfarow16_col0\" class=\"data row16 col0\" >0.016368</td>\n",
       "                        <td id=\"T_6362f52d_ab87_11eb_8b5e_d85de2434bfarow16_col1\" class=\"data row16 col1\" >0.196968</td>\n",
       "                        <td id=\"T_6362f52d_ab87_11eb_8b5e_d85de2434bfarow16_col2\" class=\"data row16 col2\" >0.050202</td>\n",
       "                        <td id=\"T_6362f52d_ab87_11eb_8b5e_d85de2434bfarow16_col3\" class=\"data row16 col3\" >0.137656</td>\n",
       "                        <td id=\"T_6362f52d_ab87_11eb_8b5e_d85de2434bfarow16_col4\" class=\"data row16 col4\" >0.999603</td>\n",
       "                        <td id=\"T_6362f52d_ab87_11eb_8b5e_d85de2434bfarow16_col5\" class=\"data row16 col5\" >0.214051</td>\n",
       "                        <td id=\"T_6362f52d_ab87_11eb_8b5e_d85de2434bfarow16_col6\" class=\"data row16 col6\" >0.310113</td>\n",
       "                        <td id=\"T_6362f52d_ab87_11eb_8b5e_d85de2434bfarow16_col7\" class=\"data row16 col7\" >0.214422</td>\n",
       "                        <td id=\"T_6362f52d_ab87_11eb_8b5e_d85de2434bfarow16_col8\" class=\"data row16 col8\" >0.000560</td>\n",
       "                        <td id=\"T_6362f52d_ab87_11eb_8b5e_d85de2434bfarow16_col9\" class=\"data row16 col9\" >0.131293</td>\n",
       "                        <td id=\"T_6362f52d_ab87_11eb_8b5e_d85de2434bfarow16_col10\" class=\"data row16 col10\" >-0.060688</td>\n",
       "                        <td id=\"T_6362f52d_ab87_11eb_8b5e_d85de2434bfarow16_col11\" class=\"data row16 col11\" >0.056506</td>\n",
       "                        <td id=\"T_6362f52d_ab87_11eb_8b5e_d85de2434bfarow16_col12\" class=\"data row16 col12\" >-0.108984</td>\n",
       "                        <td id=\"T_6362f52d_ab87_11eb_8b5e_d85de2434bfarow16_col13\" class=\"data row16 col13\" >-0.014658</td>\n",
       "                        <td id=\"T_6362f52d_ab87_11eb_8b5e_d85de2434bfarow16_col14\" class=\"data row16 col14\" >0.258002</td>\n",
       "                        <td id=\"T_6362f52d_ab87_11eb_8b5e_d85de2434bfarow16_col15\" class=\"data row16 col15\" >0.155761</td>\n",
       "                        <td id=\"T_6362f52d_ab87_11eb_8b5e_d85de2434bfarow16_col16\" class=\"data row16 col16\" >1.000000</td>\n",
       "                        <td id=\"T_6362f52d_ab87_11eb_8b5e_d85de2434bfarow16_col17\" class=\"data row16 col17\" >0.138201</td>\n",
       "            </tr>\n",
       "            <tr>\n",
       "                        <th id=\"T_6362f52d_ab87_11eb_8b5e_d85de2434bfalevel0_row17\" class=\"row_heading level0 row17\" >popularity_year</th>\n",
       "                        <td id=\"T_6362f52d_ab87_11eb_8b5e_d85de2434bfarow17_col0\" class=\"data row17 col0\" >-0.006610</td>\n",
       "                        <td id=\"T_6362f52d_ab87_11eb_8b5e_d85de2434bfarow17_col1\" class=\"data row17 col1\" >0.216844</td>\n",
       "                        <td id=\"T_6362f52d_ab87_11eb_8b5e_d85de2434bfarow17_col2\" class=\"data row17 col2\" >0.160491</td>\n",
       "                        <td id=\"T_6362f52d_ab87_11eb_8b5e_d85de2434bfarow17_col3\" class=\"data row17 col3\" >0.999987</td>\n",
       "                        <td id=\"T_6362f52d_ab87_11eb_8b5e_d85de2434bfarow17_col4\" class=\"data row17 col4\" >0.141486</td>\n",
       "                        <td id=\"T_6362f52d_ab87_11eb_8b5e_d85de2434bfarow17_col5\" class=\"data row17 col5\" >0.291721</td>\n",
       "                        <td id=\"T_6362f52d_ab87_11eb_8b5e_d85de2434bfarow17_col6\" class=\"data row17 col6\" >0.168544</td>\n",
       "                        <td id=\"T_6362f52d_ab87_11eb_8b5e_d85de2434bfarow17_col7\" class=\"data row17 col7\" >0.559883</td>\n",
       "                        <td id=\"T_6362f52d_ab87_11eb_8b5e_d85de2434bfarow17_col8\" class=\"data row17 col8\" >0.113045</td>\n",
       "                        <td id=\"T_6362f52d_ab87_11eb_8b5e_d85de2434bfarow17_col9\" class=\"data row17 col9\" >-0.007818</td>\n",
       "                        <td id=\"T_6362f52d_ab87_11eb_8b5e_d85de2434bfarow17_col10\" class=\"data row17 col10\" >-0.105643</td>\n",
       "                        <td id=\"T_6362f52d_ab87_11eb_8b5e_d85de2434bfarow17_col11\" class=\"data row17 col11\" >0.088194</td>\n",
       "                        <td id=\"T_6362f52d_ab87_11eb_8b5e_d85de2434bfarow17_col12\" class=\"data row17 col12\" >0.127475</td>\n",
       "                        <td id=\"T_6362f52d_ab87_11eb_8b5e_d85de2434bfarow17_col13\" class=\"data row17 col13\" >0.222420</td>\n",
       "                        <td id=\"T_6362f52d_ab87_11eb_8b5e_d85de2434bfarow17_col14\" class=\"data row17 col14\" >0.341395</td>\n",
       "                        <td id=\"T_6362f52d_ab87_11eb_8b5e_d85de2434bfarow17_col15\" class=\"data row17 col15\" >0.015958</td>\n",
       "                        <td id=\"T_6362f52d_ab87_11eb_8b5e_d85de2434bfarow17_col16\" class=\"data row17 col16\" >0.138201</td>\n",
       "                        <td id=\"T_6362f52d_ab87_11eb_8b5e_d85de2434bfarow17_col17\" class=\"data row17 col17\" >1.000000</td>\n",
       "            </tr>\n",
       "    </tbody></table>"
      ],
      "text/plain": [
       "<pandas.io.formats.style.Styler at 0x24dbd531460>"
      ]
     },
     "execution_count": 20,
     "metadata": {},
     "output_type": "execute_result"
    }
   ],
   "source": [
    "corr = train.corr()\n",
    "corr.style.background_gradient(cmap='coolwarm')"
   ]
  },
  {
   "cell_type": "markdown",
   "metadata": {},
   "source": [
    "Fitting the entire dataset on the model"
   ]
  },
  {
   "cell_type": "code",
   "execution_count": 27,
   "metadata": {},
   "outputs": [],
   "source": [
    "lr_model.fit(X,y)\n",
    "lr_pred_full = lr_model.predict(test)\n",
    "lr_pred_full = np.exp(lr_pred_full)\n",
    "rand_lr = pd.DataFrame(lr_pred_full)\n",
    "\n",
    "linear_regression = pd.concat([test[\"id\"],rand_lr], axis =1)\n",
    "linear_regression.columns = ['id', 'revenue']\n",
    "linear_regression.to_csv(r'linear_regression.csv',index = False)\n"
   ]
  },
  {
   "cell_type": "code",
   "execution_count": 28,
   "metadata": {},
   "outputs": [
    {
     "name": "stdout",
     "output_type": "stream",
     "text": [
      "1.5302269754009898e-05 id\n",
      "0.1332246276237459 budget\n",
      "0.22900502365071518 homepage\n",
      "-8.270787584120631 popularity\n",
      "1.230744852875239 runtime\n",
      "0.20839146367033282 rating\n",
      "0.00013013557621350028 totalVotes\n",
      "-0.07694133296243666 release_year\n",
      "-0.01583011013013448 release_month\n",
      "0.014079824234795748 release_day\n",
      "0.07737247402248726 numberofgenres\n",
      "0.3854409048736154 lang_english\n",
      "4.895782363025641e-07 bud_runtime\n",
      "2.4216018715789345e-05 bud_year\n",
      "3.671351885017106e-08 bud_popularity\n",
      "-2454.516773004676 runtime_year\n",
      "16710.57973272263 popularity_year\n"
     ]
    }
   ],
   "source": [
    "reg = LinearRegression().fit(X, y)\n",
    "for i,j in zip(reg.coef_, train.columns):\n",
    "    print(i,j)"
   ]
  },
  {
   "cell_type": "code",
   "execution_count": 29,
   "metadata": {},
   "outputs": [
    {
     "data": {
      "text/html": [
       "<table class=\"simpletable\">\n",
       "<caption>OLS Regression Results</caption>\n",
       "<tr>\n",
       "  <th>Dep. Variable:</th>            <td>y</td>        <th>  R-squared:         </th> <td>   0.437</td> \n",
       "</tr>\n",
       "<tr>\n",
       "  <th>Model:</th>                   <td>OLS</td>       <th>  Adj. R-squared:    </th> <td>   0.433</td> \n",
       "</tr>\n",
       "<tr>\n",
       "  <th>Method:</th>             <td>Least Squares</td>  <th>  F-statistic:       </th> <td>   128.6</td> \n",
       "</tr>\n",
       "<tr>\n",
       "  <th>Date:</th>             <td>Sun, 02 May 2021</td> <th>  Prob (F-statistic):</th>  <td>  0.00</td>  \n",
       "</tr>\n",
       "<tr>\n",
       "  <th>Time:</th>                 <td>21:48:02</td>     <th>  Log-Likelihood:    </th> <td> -6352.2</td> \n",
       "</tr>\n",
       "<tr>\n",
       "  <th>No. Observations:</th>      <td>  2840</td>      <th>  AIC:               </th> <td>1.274e+04</td>\n",
       "</tr>\n",
       "<tr>\n",
       "  <th>Df Residuals:</th>          <td>  2822</td>      <th>  BIC:               </th> <td>1.285e+04</td>\n",
       "</tr>\n",
       "<tr>\n",
       "  <th>Df Model:</th>              <td>    17</td>      <th>                     </th>     <td> </td>    \n",
       "</tr>\n",
       "<tr>\n",
       "  <th>Covariance Type:</th>      <td>nonrobust</td>    <th>                     </th>     <td> </td>    \n",
       "</tr>\n",
       "</table>\n",
       "<table class=\"simpletable\">\n",
       "<tr>\n",
       "    <td></td>       <th>coef</th>     <th>std err</th>      <th>t</th>      <th>P>|t|</th>  <th>[0.025</th>    <th>0.975]</th>  \n",
       "</tr>\n",
       "<tr>\n",
       "  <th>const</th> <td>  157.7548</td> <td>   43.103</td> <td>    3.660</td> <td> 0.000</td> <td>   73.237</td> <td>  242.272</td>\n",
       "</tr>\n",
       "<tr>\n",
       "  <th>x1</th>    <td>  1.53e-05</td> <td> 4.92e-05</td> <td>    0.311</td> <td> 0.756</td> <td>-8.11e-05</td> <td>    0.000</td>\n",
       "</tr>\n",
       "<tr>\n",
       "  <th>x2</th>    <td>    0.1332</td> <td>    0.007</td> <td>   19.020</td> <td> 0.000</td> <td>    0.119</td> <td>    0.147</td>\n",
       "</tr>\n",
       "<tr>\n",
       "  <th>x3</th>    <td>    0.2290</td> <td>    0.104</td> <td>    2.211</td> <td> 0.027</td> <td>    0.026</td> <td>    0.432</td>\n",
       "</tr>\n",
       "<tr>\n",
       "  <th>x4</th>    <td>   -8.2708</td> <td>    1.074</td> <td>   -7.698</td> <td> 0.000</td> <td>  -10.378</td> <td>   -6.164</td>\n",
       "</tr>\n",
       "<tr>\n",
       "  <th>x5</th>    <td>    1.2307</td> <td>    0.394</td> <td>    3.125</td> <td> 0.002</td> <td>    0.458</td> <td>    2.003</td>\n",
       "</tr>\n",
       "<tr>\n",
       "  <th>x6</th>    <td>    0.2084</td> <td>    0.059</td> <td>    3.560</td> <td> 0.000</td> <td>    0.094</td> <td>    0.323</td>\n",
       "</tr>\n",
       "<tr>\n",
       "  <th>x7</th>    <td>    0.0001</td> <td> 3.69e-05</td> <td>    3.525</td> <td> 0.000</td> <td> 5.78e-05</td> <td>    0.000</td>\n",
       "</tr>\n",
       "<tr>\n",
       "  <th>x8</th>    <td>   -0.0769</td> <td>    0.021</td> <td>   -3.606</td> <td> 0.000</td> <td>   -0.119</td> <td>   -0.035</td>\n",
       "</tr>\n",
       "<tr>\n",
       "  <th>x9</th>    <td>   -0.0158</td> <td>    0.013</td> <td>   -1.240</td> <td> 0.215</td> <td>   -0.041</td> <td>    0.009</td>\n",
       "</tr>\n",
       "<tr>\n",
       "  <th>x10</th>   <td>    0.0141</td> <td>    0.034</td> <td>    0.413</td> <td> 0.679</td> <td>   -0.053</td> <td>    0.081</td>\n",
       "</tr>\n",
       "<tr>\n",
       "  <th>x11</th>   <td>    0.0774</td> <td>    0.040</td> <td>    1.935</td> <td> 0.053</td> <td>   -0.001</td> <td>    0.156</td>\n",
       "</tr>\n",
       "<tr>\n",
       "  <th>x12</th>   <td>    0.3854</td> <td>    0.134</td> <td>    2.886</td> <td> 0.004</td> <td>    0.124</td> <td>    0.647</td>\n",
       "</tr>\n",
       "<tr>\n",
       "  <th>x13</th>   <td> 4.896e-07</td> <td> 1.58e-07</td> <td>    3.106</td> <td> 0.002</td> <td>  1.8e-07</td> <td> 7.99e-07</td>\n",
       "</tr>\n",
       "<tr>\n",
       "  <th>x14</th>   <td> 2.422e-05</td> <td> 4.82e-06</td> <td>    5.029</td> <td> 0.000</td> <td> 1.48e-05</td> <td> 3.37e-05</td>\n",
       "</tr>\n",
       "<tr>\n",
       "  <th>x15</th>   <td> 3.671e-08</td> <td> 1.45e-08</td> <td>    2.530</td> <td> 0.011</td> <td> 8.26e-09</td> <td> 6.52e-08</td>\n",
       "</tr>\n",
       "<tr>\n",
       "  <th>x16</th>   <td>-2454.5168</td> <td>  789.211</td> <td>   -3.110</td> <td> 0.002</td> <td>-4002.005</td> <td> -907.028</td>\n",
       "</tr>\n",
       "<tr>\n",
       "  <th>x17</th>   <td> 1.671e+04</td> <td> 2166.691</td> <td>    7.712</td> <td> 0.000</td> <td> 1.25e+04</td> <td>  2.1e+04</td>\n",
       "</tr>\n",
       "</table>\n",
       "<table class=\"simpletable\">\n",
       "<tr>\n",
       "  <th>Omnibus:</th>       <td>1084.391</td> <th>  Durbin-Watson:     </th> <td>   1.980</td>\n",
       "</tr>\n",
       "<tr>\n",
       "  <th>Prob(Omnibus):</th>  <td> 0.000</td>  <th>  Jarque-Bera (JB):  </th> <td>5569.247</td>\n",
       "</tr>\n",
       "<tr>\n",
       "  <th>Skew:</th>           <td>-1.755</td>  <th>  Prob(JB):          </th> <td>    0.00</td>\n",
       "</tr>\n",
       "<tr>\n",
       "  <th>Kurtosis:</th>       <td> 8.895</td>  <th>  Cond. No.          </th> <td>2.49e+11</td>\n",
       "</tr>\n",
       "</table><br/><br/>Notes:<br/>[1] Standard Errors assume that the covariance matrix of the errors is correctly specified.<br/>[2] The condition number is large, 2.49e+11. This might indicate that there are<br/>strong multicollinearity or other numerical problems."
      ],
      "text/plain": [
       "<class 'statsmodels.iolib.summary.Summary'>\n",
       "\"\"\"\n",
       "                            OLS Regression Results                            \n",
       "==============================================================================\n",
       "Dep. Variable:                      y   R-squared:                       0.437\n",
       "Model:                            OLS   Adj. R-squared:                  0.433\n",
       "Method:                 Least Squares   F-statistic:                     128.6\n",
       "Date:                Sun, 02 May 2021   Prob (F-statistic):               0.00\n",
       "Time:                        21:48:02   Log-Likelihood:                -6352.2\n",
       "No. Observations:                2840   AIC:                         1.274e+04\n",
       "Df Residuals:                    2822   BIC:                         1.285e+04\n",
       "Df Model:                          17                                         \n",
       "Covariance Type:            nonrobust                                         \n",
       "==============================================================================\n",
       "                 coef    std err          t      P>|t|      [0.025      0.975]\n",
       "------------------------------------------------------------------------------\n",
       "const        157.7548     43.103      3.660      0.000      73.237     242.272\n",
       "x1           1.53e-05   4.92e-05      0.311      0.756   -8.11e-05       0.000\n",
       "x2             0.1332      0.007     19.020      0.000       0.119       0.147\n",
       "x3             0.2290      0.104      2.211      0.027       0.026       0.432\n",
       "x4            -8.2708      1.074     -7.698      0.000     -10.378      -6.164\n",
       "x5             1.2307      0.394      3.125      0.002       0.458       2.003\n",
       "x6             0.2084      0.059      3.560      0.000       0.094       0.323\n",
       "x7             0.0001   3.69e-05      3.525      0.000    5.78e-05       0.000\n",
       "x8            -0.0769      0.021     -3.606      0.000      -0.119      -0.035\n",
       "x9            -0.0158      0.013     -1.240      0.215      -0.041       0.009\n",
       "x10            0.0141      0.034      0.413      0.679      -0.053       0.081\n",
       "x11            0.0774      0.040      1.935      0.053      -0.001       0.156\n",
       "x12            0.3854      0.134      2.886      0.004       0.124       0.647\n",
       "x13         4.896e-07   1.58e-07      3.106      0.002     1.8e-07    7.99e-07\n",
       "x14         2.422e-05   4.82e-06      5.029      0.000    1.48e-05    3.37e-05\n",
       "x15         3.671e-08   1.45e-08      2.530      0.011    8.26e-09    6.52e-08\n",
       "x16        -2454.5168    789.211     -3.110      0.002   -4002.005    -907.028\n",
       "x17         1.671e+04   2166.691      7.712      0.000    1.25e+04     2.1e+04\n",
       "==============================================================================\n",
       "Omnibus:                     1084.391   Durbin-Watson:                   1.980\n",
       "Prob(Omnibus):                  0.000   Jarque-Bera (JB):             5569.247\n",
       "Skew:                          -1.755   Prob(JB):                         0.00\n",
       "Kurtosis:                       8.895   Cond. No.                     2.49e+11\n",
       "==============================================================================\n",
       "\n",
       "Notes:\n",
       "[1] Standard Errors assume that the covariance matrix of the errors is correctly specified.\n",
       "[2] The condition number is large, 2.49e+11. This might indicate that there are\n",
       "strong multicollinearity or other numerical problems.\n",
       "\"\"\""
      ]
     },
     "execution_count": 29,
     "metadata": {},
     "output_type": "execute_result"
    }
   ],
   "source": [
    "import statsmodels.api as ssm\n",
    "X=ssm.add_constant(X)        \n",
    "model= ssm.OLS(y,X).fit()        \n",
    "predictions= model.summary()      \n",
    "predictions"
   ]
  },
  {
   "cell_type": "markdown",
   "metadata": {},
   "source": [
    "**RandomForestRegressor"
   ]
  },
  {
   "cell_type": "code",
   "execution_count": 49,
   "metadata": {},
   "outputs": [],
   "source": [
    "from sklearn.ensemble import RandomForestRegressor\n",
    "rfr_model = RandomForestRegressor(random_state=42, \n",
    "                                  max_features='auto', \n",
    "                                  n_estimators= 50, \n",
    "                                  min_samples_leaf=2)\n",
    "rfr_model.fit(X_train,y_train)\n",
    "rfr_pred = rfr_model.predict(X_val)"
   ]
  },
  {
   "cell_type": "code",
   "execution_count": 50,
   "metadata": {},
   "outputs": [
    {
     "data": {
      "text/plain": [
       "2.0450774420898874"
      ]
     },
     "execution_count": 50,
     "metadata": {},
     "output_type": "execute_result"
    }
   ],
   "source": [
    "rfr_rmse= mean_squared_error(y_val, rfr_pred, squared=False)\n",
    "rfr_rmse"
   ]
  },
  {
   "cell_type": "markdown",
   "metadata": {},
   "source": [
    "Fitting the entire dataset on the model"
   ]
  },
  {
   "cell_type": "code",
   "execution_count": 51,
   "metadata": {},
   "outputs": [],
   "source": [
    "rfr_model.fit(X,y)\n",
    "rfr_pred_full = rfr_model.predict(test)\n",
    "rfr_pred_full = np.exp(rfr_pred_full)\n",
    "rand_rf = pd.DataFrame(rfr_pred_full)\n",
    "\n",
    "random_forest = pd.concat([test[\"id\"],rand_rf], axis =1)\n",
    "random_forest.columns = ['id', 'revenue']\n",
    "random_forest.to_csv(r'random_forest.csv',index = False)\n"
   ]
  },
  {
   "cell_type": "markdown",
   "metadata": {},
   "source": [
    "**XGBoost"
   ]
  },
  {
   "cell_type": "code",
   "execution_count": 79,
   "metadata": {
    "scrolled": true
   },
   "outputs": [],
   "source": [
    "import xgboost as xgb\n",
    "xgb_model = xgb.XGBRegressor(objective = 'reg:linear',\n",
    "                                  eta = 0.01,\n",
    "                                  max_depth = 3,\n",
    "                                  min_child_weight = 3,\n",
    "                                  subsample = 0.8,\n",
    "                                  gamma = 1.45,\n",
    "                                  colsample_bytree = 0.7,\n",
    "                                  eval_metric = 'rmse',\n",
    "                                  seed = 42,\n",
    "                                  n_estimators = 3000)"
   ]
  },
  {
   "cell_type": "code",
   "execution_count": 80,
   "metadata": {},
   "outputs": [
    {
     "name": "stdout",
     "output_type": "stream",
     "text": [
      "[20:56:26] WARNING: C:/Users/Administrator/workspace/xgboost-win64_release_1.4.0/src/objective/regression_obj.cu:171: reg:linear is now deprecated in favor of reg:squarederror.\n"
     ]
    },
    {
     "data": {
      "text/plain": [
       "1.9525226053155942"
      ]
     },
     "execution_count": 80,
     "metadata": {},
     "output_type": "execute_result"
    }
   ],
   "source": [
    "xgb_model.fit(X_train, y_train)\n",
    "xgb_pred = xgb_model.predict(X_val)\n",
    "xgb_rmse= mean_squared_error(y_val, xgb_pred, squared=False)\n",
    "xgb_rmse"
   ]
  },
  {
   "cell_type": "markdown",
   "metadata": {},
   "source": [
    "**Hyperparameter Tuning - GRID Search"
   ]
  },
  {
   "cell_type": "code",
   "execution_count": 65,
   "metadata": {},
   "outputs": [
    {
     "name": "stdout",
     "output_type": "stream",
     "text": [
      "Fitting 2 folds for each of 1728 candidates, totalling 3456 fits\n"
     ]
    },
    {
     "name": "stderr",
     "output_type": "stream",
     "text": [
      "[Parallel(n_jobs=5)]: Using backend LokyBackend with 5 concurrent workers.\n",
      "[Parallel(n_jobs=5)]: Done  40 tasks      | elapsed:  1.2min\n",
      "[Parallel(n_jobs=5)]: Done 190 tasks      | elapsed:  8.4min\n",
      "[Parallel(n_jobs=5)]: Done 440 tasks      | elapsed: 20.8min\n",
      "[Parallel(n_jobs=5)]: Done 790 tasks      | elapsed: 39.6min\n",
      "[Parallel(n_jobs=5)]: Done 1240 tasks      | elapsed: 60.4min\n",
      "[Parallel(n_jobs=5)]: Done 1790 tasks      | elapsed: 93.0min\n",
      "[Parallel(n_jobs=5)]: Done 2440 tasks      | elapsed: 126.9min\n",
      "[Parallel(n_jobs=5)]: Done 3190 tasks      | elapsed: 181.2min\n",
      "[Parallel(n_jobs=5)]: Done 3456 out of 3456 | elapsed: 198.2min finished\n"
     ]
    },
    {
     "name": "stdout",
     "output_type": "stream",
     "text": [
      "[20:29:08] WARNING: C:/Users/Administrator/workspace/xgboost-win64_release_1.4.0/src/objective/regression_obj.cu:171: reg:linear is now deprecated in favor of reg:squarederror.\n",
      "0.595777410827351\n",
      "{'colsample_bytree': 0.5, 'eta': 0.01, 'eval_metric': 'rmse', 'max_depth': 5, 'min_child_weight': 3, 'n_estimators': 1000, 'objective': 'reg:linear', 'subsample': 0.7}\n"
     ]
    }
   ],
   "source": [
    "from sklearn.model_selection import GridSearchCV\n",
    "from xgboost.sklearn import XGBRegressor\n",
    "\n",
    "\n",
    "xgb = XGBRegressor()\n",
    "parameters = {\n",
    "              'objective':['reg:linear'],\n",
    "              'eta': [0.01, 0.03, 0.05, 0.07], \n",
    "              'max_depth': [3, 5, 6, 7],\n",
    "              'min_child_weight': [3, 4, 5],\n",
    "              'subsample': [0.6, 0.7, 0.8],\n",
    "              'colsample_bytree': [0.5, 0.6, 0.7],\n",
    "              'eval_metric': ['rmse'],\n",
    "              'n_estimators': [1000,2000,3000,3500] }\n",
    "\n",
    "xgb_grid = GridSearchCV(xgb,parameters,cv = 2,n_jobs = 5,verbose=True)\n",
    "\n",
    "xgb_grid.fit(X,y)\n",
    "\n",
    "print(xgb_grid.best_score_)\n",
    "print(xgb_grid.best_params_)"
   ]
  },
  {
   "cell_type": "markdown",
   "metadata": {},
   "source": [
    "Fitting the entire dataset on the model"
   ]
  },
  {
   "cell_type": "code",
   "execution_count": 54,
   "metadata": {},
   "outputs": [
    {
     "name": "stdout",
     "output_type": "stream",
     "text": [
      "[16:43:53] WARNING: C:/Users/Administrator/workspace/xgboost-win64_release_1.4.0/src/objective/regression_obj.cu:171: reg:linear is now deprecated in favor of reg:squarederror.\n"
     ]
    }
   ],
   "source": [
    "xgb_model.fit(X, y)\n",
    "xgb_pred_full = xgb_model.predict(test)\n",
    "xgb_pred_full = np.exp(xgb_pred_full)\n",
    "rand_xgb = pd.DataFrame(xgb_pred_full)\n",
    "\n",
    "xgb = pd.concat([test[\"id\"],rand_xgb], axis =1)\n",
    "xgb.columns =['id', 'revenue']\n",
    "xgb.to_csv(r'xgb.csv',index = False)"
   ]
  },
  {
   "cell_type": "markdown",
   "metadata": {},
   "source": [
    "**LightBGM"
   ]
  },
  {
   "cell_type": "code",
   "execution_count": 55,
   "metadata": {},
   "outputs": [],
   "source": [
    "import lightgbm as lgb\n",
    "lgb_model = lgb.LGBMRegressor(objective='regression',num_leaves=1023,\n",
    "                              learning_rate=0.005, n_estimators=650,\n",
    "                              max_bin=58, bagging_fraction=0.80,max_depth=10,\n",
    "                              bagging_freq=5, feature_fraction=0.2319,\n",
    "                              feature_fraction_seed=9, bagging_seed=9,\n",
    "                              min_data_in_leaf=7, min_sum_hessian_in_leaf=11)\n"
   ]
  },
  {
   "cell_type": "code",
   "execution_count": 56,
   "metadata": {},
   "outputs": [
    {
     "name": "stdout",
     "output_type": "stream",
     "text": [
      "[LightGBM] [Warning] feature_fraction is set=0.2319, colsample_bytree=1.0 will be ignored. Current value: feature_fraction=0.2319\n",
      "[LightGBM] [Warning] min_data_in_leaf is set=7, min_child_samples=20 will be ignored. Current value: min_data_in_leaf=7\n",
      "[LightGBM] [Warning] min_sum_hessian_in_leaf is set=11, min_child_weight=0.001 will be ignored. Current value: min_sum_hessian_in_leaf=11\n",
      "[LightGBM] [Warning] bagging_fraction is set=0.8, subsample=1.0 will be ignored. Current value: bagging_fraction=0.8\n",
      "[LightGBM] [Warning] bagging_freq is set=5, subsample_freq=0 will be ignored. Current value: bagging_freq=5\n"
     ]
    },
    {
     "data": {
      "text/plain": [
       "2.0499625435308815"
      ]
     },
     "execution_count": 56,
     "metadata": {},
     "output_type": "execute_result"
    }
   ],
   "source": [
    "lgb_model.fit(X_train, y_train)\n",
    "lgb_pred = lgb_model.predict(X_val)\n",
    "lgb_rmse= mean_squared_error(y_val, lgb_pred, squared=False)\n",
    "lgb_rmse"
   ]
  },
  {
   "cell_type": "markdown",
   "metadata": {},
   "source": [
    "Fitting the entire dataset on the model"
   ]
  },
  {
   "cell_type": "code",
   "execution_count": 57,
   "metadata": {},
   "outputs": [
    {
     "name": "stdout",
     "output_type": "stream",
     "text": [
      "[LightGBM] [Warning] feature_fraction is set=0.2319, colsample_bytree=1.0 will be ignored. Current value: feature_fraction=0.2319\n",
      "[LightGBM] [Warning] min_data_in_leaf is set=7, min_child_samples=20 will be ignored. Current value: min_data_in_leaf=7\n",
      "[LightGBM] [Warning] min_sum_hessian_in_leaf is set=11, min_child_weight=0.001 will be ignored. Current value: min_sum_hessian_in_leaf=11\n",
      "[LightGBM] [Warning] bagging_fraction is set=0.8, subsample=1.0 will be ignored. Current value: bagging_fraction=0.8\n",
      "[LightGBM] [Warning] bagging_freq is set=5, subsample_freq=0 will be ignored. Current value: bagging_freq=5\n"
     ]
    }
   ],
   "source": [
    "lgb_model.fit(X, y)\n",
    "lgb_pred_full = lgb_model.predict(test)\n",
    "lgb_pred_full = np.exp(lgb_pred_full)\n",
    "rand_lgb = pd.DataFrame(lgb_pred_full)\n",
    "\n",
    "lgb = pd.concat([test[\"id\"],rand_lgb], axis =1)\n",
    "lgb.columns =['id', 'revenue']\n",
    "lgb.to_csv(r'lgb.csv',index = False)\n"
   ]
  },
  {
   "cell_type": "code",
   "execution_count": null,
   "metadata": {},
   "outputs": [],
   "source": []
  }
 ],
 "metadata": {
  "kernelspec": {
   "display_name": "Python 3",
   "language": "python",
   "name": "python3"
  },
  "language_info": {
   "codemirror_mode": {
    "name": "ipython",
    "version": 3
   },
   "file_extension": ".py",
   "mimetype": "text/x-python",
   "name": "python",
   "nbconvert_exporter": "python",
   "pygments_lexer": "ipython3",
   "version": "3.8.5"
  }
 },
 "nbformat": 4,
 "nbformat_minor": 4
}
